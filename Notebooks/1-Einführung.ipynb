{
  "cells": [
    {
      "cell_type": "markdown",
      "metadata": {
        "id": "rzaN3KPtjaDu"
      },
      "source": [
        "# Einführung: Jupyter Notebooks und Grundlegendes in Python\n",
        "\n",
        "Willkommen in Google Colab! \\\n",
        "Google Colab ist ein Cloud-basierter Dienst von Google, der es euch ermöglicht Jupyter Notebooks direkt in eurem Browser auszuführen und mit Teammitgliedern gemeinsam an einem Coding-Projekt zu arbeiten. Wir werden es benutzen, um unsere Lessons interaktiv und anschaulich zu gestalten. \\\n",
        "Jupyter Notebooks sind dabei das Mittel unserer Wahl, denn sie bieten die Möglichkeit Code, Text und Bilder in einem Dokument zu vereinen und Ergebnisse direkt im Dokument darstellen zu lassen - und das ohne eine Programmiersprache installieren und einrichten zu müssen! \\\n",
        "Was uns direkt zum letzten Punkt führt, bevor wir beginnen: Wir werden in diesem Kurs die Programmiersprache Python benutzen. Python ist eine vielseitige, hochgradig lesbare Programmiersprache, die in vielen Bereichen der Softwareentwicklung weit verbreitet ist. Python ist besonders in der Datenwissenschaft und im maschinellen Lernen die dominante Sprache, und zeichnet sich durch eine starke Unterstützung von externen Bibliotheken aus.\n",
        "\n",
        "## Ziele:\n",
        "In diesem Notebook wollen wir euch mit Jupyter Notebooks vertraut machen und euch die (wirklich grundlegendsten) Grundlagen von Python näher bringen. Das wird uns gut auf unsere nächste Lektion vorbereiten, in der wir uns an die Datenanalyse in Python heranwagen werden.\n",
        "\n"
      ]
    },
    {
      "cell_type": "markdown",
      "metadata": {
        "id": "iARACyxkrLL5"
      },
      "source": [
        "## 1. Zu Jupyter Notebooks:\n",
        "\n",
        "Jupyter ist eine Open-Source-Plattform, die es Nutzern ermöglicht, interaktive und reproduzierbare Computer-Notebooks zu erstellen und zu teilen. Der Name \"Jupyter\" ist ein Kofferwort, das sich aus den Namen der drei Hauptsprachen ableitet, die ursprünglich unterstützt wurden: Julia, Python und R. Jupyter bietet mehrere Services an wie Jupyter Notebooks, Jupyter Kernel, JupyterLab und JupyterHub. Für uns soll hier aber nur Jupyter Notebooks von Bedeutung sein.\n",
        "\n",
        "Ihr befindet euch bereits in eurem ersten Notebook. Notebooks sind zellbasiert, was bedeutet, dass Zellen einzeln nacheinander ausgeführt werden können. Es gibt zwei Arten von Zellen: Code- und Textzellen. Dieser Text ist in einer Textzelle verfasst worden und bedient sich einer Formatiersprache, die Markdown genannt wird. Das ist aber weniger wichtig.\n",
        "Die nächste Zelle ist ein Beispiel einer Codezelle."
      ]
    },
    {
      "cell_type": "code",
      "execution_count": null,
      "metadata": {
        "id": "IPfQKit1tAog"
      },
      "outputs": [],
      "source": [
        "# Dies ist eine Codezelle, die in Python verfasst ist. Dass es sich bei diesem Notebook um ein Notebook in der Programmiersprache\n",
        "# Python handelt, ist an der Endung des Notebooks (ipynb) zu sehen. Sie steht für interactive python notebook.\n",
        "# Diese Codezelle kann entweder mit der Tastenkombination (Shift + Enter) oder durch das Klicken des Pfeils am linken Zellrand ausgeführt\n",
        "# werden. In diesem Fall wird sie aber keinen Output zurückgeben. Der Grund dafür ist, dass der Text als Kommentar verfasst wurde,\n",
        "# was durch die Rauten am Anfang jeder Zeile erkennbar ist. Der Python-Interpreter ignoriert jede Zeile im Code, die so gekennzeichnet ist.\n",
        "# Dass eine Zelle erfolgreich (also ohne Fehlermeldung) ausgeführt wurde seht ihr am grünen Haken am linken Zellenrand. Darunter seht ihr\n",
        "# die Laufzeit, die die Ausführung der Zelle in Anspruch genommen hat."
      ]
    },
    {
      "cell_type": "markdown",
      "metadata": {
        "id": "pcCSbBMVvr87"
      },
      "source": [
        "Ihr könnt neue Zellen entweder durch das Klicken von '+ Code' oder '+ Text' am oberen oder unteren Zellrand einer bestehenden Zelle hinzufügen. Wenn ihr diese Zelle doppelt anklickt seht ihr wie der Texteditor aussieht. Ihr habt hier mehrere Möglichkeiten, euren Text durch ein\n",
        "\n",
        "<div>\n",
        "<img src=\"https://upload.wikimedia.org/wikipedia/commons/e/e3/Logo_BILD.svg\" width=\"200\"/>,\n",
        "</div>\n",
        "\n",
        "eine $F = ormel$,\n",
        "\n",
        "> tiefgründige Zitate,\n",
        "\n",
        "[Links](https://www.youtube.com/watch?v=BBJa32lCaaY)\n",
        "und vieles mehr anzureichern.\n",
        "\n",
        "Nun aber genug zu den Notebooks. Let's do some Python!"
      ]
    },
    {
      "cell_type": "markdown",
      "metadata": {
        "id": "qIa1YD1jiNOI"
      },
      "source": [
        "#2. Zu Python\n",
        "\n",
        "Im Folgenden werden wir grundlegende Konzepte in Python kennenlernen, die uns den gesamten Kurs über begleiten werden. Ihr seid ausdrücklich dazu eingeladen, mit dem Code herumzuexperimentieren, eigene Ideen auszuprobieren und so ein tieferes Verständnis zu entwickeln.\n",
        "Für einige weiterführende Ressourcen, um eure Python Grundkenntnisse zu verfeinern, könnt ihr die [offizielle Python Dokumentation](https://docs.python.org/3/tutorial/index.html) zu Rate ziehen (Wir empfehlen [hier](https://docs.python.org/3/tutorial/introduction.html) anzufangen). Gute Webseiten sind auch [Real Python](https://realpython.com) und das etwas anwendungsorientiertere [W3Schools](https://www.w3schools.com/python)."
      ]
    },
    {
      "cell_type": "markdown",
      "metadata": {
        "id": "xrLDQf5Tqsjg"
      },
      "source": [
        "## 2.1 Datentypen in Python\n",
        "In Python gibt es verschiedene grundlegende Datentypen: \\\n",
        "- Integer: Ganze Zahlen, z.B. `5`, `-3`\n",
        "- Float: Gleitkommazahlen, z.B. `3.14`, `-0.001`\n",
        "- String: Zeichenketten, z.B. `'Hallo'`, `'Python'`\n",
        "- List: Eine geordnete Sammlung von Werten, z.B. `[1, 2, 3]`, `['Apfel', 'Banane']`\n",
        "- Dictionary: Eine Sammlung von Schlüssel-Wert-Paaren, z.B. `{'Name': 'John', 'Alter': 25}`\n",
        "\n",
        "Wenn eine neue Variable eingeführt werden soll, muss man sie mit einem Gleichheitsszeichen zuweisen. Sie ist dann lokal unter dem zugewiesenen Namen mit einem bestimmten Wert und Datentyp gespeichert."
      ]
    },
    {
      "cell_type": "code",
      "execution_count": null,
      "metadata": {
        "colab": {
          "base_uri": "https://localhost:8080/"
        },
        "id": "QEnc5L941U6S",
        "outputId": "427ae0e4-4ee3-4980-93cb-4aa08cfe5181"
      },
      "outputs": [
        {
          "name": "stdout",
          "output_type": "stream",
          "text": [
            "Alter: 25\n",
            "Temperatur: 21.5\n",
            "Nachricht: Willkommen zu Python!\n",
            "Farben: ['Rot', 'Grün', 'Blau']\n",
            "Person: {'Name': 'Alice', 'Alter': 30, 'Beruf': 'Ingenieurin'}\n"
          ]
        }
      ],
      "source": [
        "# Beispiele für Datentypen\n",
        "\n",
        "# Integer\n",
        "alter = 25\n",
        "print('Alter:', alter)\n",
        "\n",
        "# Float\n",
        "temperatur = 21.5\n",
        "print('Temperatur:', temperatur)\n",
        "\n",
        "# String\n",
        "nachricht = 'Willkommen bei Python!'\n",
        "print('Nachricht:', nachricht)\n",
        "\n",
        "# List\n",
        "farben = ['Rot', 'Grün', 'Blau']\n",
        "print('Farben:', farben)\n",
        "\n",
        "# Dictionary\n",
        "person = {'Name': 'Alice', 'Alter': 30, 'Beruf': 'Ingenieurin'}\n",
        "print('Person:', person)\n"
      ]
    },
    {
      "cell_type": "markdown",
      "metadata": {
        "id": "IlyARcSs12Kt"
      },
      "source": [
        "Das `print()` statement sagt dem Interpreter einfach, dass was auch immer in den Klammern steht in die Konsole geschrieben werden soll, wo wir es sehen können. Der Datentyp einer Variable kann später unter bestimmten Umständen geändert werden. \\\n",
        "Mit Floats und Integers kann man ganz intuitiv Rechenoperationen wie Addition, Subtraktion, Division, Multiplikation und Potenzrechnung durchführen. Dafür sind die Operatoren\n",
        "- \\+ (Addition)\n",
        "- \\- (Subtraktion)\n",
        "- / (Division)\n",
        "- \\* (Multiplikation)\n",
        "- ** (Potenzierung)\n",
        "\n",
        "zu benutzen.\n",
        "\n",
        "Bei der Division ist zu beachten, dass die Division *Integer / Integer* als Output ein Float gibt. Wenn man als Output dennoch unbedingt einen Integer haben möchte, beispielsweise weil die Integers Vielfache voneinander sind, kann man den Operator '//' verwenden. **Achtung**: Dieser schneidet Nachkommastellen einfach ab!\n",
        "\n",
        "Schauen wir mal, wie einfache Arithmetik in Python aussieht:"
      ]
    },
    {
      "cell_type": "code",
      "execution_count": null,
      "metadata": {
        "colab": {
          "base_uri": "https://localhost:8080/"
        },
        "id": "GeNabIuTlerQ",
        "outputId": "dbad639c-f0a4-4b5b-a8c5-718f1e280d14"
      },
      "outputs": [
        {
          "name": "stdout",
          "output_type": "stream",
          "text": [
            "Addition: 13\n",
            "Subtraktion: 7\n",
            "Multiplikation: 30\n",
            "Division: 3.3333333333333335\n",
            "Potenzierung: 1000\n",
            "Trunkierte Division: 3\n"
          ]
        }
      ],
      "source": [
        "x = 10 # Ein Integer\n",
        "y = 3  # Auch ein Integer\n",
        "\n",
        "alpha = x + y     # Addition\n",
        "beta = x - y      # Subtraktion\n",
        "gamma = x * y     # Multiplikation\n",
        "delta = x / y     # Division\n",
        "epsilon = x ** y  # Potenzierung\n",
        "eta = x // y      # Trunkierte Division\n",
        "\n",
        "\n",
        "print('Addition:', alpha)\n",
        "print('Subtraktion:', beta)\n",
        "print('Multiplikation:', gamma)\n",
        "print('Division:', delta)\n",
        "print('Potenzierung:', epsilon)\n",
        "print('Trunkierte Division:', eta)\n"
      ]
    },
    {
      "cell_type": "markdown",
      "metadata": {
        "id": "hqkl2UiA5A2j"
      },
      "source": [
        "Der Datentyp einer Variable kann mit der Python-Funktion `type()` ermittelt werden. Lasst uns eben verifizieren, dass alle Operationen bis auf Division die Datentypen erhalten. Das machen wir mit der folgenden Zeile:"
      ]
    },
    {
      "cell_type": "code",
      "execution_count": null,
      "metadata": {
        "colab": {
          "base_uri": "https://localhost:8080/"
        },
        "id": "0yjeoUtD3MUV",
        "outputId": "fa1022e7-9e60-4644-d07f-c4cb53d1368a"
      },
      "outputs": [
        {
          "name": "stdout",
          "output_type": "stream",
          "text": [
            "<class 'int'>\n",
            "<class 'int'>\n",
            "<class 'int'>\n",
            "<class 'float'>\n",
            "<class 'int'>\n",
            "<class 'int'>\n"
          ]
        }
      ],
      "source": [
        "for number in [alpha, beta, gamma, delta, epsilon, eta]:\n",
        "  print(type(number))"
      ]
    },
    {
      "cell_type": "markdown",
      "metadata": {
        "id": "GKvvwcufi-f5"
      },
      "source": [
        "Was zu zeigen war. Et Voilà! Ganz nebenbei war das unsere erste `for`-Schleife! Wie man `for`-Schleifen erstellt und wozu man sie benutzt werden wir uns im nächsten Abschnitt genauer anschauen.\n",
        "\n",
        "## Aufgaben zu Datentypen:\n",
        "\n",
        "Aufgabe 1:\n",
        "\n",
        "- Erstelle eine Liste namens `einkaufsliste`, die 5 verschiedene Objekte enthält, die du im Supermarkt kaufen möchtest (z.B. Äpfel, Milch usw.). Gib die Liste aus.\n",
        "\n",
        "Aufgabe 2:\n",
        "\n",
        "- Erstelle ein Dictionary namens `student`, das folgende Informationen enthält: Name, Alter und Studiengang. Gib das Dictionary aus.\n",
        "\n",
        "Aufgabe 3:\n",
        "\n",
        "- Berechne die Fläche eines Rechtecks mit einer Länge von 5.5 und einer Breite von 3.2 und speichere das Ergebnis in einer Variablen `flaeche`. Gib das Ergebnis aus."
      ]
    },
    {
      "cell_type": "markdown",
      "metadata": {
        "id": "-JiZgaaZ88a9"
      },
      "source": [
        "## 2.2 Schleifen\n",
        "Schleifen werden verwendet, um Codeblöcke mehrfach auszuführen.\n",
        "Es gibt zwei wichtige Arten von Schleifen:\n",
        "\n",
        "- for-Schleife: Durchläuft eine Sequenz (z.B. eine Liste) und führt einen Codeblock für jedes Element in der Sequenz aus.\n",
        "- while-Schleife: Führt einen Codeblock aus, solange eine Bedingung erfüllt ist.\n",
        "\n",
        "Der allgemeine Syntax für eine `for`-Schleife lautet:\n",
        "\n",
        "\n",
        "```\n",
        "for element in iterable_array:\n",
        "   do operation(element)\n",
        "```\n",
        "\n",
        "Es braucht also zwei Zutaten für eine `for`-Schleife:\n",
        "\n",
        "1. Ein `iterable_array`, also einen Container, der Elemente enthält (wie beispielsweise eine Liste `[element1, element2, element3, ...]`), und\n",
        "2. Eine Operation, die ein einzelnes Element als Input nehmen kann (aber nicht muss).\n",
        "\n",
        "Die Einrückung des Inneren der Schleife ist übrigens sehr wichtig in Python und sagt dem Interpreter, dass der eingerückte Code nur im Rahmen der Schleife zu verstehen ist. Mit der Einrückung können viele Klammern, die in anderen Programmiersprachen auftauchen, vermieden werden. Als Einrückung wird jeder Whitespace ab zwei Leerzeichen interpretiert. Offiziell werden vier Leerzeichen als Einrückung für Schleifen empfohlen. Allerdings entsprechen vier Leerzeichen genau einem Tab, weswegen aus \"Effizienz\" viele Leute einfach einen Tab nehmen. Wichtig ist hier nur Konsistenz.\n",
        "\n",
        "Mit diesem Wissen über `for`-Schleifen können wir die vorherige Codezelle verstehen:\n",
        "Für jeden Eintrag `number` in unserer Liste `[alpha, beta, gamma, delta, epsilon, eta]`, führen wir folgende Operation aus: `print(type(number))`. Anstelle von `number` hätten wir jeden anderen Namen wählen können. Er ist nur ein Platzhalter, der im Rahmen der Ausführung der Schleife definiert ist und referenziert das aktuelle Element vorrübergehend unter diesem Variablennamen.\n",
        "\n",
        "Die Zweite wichtige Schleife ist eine `while`-Schleife. Hier ist eine einfache Implementierung, die bis fünf zählen kann."
      ]
    },
    {
      "cell_type": "code",
      "execution_count": null,
      "metadata": {
        "colab": {
          "base_uri": "https://localhost:8080/"
        },
        "id": "xp68Gmo037WH",
        "outputId": "b4631819-3649-401d-d385-c94a537f9fe2"
      },
      "outputs": [
        {
          "name": "stdout",
          "output_type": "stream",
          "text": [
            "Zähler: 1\n",
            "Zähler: 2\n",
            "Zähler: 3\n",
            "Zähler: 4\n",
            "Zähler: 5\n"
          ]
        }
      ],
      "source": [
        "count = 1\n",
        "while count < 6:\n",
        "    print('Zähler:', count)\n",
        "    count = count + 1  # Addiert 1 zu der Variable count (kürzer auch mit 'count += 1' erreichbar)"
      ]
    },
    {
      "cell_type": "markdown",
      "metadata": {
        "id": "Or_OCGhPDLBk"
      },
      "source": [
        "Eine `while`-Schleife braucht also ebenfalls zwei Zutaten:\n",
        "1. Eine Bedingung, hier `count < 6`\n",
        "2. Das Schleifeninnere, welches eine beliebige Operation sein kann.\n",
        "\n",
        "Solange die Bedingung erfüllt ist, wird also das Schleifeninnere ausgeführt.\n",
        "Es ist wichtig zu bedenken, dass `while`-Schleifen die Gefahr bergen, ein Programm zum Absturz zu bringen, wenn die Bedingung stets erfüllt ist und die innere Operation sehr rechenintensiv ist. Daher solltet ihr immer eine Abbruchbedingung definieren. Ein Counter ist eine solche gefahrlose Abbruchbedingung. Aber **Achtung**: Würdet ihr die letzte Zeile in der `while`-Schleife, welche den Counter erhöht, auskommentieren oder löschen dann wäre die Variable `count` immer = 1. Die Bedingung wäre damit immer erfüllt und die `while`-Schleife würde erst abbrechen, wenn das Universum eines langsamen Kältetodes stürbe...\n",
        "\n",
        "## Aufgaben zu Schleifen:\n",
        "\n",
        "Aufgabe 1:\n",
        "\n",
        "- Erstelle eine Liste mit den Zahlen von 1 bis 10. Schreibe eine for-Schleife, die jede Zahl aus der Liste ausgibt.\n",
        "\n",
        "Aufgabe 2:\n",
        "\n",
        "- Schreibe eine while-Schleife, die jede Quadratzahl unter 100 ausgibt.\n",
        "\n",
        "Aufgabe 3 (für Fortgeschrittene):\n",
        "\n",
        "- Schreibe eine for-Schleife, die durch eine Liste von Zeichenketten iteriert (z.B. [\"Hallo\", \"Python\", \"Schleifen\"]) und jede Zeichenkette rückwärts ausgibt."
      ]
    },
    {
      "cell_type": "markdown",
      "metadata": {
        "id": "R33bIRTCqfR3"
      },
      "source": [
        "## 2.3 If-Abfragen\n",
        "\n",
        "Eine weitere wichtige Funktion erfüllen `if`-Abfragen.\n",
        "Sie ermöglichen es, verschiedene Code-Blöcke auszuführen, je nachdem ob eine Bedingung erfüllt ist oder nicht. Eine Bedingung in Python ist ein Beispiel für eine Variable des Datentyps `Boolean`- sie ist entweder wahr oder falsch. Deswegen hat eine `Boolean`-Variable in Python entweder den Wert `True` oder `False`. Um solche Bedingungen für `if`-Abfragen zu nutzen, ist es nützlich zu wissen, welche Art von Bedingungen in Python existieren. Eine haben wir gerade schon gesehen, und zwar in der Form `count < 6`, welche den Wert `True`ergibt, wenn die Variable `count` kleiner als 6 ist, und ansonsten `False` zurückgibt. Bedingungen in Python sind:\n",
        "\n",
        "1. Größenvergleich\n",
        "- Größer als, größer gleich: `>`, `>=`\n",
        "- Kleiner als, kleiner gleich: `<`, `<=`\n",
        "2. Gleichheit\n",
        "- Gleichheit: `==`\n",
        "- Ungleichheit: `!=`\n",
        "3. Identitätsvergleich\n",
        "- `is`\n",
        "4. Mitgliedstest\n",
        "- `in`\n",
        "\n",
        "Keine Sorge! Erklärungen für Punkte 3 und 4 folgen.\n",
        "\n",
        "Es können verschiedene Bedingungen mit den logischen Operatoren `and`, `or` und `not` verknüpft werden. Schauen wir uns einige Beispiele an:\n",
        "\n"
      ]
    },
    {
      "cell_type": "code",
      "execution_count": null,
      "metadata": {
        "colab": {
          "base_uri": "https://localhost:8080/"
        },
        "id": "jgf_TEU5xgro",
        "outputId": "9aeadb6a-d497-41ed-dacd-4002615d568b"
      },
      "outputs": [
        {
          "name": "stdout",
          "output_type": "stream",
          "text": [
            "Wert von x_groesser_y:  True\n",
            "Datentyp von x_groesser_y:  <class 'bool'>\n",
            "\n",
            "\n",
            "Wert von y_groesser_x:  False\n",
            "Datentyp von y_groesser_x:  <class 'bool'>\n"
          ]
        }
      ],
      "source": [
        "x_groesser_y = x > y  # Boolean-Variable, die aussagt, ob x größer ist als y\n",
        "print('Wert von x_groesser_y: ', x_groesser_y)\n",
        "print('Datentyp von x_groesser_y: ', type(x_groesser_y))\n",
        "\n",
        "print('\\n') # Absatz\n",
        "\n",
        "y_groesser_x = y > x  # Boolean-Variable, die aussagt, ob y größer ist als x\n",
        "print('Wert von y_groesser_x: ', y_groesser_x)\n",
        "print('Datentyp von y_groesser_x: ', type(y_groesser_x))"
      ]
    },
    {
      "cell_type": "code",
      "execution_count": null,
      "metadata": {
        "colab": {
          "base_uri": "https://localhost:8080/"
        },
        "id": "-JllCYyLzmMI",
        "outputId": "c11bc90a-2db6-43c0-f26f-f279520bd29e"
      },
      "outputs": [
        {
          "name": "stdout",
          "output_type": "stream",
          "text": [
            "True\n"
          ]
        }
      ],
      "source": [
        "y_kleiner_x = y < x  # Boolean-Variable, die testet, ob y kleiner ist als x. Sollte gleich sein mit x_groesser_y.\n",
        "\n",
        "# Wir können testen, ob y_kleiner_x und x_groesser_y übereinstimmen, indem wir sie mit \"==\" auf Gleichheit überprüfen:\n",
        "my_bool = (y_kleiner_x == x_groesser_y)\n",
        "print(my_bool)"
      ]
    },
    {
      "cell_type": "code",
      "execution_count": null,
      "metadata": {
        "colab": {
          "base_uri": "https://localhost:8080/"
        },
        "id": "ZwZkBi3o0P0L",
        "outputId": "068de265-bd29-459a-8581-cd4d99844dc3"
      },
      "outputs": [
        {
          "name": "stdout",
          "output_type": "stream",
          "text": [
            "<class 'int'> <class 'float'>\n",
            "False\n"
          ]
        }
      ],
      "source": [
        "# Was passiert, wenn wir Integers und Floats auf Gleichheit prüfen?\n",
        "\n",
        "z = 5.0\n",
        "print(type(y), type(z))\n",
        "\n",
        "print(z == y)"
      ]
    },
    {
      "cell_type": "code",
      "execution_count": null,
      "metadata": {
        "colab": {
          "base_uri": "https://localhost:8080/"
        },
        "id": "GR4qm6WX038o",
        "outputId": "7d5a5824-be8f-4ea3-e903-7e59abf899b1"
      },
      "outputs": [
        {
          "name": "stdout",
          "output_type": "stream",
          "text": [
            "True\n",
            "False\n"
          ]
        }
      ],
      "source": [
        "# Mit dem Keyword 'is' können wir auch überprüfen, ob zwei Variablen identisch sind.\n",
        "a = 2\n",
        "b = a\n",
        "print(b is a)\n",
        "\n",
        "# Falls wir a neu zuweisen, bekommen wir ein anderes Ergebnis:\n",
        "a = 'Birne'\n",
        "print(b is a)"
      ]
    },
    {
      "cell_type": "code",
      "execution_count": null,
      "metadata": {
        "colab": {
          "base_uri": "https://localhost:8080/"
        },
        "id": "_N8WhVdJjw3o",
        "outputId": "da0008fe-2c22-43aa-da20-b8d6a5d7b388"
      },
      "outputs": [
        {
          "name": "stdout",
          "output_type": "stream",
          "text": [
            "True\n",
            "False\n"
          ]
        }
      ],
      "source": [
        "# Noch ist der Unterschied zwischen \"is\" und \"==\" ein wenig unklar. Das folgende Beispiel macht den Unterschied aber\n",
        "# sehr deutlich:\n",
        "y = 5\n",
        "z = 5.0\n",
        "print(z == y)\n",
        "print(z is y)"
      ]
    },
    {
      "cell_type": "markdown",
      "metadata": {
        "id": "KkSVTRsNYOrp"
      },
      "source": [
        "Offensichtlich prüft \"==\", ob zwei Objekte in irgendeinem zuvor definierten Sinn gleich sind (bei Zahlen z.B. im Betrag), während  \"is\"\n",
        "auf Identitätsgleichheit prüft. Das heißt kurz: ob beide Variablen auf den gleichen Ort im Speicher verweisen, also auf das gleiche Objekt zeigen. Da es sich hier um einen Integer\n",
        "und ein Float handelt, also um zwei verschiedene Objekte, werden sie vom Interpreter bei Zuweisung an verschiedenen Orten im Speicher\n",
        "hinterlegt. Wäre `z = 5`, so würde der Interpreter merken, dass bereits ein Integer mit gleichem Betrag existiert, nämlich `y`, und keinen neuen Speicherplatz zuweisen. Stattdessen würde er, sowohl wenn `z` als auch wenn `y` im Code verwendet wird, auf den gleichen Ort im Speicher zurückgreifen."
      ]
    },
    {
      "cell_type": "code",
      "execution_count": null,
      "metadata": {
        "colab": {
          "base_uri": "https://localhost:8080/"
        },
        "id": "Y5yfNZgZ1yFj",
        "outputId": "e7699533-0df4-477c-df0a-765f28ff606e"
      },
      "outputs": [
        {
          "name": "stdout",
          "output_type": "stream",
          "text": [
            "1:  True\n",
            "2:  False\n"
          ]
        }
      ],
      "source": [
        "# Mit dem Keyword 'in' können wir auf Mitgliedschaft in gängigen Python-Containern prüfen:\n",
        "my_list = [1, 2, 'Banane', True, 33.43]\n",
        "bool_1 = 'Banane' in my_list\n",
        "print('1: ', bool_1)\n",
        "\n",
        "bool_2 = 3.14 in my_list\n",
        "print('2: ', bool_2)"
      ]
    },
    {
      "cell_type": "code",
      "execution_count": null,
      "metadata": {
        "colab": {
          "base_uri": "https://localhost:8080/"
        },
        "id": "Q3Ixr8N5moMR",
        "outputId": "4d8dd861-3b30-4759-8204-0dbb3ba7a449"
      },
      "outputs": [
        {
          "name": "stdout",
          "output_type": "stream",
          "text": [
            "1 and 2:  False\n",
            "1 or 2:  True\n",
            "1 and not 2:  True\n",
            "not (1 and 2):  True\n",
            "not 1 and not 2:  False\n"
          ]
        }
      ],
      "source": [
        "# Weiterhin können wir Aussagen mit \"not\" verneinen, und mit logischem \"and\" und \"or\" beliebig kombinieren:\n",
        "bool_1_and_2 = bool_1 and bool_2\n",
        "print('1 and 2: ', bool_1_and_2)\n",
        "\n",
        "bool_1_or_2  = bool_1 or bool_2\n",
        "print('1 or 2: ', bool_1_or_2)\n",
        "\n",
        "bool_1_and_not_2 = bool_1 and not bool_2\n",
        "print('1 and not 2: ', bool_1_and_not_2)\n",
        "\n",
        "bool_not_1_and_2 = not (bool_1 and bool_2)\n",
        "print('not (1 and 2): ', bool_not_1_and_2)\n",
        "\n",
        "bool_not_1_and_not_2 = not bool_1 and not bool_2\n",
        "print('not 1 and not 2: ', bool_not_1_and_not_2)"
      ]
    },
    {
      "cell_type": "markdown",
      "metadata": {
        "id": "ZWsbqTd5HQ83"
      },
      "source": [
        "So! Das war eine längere, aber dennoch wichtige Exkursion zu Booleans in Python. Denn mit dem Wissen über Boolean-Vergleiche sind wir jetzt ausreichend bewaffnet, um `if`-Abfragen einzuführen. Der generelle Syntax für `if`-Abfragen sieht so aus:\n",
        "\n",
        "```\n",
        "if condition:\n",
        "   do operation\n",
        "```\n",
        "Ein Beispiel:"
      ]
    },
    {
      "cell_type": "code",
      "execution_count": null,
      "metadata": {
        "colab": {
          "base_uri": "https://localhost:8080/"
        },
        "id": "ujftXCCLH7MD",
        "outputId": "ee696aa4-7a1e-48b1-add1-05a7f52379e7"
      },
      "outputs": [
        {
          "name": "stdout",
          "output_type": "stream",
          "text": [
            "Es ist sehr heiß.\n"
          ]
        }
      ],
      "source": [
        "temperatur = 33\n",
        "\n",
        "if temperatur > 30:\n",
        "    print('Es ist sehr heiß.')"
      ]
    },
    {
      "cell_type": "markdown",
      "metadata": {
        "id": "FkyE8m_lKb2d"
      },
      "source": [
        "Manchmal ist man daran interessiert, mehrere Bedingungen abzufragen. Mit dem `elif`-Keyword kann man einen anderen Codeblock ausführen, wenn die vorherige Bedingung falsch ist, aber eine neue Bedingung wahr ist. Und mit dem `else`-Keyword kann man einen Codeblock ausführen, wenn keine der vorherigen Bedingungen erfüllt ist.\n",
        "\n",
        "In unserem Beispiel:"
      ]
    },
    {
      "cell_type": "code",
      "execution_count": null,
      "metadata": {
        "colab": {
          "base_uri": "https://localhost:8080/"
        },
        "id": "jYhIMz1GCreZ",
        "outputId": "7f43a851-148d-4303-c5e6-791ef570b5c1"
      },
      "outputs": [
        {
          "name": "stdout",
          "output_type": "stream",
          "text": [
            "Es ist kühl.\n"
          ]
        }
      ],
      "source": [
        "temperatur = 15\n",
        "\n",
        "if temperatur > 30:\n",
        "    print('Es ist sehr heiß.')\n",
        "elif temperatur > 20:\n",
        "    print('Es ist warm.')\n",
        "elif temperatur > 10:\n",
        "    print('Es ist kühl.')\n",
        "else:\n",
        "    print('Es ist kalt.')\n"
      ]
    },
    {
      "cell_type": "markdown",
      "metadata": {
        "id": "YZB57qfdcSyU"
      },
      "source": [
        "Wir sehen also, dass der erste Codeblock nicht ausgeführt wird, da die Temperatur weniger als 30 Grad beträgt. Da die erste Bedingung nicht wahr ist, wird durch das `elif`-Statement die zweite Bedingung geprüft. Da auch diese nicht wahr ist, wird nun die dritte geprüft, welche `True` zurückgibt. Da eine der vorherigen Bedingungen wahr ist, wird das `else`-Statement nicht ausgeführt. Ändere die Variable `temperatur`und schaue, ob du die Ausgabe vorhersagen kannst.\n",
        "\n",
        "## Aufgaben zu if-Abfragen:\n",
        "\n",
        "Aufgabe 1:\n",
        "\n",
        "- Schreibe Code, der die Variable `note` überprüft:\n",
        "Wenn `note` größer oder gleich 90 ist, soll das Programm \"Sehr gut\" ausgeben.\n",
        "Wenn `note` zwischen 80 und 89 (beides inklusive) ist, soll das Programm \"Gut\" ausgeben.\n",
        "Wenn `note` zwischen 70 und 79 (beides inklusive) ist, soll das Programm \"Befriedigend\" ausgeben.\n",
        "Andernfalls soll das Programm \"Nicht bestanden\" ausgeben.\n",
        "\n",
        "Aufgabe 2:\n",
        "\n",
        "- Schreibe ein Programm, das überprüft, ob eine vom User eingegebene Zahl positiv, negativ oder null ist, und die entsprechende Ausgabe anzeigt.\n",
        "Siehe dazu [hier](https://www.w3schools.com/python/ref_func_input.asp) nach, wie man in Python User-Input abfragen kann. (Tipp: Die Funktionen `int()` oder `float()` könnten für diese Aufgabe nützlich sein. Wenn du nicht weiter kommst, schau dir erst die nächste Lektion an und versuche es dann nochmal.)"
      ]
    },
    {
      "cell_type": "markdown",
      "metadata": {
        "id": "IsYk28ERazQQ"
      },
      "source": [
        "## 2.4 Funktionen\n",
        "Kommen wir zu nun zu etwas leicht Fortgeschrittenerem, was Programmiersprachen erst richtig nützlich macht: Funktionen. Nehmen wir an, dass wir einen Satz Messwerte haben, dessen Mittelwert wir bestimmen wollen. Das würden wir vielleicht folgendermaßen machen:"
      ]
    },
    {
      "cell_type": "code",
      "execution_count": null,
      "metadata": {
        "colab": {
          "base_uri": "https://localhost:8080/"
        },
        "id": "KqGxvggSHBRs",
        "outputId": "0f671d39-1bfc-4975-ce91-a334d5dbbfa0"
      },
      "outputs": [
        {
          "name": "stdout",
          "output_type": "stream",
          "text": [
            "Mittelwert:  0.9285714285714286\n"
          ]
        }
      ],
      "source": [
        "messwerte = [0.1, 2.3, -0.3, 0.9, 1.2, 1.2, 1.1]\n",
        "\n",
        "anzahl_messwerte = 0\n",
        "summe = 0\n",
        "\n",
        "for wert in messwerte:\n",
        "    summe += wert\n",
        "    anzahl_messwerte += 1\n",
        "\n",
        "mittelwert = summe / anzahl_messwerte\n",
        "print('Mittelwert: ', mittelwert)"
      ]
    },
    {
      "cell_type": "markdown",
      "metadata": {
        "id": "IcQkG5GPkUgs"
      },
      "source": [
        "Angenommen jeder Satz Messwerte gehört zu genau einem Bauteil, das wir untersuchen und wir möchten viele Bauteile vergleichen. Dann könnten wir den gleichen Prozess auch für alle anderen Bauteile machen:"
      ]
    },
    {
      "cell_type": "code",
      "execution_count": null,
      "metadata": {
        "colab": {
          "base_uri": "https://localhost:8080/"
        },
        "id": "MsnG8KQKkxAJ",
        "outputId": "470319ba-9d5b-4d92-f9d8-5363eab4f306"
      },
      "outputs": [
        {
          "name": "stdout",
          "output_type": "stream",
          "text": [
            "Mittelwert Teil 1:  0.9285714285714286\n",
            "Mittelwert Teil 2:  0.6714285714285715\n",
            "Mittelwert Teil 3:  0.5857142857142856\n"
          ]
        }
      ],
      "source": [
        "messwerte_teil_1 = [0.1, 2.3, -0.3, 0.9, 1.2, 1.2, 1.1]\n",
        "messwerte_teil_2 = [0.7, 0.1, 1.2, 0.9, 0.8, 0.0, 1.0]\n",
        "messwerte_teil_3 = [-0.2, 1.3, 0.6, 0.7, 0.2, 1.4, 0.1]\n",
        "\n",
        "### Mittelwertbestimmung Bauteil 1\n",
        "anzahl_messwerte_teil_1 = 0\n",
        "summe_teil_1 = 0\n",
        "\n",
        "for wert in messwerte_teil_1:\n",
        "    summe_teil_1 += wert\n",
        "    anzahl_messwerte_teil_1 += 1\n",
        "\n",
        "mittelwert_teil_1 = summe_teil_1 / anzahl_messwerte_teil_1\n",
        "\n",
        "\n",
        "### Mittelwertbestimmung Bauteil 2\n",
        "anzahl_messwerte_teil_2 = 0\n",
        "summe_teil_2 = 0\n",
        "\n",
        "for wert in messwerte_teil_2:\n",
        "    summe_teil_2 += wert\n",
        "    anzahl_messwerte_teil_2 += 1\n",
        "\n",
        "mittelwert_teil_2 = summe_teil_2 / anzahl_messwerte_teil_2\n",
        "\n",
        "\n",
        "### Mittelwertbestimmung Bauteil 3\n",
        "anzahl_messwerte_teil_3 = 0\n",
        "summe_teil_3 = 0\n",
        "\n",
        "for wert in messwerte_teil_3:\n",
        "    summe_teil_3 += wert\n",
        "    anzahl_messwerte_teil_3 += 1\n",
        "\n",
        "mittelwert_teil_3 = summe_teil_3 / anzahl_messwerte_teil_3\n",
        "\n",
        "\n",
        "print('Mittelwert Teil 1: ', mittelwert_teil_1)\n",
        "print('Mittelwert Teil 2: ', mittelwert_teil_2)\n",
        "print('Mittelwert Teil 3: ', mittelwert_teil_3)"
      ]
    },
    {
      "cell_type": "markdown",
      "metadata": {
        "id": "mBegYRAxl4g6"
      },
      "source": [
        "Wie ihr seht wird der Code dann aber schnell sehr unübersichtlich und wir haben all diese Hilfsvariablen, die uns Speicherplatz wegnehmen, obwohl wir sie nur einmal gebraucht haben. Wenn man also eine Berechnung oft durchführt, lohnt es sich Funktionen zu definieren.\n",
        "Funktionen helfen dabei, Code modular und wiederverwendbar zu gestalten. Eine Funktion wird einmalig definiert und kann dann bei Bedarf aufgerufen werden. Der Syntax für die Definition einer Funktion lautet so:\n",
        "\n",
        "```\n",
        "def my_function(argument1, argument2, ...):\n",
        "    do operation\n",
        "    return result\n",
        "```\n",
        "Die Funktion bekommt also einen Input, hier `argument1, argument2, ...`, macht eine Operation mit dem Input und gibt einen Output, hier `result`, zurück. Eine Funktionsdefinition wird mit dem `def`-Keyword eingeleitet. Wichtig ist auch der Doppelpunkt hinter den Klammern! Variablen, die in der Funktion definiert werden, sind außerhalb der Funktion nicht verfügbar. Es wird lediglich das zurückgegeben, was hinter dem `return`-Statement steht. Das bedeutet auch, dass wir mit Funktionen Speicherplatz sparen können.\n",
        "\n",
        "Für unser Beispiel können wir also eine Mittelwertsfunktion definieren:"
      ]
    },
    {
      "cell_type": "code",
      "execution_count": null,
      "metadata": {
        "id": "lmpDHWEkoib2"
      },
      "outputs": [],
      "source": [
        "def mittelwert(array):\n",
        "  summe = 0\n",
        "  anzahl = 0\n",
        "\n",
        "  for wert in array:\n",
        "    summe += wert\n",
        "    anzahl += 1\n",
        "\n",
        "  return summe/anzahl"
      ]
    },
    {
      "cell_type": "code",
      "execution_count": null,
      "metadata": {
        "colab": {
          "base_uri": "https://localhost:8080/"
        },
        "id": "M4IfrjSso8Pd",
        "outputId": "a139f107-a0f3-406b-d4b6-9b1748924e7c"
      },
      "outputs": [
        {
          "name": "stdout",
          "output_type": "stream",
          "text": [
            "Mittelwert Teil 1:  0.9285714285714286\n",
            "Mittelwert Teil 2:  0.6714285714285715\n",
            "Mittelwert Teil 3:  0.5857142857142856\n"
          ]
        }
      ],
      "source": [
        "# Nun lässt sich unser Code wesentlich kürzer schreiben, indem wir einfach dreimal die Funktion aufrufen:\n",
        "\n",
        "messwerte_teil_1 = [0.1, 2.3, -0.3, 0.9, 1.2, 1.2, 1.1]\n",
        "messwerte_teil_2 = [0.7, 0.1, 1.2, 0.9, 0.8, 0.0, 1.0]\n",
        "messwerte_teil_3 = [-0.2, 1.3, 0.6, 0.7, 0.2, 1.4, 0.1]\n",
        "\n",
        "print('Mittelwert Teil 1: ', mittelwert(messwerte_teil_1))\n",
        "print('Mittelwert Teil 2: ', mittelwert(messwerte_teil_2))\n",
        "print('Mittelwert Teil 3: ', mittelwert(messwerte_teil_3))"
      ]
    },
    {
      "cell_type": "markdown",
      "metadata": {
        "id": "jlWZbwHZnDxU"
      },
      "source": [
        "## Aufgaben zu Funktionen:\n",
        "\n",
        "Aufgabe 1:\n",
        "\n",
        "- Schreibe eine Funktion `addiere`, die zwei Zahlen als Parameter entgegennimmt und die Summe dieser beiden Zahlen zurückgibt.\n",
        "\n",
        "Aufgabe 2:\n",
        "\n",
        "- Schreibe eine Funktion `ist_gerade`, die überprüft, ob eine Zahl gerade oder ungerade ist. Wenn die Zahl gerade ist, soll die Funktion `True` zurückgeben, andernfalls `False`. (Hierbei könnte folgender [Link](https://www.codecademy.com/resources/docs/python/modulo) von Nutzen sein)\n",
        "\n",
        "Aufgabe 3:\n",
        "\n",
        "- Schreibe eine Funktion `begruesse, die den Namen einer Person als Parameter nimmt und die Nachricht \"Hallo, [Name]!\" ausgibt."
      ]
    },
    {
      "cell_type": "markdown",
      "metadata": {
        "id": "ojUeKWvcX54r"
      },
      "source": [
        "Zu guter Letzt wollen wir uns einem weiteren wichtigen Konzept widmen, das Programmieren noch modularer, übersichtlicher und kollaborativer macht: Module.\n",
        "\n",
        "## 2.5 Module\n",
        "Ein Modul in Python ist einfach eine Datei, die Python-Code enthält. Sie kann Funktionen, Variablen und Klassen (die werden wir später noch einführen) definieren, die in anderen Programmen wiederverwendet werden können. Module helfen dabei, den Code zu organisieren, wiederverwendbar zu machen und lesbarer zu gestalten, indem Sie den Code in kleinere, logisch zusammenhängende Teile zerlegen. Wenn ein Programm komplexer wird, kann man verschiedene Module für verschiedene Zwecke erstellen und diese je nach Bedarf importieren.\n",
        "Schauen wir uns ein Beispiel an, in dem wir das Modul `math` importieren, um auf die Funktion `sqrt`zuzugreifen, die wir ansonsten selbst definieren müssten:"
      ]
    },
    {
      "cell_type": "code",
      "execution_count": null,
      "metadata": {
        "id": "o3G6pWw4HEDH"
      },
      "outputs": [],
      "source": [
        "# Import eines Moduls und Nutzung\n",
        "import math  # Import des math Moduls\n",
        "\n",
        "wurzel = math.sqrt(16)  # Nutzung einer Funktion aus dem math Modul\n",
        "print('Quadratwurzel von 16 ist:', wurzel)"
      ]
    },
    {
      "cell_type": "markdown",
      "metadata": {
        "id": "yAiuSRwsgjWx"
      },
      "source": [
        "Ein Modul wird also mit dem `import`-Statement + Modulnamen importiert. Auf alle Funktionen und Variablen, die in dem Modul definiert wurden, können wir dann zugreifen, indem wir den Modulnamen voransetzen, wie bei `math.sqrt()`.\n",
        "\n",
        "Weiterhin können wir unsere importierten Module unter einem bestimmten Namen, oder Alias, importieren. Das legen wir mit dem Keyword `as` fest, auf welches der Name folgt, den wir an das Modul vergeben wollen."
      ]
    },
    {
      "cell_type": "code",
      "execution_count": null,
      "metadata": {
        "id": "lUd7CDMUxQP-"
      },
      "outputs": [],
      "source": [
        "# Import eines Moduls mit Alias\n",
        "import numpy as np\n",
        "\n",
        "array = np.array([1, 2, 3, 4])\n",
        "print('Numpy Array:', array)"
      ]
    },
    {
      "cell_type": "markdown",
      "metadata": {
        "id": "_rwxmb6ZxpGl"
      },
      "source": [
        " Module werden in aller Regel aus dem Internet geladen und müssen zuvor installiert werden. Bei Jupyter werden allerdings viele Module bereitgestellt, ohne irgendetwas tun zu müssen. Welche Funktionen ein Modul bereitstellt wird zumeist auf einer eigens eingerichteten Website dargestellt. [Hier](https://docs.python.org/3/library/math.html) zum Beispiel seht ihr eine Liste aller Funktionen, die in dem `math`-Modul enthalten sind.\n",
        "\n",
        "## Aufgaben zu Modulen:\n",
        "\n",
        "Bei diesen Aufgaben kann eine Internetsuche sinnvoll sein, um Wissenslücken zu füllen.\n",
        "\n",
        "Aufgabe 1:\n",
        "\n",
        "- Importiere das math-Modul und berechne die Quadratwurzel von 50737129.\n",
        "\n",
        "Aufgabe 2:\n",
        "\n",
        "- Importiere das random-Modul und verwende es, um eine zufällige Zahl zwischen 1 und 100 zu generieren und auszugeben.\n",
        "\n",
        "Aufgabe 3:\n",
        "\n",
        "- Verwende das datetime-Modul, um das aktuelle Datum und die Uhrzeit auszugeben."
      ]
    },
    {
      "cell_type": "markdown",
      "metadata": {
        "id": "u-4OgevZo0kA"
      },
      "source": [
        "# Hausaufgabe:\n",
        "\n",
        "Stell dir vor, du möchtest eine kleine Anwendung schreiben, die einem Benutzer hilft, den Inhalt seines Kühlschranks zu verwalten.\n",
        "\n",
        "Erstelle ein Dictionary namens `kuehlschrank`, in dem die Namen von Lebensmitteln die Schlüssel und die Anzahl der verfügbaren Einheiten die Werte sind. Zum Beispiel:"
      ]
    },
    {
      "cell_type": "code",
      "execution_count": null,
      "metadata": {
        "id": "XQgIpgHHowB1"
      },
      "outputs": [],
      "source": [
        "kuehlschrank = {\n",
        "    \"Milch\": 2,\n",
        "    \"Eier\": 12,\n",
        "    \"Käse\": 1\n",
        "}"
      ]
    },
    {
      "cell_type": "markdown",
      "metadata": {
        "id": "9XKBiPSaoRh4"
      },
      "source": [
        "- Schreibe eine Funktion `zeige_inhalt`, die den Inhalt des Kühlschranks anzeigt. Jedes Lebensmittel soll mit der Anzahl seiner Einheiten angezeigt werden.\n",
        "- Schreibe eine Funktion `hinzufuegen`, die ein Lebensmittel und eine Anzahl als Parameter entgegennimmt und diese zum Kühlschrank hinzufügt. Wenn das Lebensmittel bereits im Kühlschrank ist, soll die Anzahl der Einheiten entsprechend erhöht werden.\n",
        "- Schreibe eine Funktion `entfernen`, die ein Lebensmittel und eine Anzahl als Parameter entgegennimmt und diese Menge vom Kühlschrank abzieht. Wenn die Anzahl der Einheiten eines Lebensmittels 0 erreicht, soll das Lebensmittel aus dem Kühlschrank entfernt werden\n",
        "- Füge eine Bedingung hinzu, die überprüft, ob ein Lebensmittel überhaupt im Kühlschrank vorhanden ist, bevor du es entfernst.\n",
        "- Verwende eine Schleife, die dem Benutzer ermöglicht, so lange Lebensmittel hinzuzufügen, zu entfernen oder einzusehen, bis er \"stop\" eingibt.\n",
        "\n",
        "Hinweise:\n",
        "\n",
        "- Verwende input()-Befehle, um den Benutzer nach Lebensmitteln und Mengen zu fragen sowie für die Befehle „hinzufügen“, „entfernen“ und „inhalt“.\n",
        "- Schreibe eine while-Schleife, die wiederholt Aktionen vom Benutzer entgegennimmt, bis dieser „stop“ eingibt.\n",
        "- Bedenke: Der Benutzer sollte nur sinnvolle Mengen hinzufügen oder entfernen können. Vermeide z.B. negative Mengen oder die Eingabe von Text anstelle von Zahlen.\n",
        "\n",
        "\n",
        "Zusätzliche Herausforderung:\n",
        "\n",
        "- Füge eine Funktion hinzu, die dem Benutzer sagt, wenn ein bestimmtes Lebensmittel zur Neige geht (z.B. wenn weniger als 2 Einheiten vorhanden sind)."
      ]
    }
  ],
  "metadata": {
    "colab": {
      "collapsed_sections": [
        "GKvvwcufi-f5"
      ],
      "provenance": []
    },
    "kernelspec": {
      "display_name": "Python 3",
      "name": "python3"
    },
    "language_info": {
      "name": "python"
    }
  },
  "nbformat": 4,
  "nbformat_minor": 0
}
