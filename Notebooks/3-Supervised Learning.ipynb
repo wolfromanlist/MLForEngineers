{
 "cells": [
  {
   "cell_type": "markdown",
   "metadata": {},
   "source": [
    "# Einführung in Supervised Learning\n",
    "\n",
    "In diesem Notebook werden die Grundlagen des Supervised Learning eingeführt, welches einen der zentralen Ansätze im Machine Learning bildet. Du erfährst, was Supervised Learning ist, für welche Art von Problemen es eingesetzt wird und wirst anhand eines Beispiels eine Intuition für diese Methode entwickeln.\n",
    "\n",
    "### Lernziele\n",
    "Am Ende des Notebooks kannst du:\n",
    "- den Begriff **Supervised Learning** verständlich erklären und von **Unsupervised Learning** abgrenzen,\n",
    "- die Begriffe **Klassifikation** und **Regression** unterscheiden und ihre typische Anwendungsfälle benennen,\n",
    "- nachvollziehen, wie Modelle aus Daten lernen, indem sie Fehler minimieren,\n",
    "- ein geeignetes Problem mittels **linearer Regression** mit `scikit-learn` lösen\n",
    "\n",
    "Dieses Wissen bildet die Grundlage für die folgenden Kapitel, in denen du Klassifikationsmodelle wie **Logistische Regression** und **Random Forests** selbst implementieren und anwenden wirst. Also, los geht's!\n",
    "\n",
    "## Was ist Supervised Learning?\n",
    "\n",
    "Supervised Learning ist ein Sammelbegriff für Modelle, die mit _beschrifteten Daten_ trainiert werden. Das sind Daten, bei denen für jede Eingabe ($X$) bereits das zugehörige Ergebnis ($y$) bekannt ist. Das Ziel ist eines Supervised Learning-Modells ist es, aus den Daten eine Funktion zu erstellen, die _neuen, unbekannten_ Eingaben eine gute Vorhersage zuordnen kann. Die Qualität dieser Vorhersagen hängt von der Menge und der Qualität der zur Verfügung stehenden Daten ab.\n",
    "\n",
    "Ein Supervised-Learning-Problem besteht demnach aus zwei Hauptbestandteilen:\n",
    "1. **Eingabedaten** $X$ – die Merkmale (oder _Features_), die das Modell erhält, um eine Vorhersage zu treffen.\n",
    "2. **Zielvariable** $y$ – das Ergebnis (oder _Label_), das wir mit Hilfe der Eingabedaten vorhersagen wollen.\n",
    "\n",
    "### Beispiele für Supervised Learning\n",
    "\n",
    "- **Vorhersage des Preises** eines Hauses basierend auf dessen Fläche, Standort und Anzahl der Zimmer. \n",
    "- **Klassifizierung von E-Mails** in „Spam“ oder „Nicht-Spam“ basierend auf dem Inhalt und der Struktur der Nachricht.\n",
    "- **Vorhersage des Produktionsausstoßes** basierend auf Maschineneinstellungen und Umgebungsfaktoren.\n",
    "\n",
    "### Supervised Learning: Typen\n",
    "\n",
    "Die Beispiele oben enthalten schond die zwei grundlegenden Typen des Supervised Learning: **Regression** und **Klassifikation**.\n",
    "\n",
    "1. **Regression**: Bei einer Regressionsaufgabe wird eine **kontinuierliche Zielvariable** vorhergesagt. Das Ziel ist es, eine Funktion zu finden, die die Eingabewerte in kontinuierliche Werte überführt. Ein Beispiel ist die Vorhersage des Aktienkurses oder der Temperatur.\n",
    "  \n",
    "2. **Klassifikation**: Bei einer Klassifikationsaufgabe wird eine **diskrete Zielvariable** vorhergesagt. Hierbei handelt es sich um eine festgelegte Anzahl an Klassen, und das Ziel ist es, die Eingabe in eine dieser Klassen zuzuordnen. Ein Beispiel ist die Kategorisierung von Bildern in „Hund“, „Katze“ oder „Pferd“."
   ]
  },
  {
   "cell_type": "markdown",
   "metadata": {},
   "source": [
    "# Lineare Regression\n",
    "Bevor wir uns in einem zweiten Notebook der Klassifikation zuwenden, starten wir mit der Regression – also mit Vorhersagen kontinuierlicher Werte. Der Grund: Viele der zentralen Ideen des Supervised Learning wie **Modellierung**, **Fehlerminimierung** und **Trainingsprinzipien** lassen sich an Regressionsaufgaben besonders gut erklären.\n",
    "\n",
    "Wir konzentrieren uns dabei auf das einfachste Regressionsmodell: die **lineare Regression**.\n",
    "Anhand der linearen Regression lernen wir, die drei Zutaten zu verstehen, die für ein Regressionsmodell notwendig sind:\n",
    "\n",
    "- 1. Das Modell der Vorhersage zu formulieren,\n",
    "- 2. Den Fehler der Vorhersage zu quantifizieren,\n",
    "- 3. Den Fehler der Vorhersage zu minimieren.\n",
    "\n",
    "Anschließend setzen wir ein einfaches Beispiel mit `scikit-learn` um, um den gesamten Ablauf praktisch nachzuvollziehen.\n",
    "\n",
    "Diese Grundlagen helfen dir im zweiten Notebook, die **logistische Regression** für Klassifikationsprobleme besser zu verstehen – denn sie basiert auf dem gleichen Rezept, verwendet jedoch andere Zutaten.\n",
    "\n",
    "## Was ist lineare Regression?\n",
    "\n",
    "Die lineare Regression ist eines der grundlegendsten Modelle im Supervised Learning. Sie dient dazu, eine **lineare Beziehung** zwischen einer oder mehreren Eingabegrößen (*Features*) und einer Zielgröße (*Label*) zu modellieren. Die Idee: Finde eine Gerade, die möglichst gut durch die gegebenen Datenpunkte passt.\n",
    "\n",
    "### Zutat 1: Das Modell - Die Gerade\n",
    "\n",
    "Im linearen Fall (mit nur einem Feature) sieht das Modell also so aus:\n",
    "\n",
    "$$\n",
    "\\hat{y} = w \\cdot x + b\n",
    "$$\n",
    "\n",
    "* $x$: Eingabewert (z. B. die Fläche eines Hauses)\n",
    "* $\\hat{y}$: vorhergesagter Zielwert (z. B. der Hauspreis)\n",
    "* $w$: Gewicht (Steigung der Geraden)\n",
    "* $b$: Bias (Achsenabschnitt)\n",
    "\n",
    "Ziel ist es, die Parameter $w$ und $b$ so zu wählen, dass die Gerade möglichst gut zu den vorhandenen Daten passt.\n",
    "\n",
    "<center><img src=\"https://miro.medium.com/v2/resize:fit:922/1*_qoaFqMVgjstmtJNp-zNrw.png\"></center>\n",
    "\n",
    "**Achtung:**\n",
    "Es sollte klar sein, dass die Annahme einer linearen Beziehung zwischen den Features und dem Label nicht immer gerechtfertigt ist. Beispielsweise ist der Zusammenhang zwischen der Außentemperatur und dem Stromverbrauch **nicht linear** – bei sehr niedrigen **und** sehr hohen Temperaturen steigt der Verbrauch, während er in einem mittleren Bereich eher konstant bleibt. In solchen Fällen kann ein lineares Modell die Realität **nur unzureichend abbilden**, und komplexere Modelle wie Polynomregressionen oder nichtlineare Verfahren (z. B. Entscheidungsbäume oder neuronale Netze) sind besser geeignet.\n",
    "\n",
    "### Zutat 2: Die Verlustfunktion - Der Mean Squared Error\n",
    "\n",
    "Damit das Modell „lernt“, brauchen wir ein Maß dafür, wie gut (oder schlecht) eine bestimmte Wahl von $w$ und $b$ ist. Dafür verwenden wir eine **Verlustfunktion**. Bei der linearen Regression ist das typischerweise der **mittlere quadratische Fehler (Mean Squared Error, MSE)**:\n",
    "\n",
    "$$\n",
    "\\text{MSE} = \\frac{1}{n} \\sum_{i=1}^{n} (y_i - \\hat{y}_i)^2\n",
    "$$\n",
    "\n",
    "* $y_i$: tatsächlicher Zielwert\n",
    "* $\\hat{y}_i$: vorhergesagter Zielwert ($w \\cdot x + b$)\n",
    "* $n$: Anzahl der Trainingsbeispiele\n",
    "\n",
    "Die Funktion misst die Abweichung zwischen den Vorhersagen des Modells ($\\hat{y}_i$) und den wirklichen Werten ($y_i$), quadriert diese Abweichung und summiert sie über alle Trainingsdaten. Die Funktion ist durch die Quadrierung immer größer als 0 und wird nur 0, wenn die Vorhersage in jedem Punkt mit dem richtigen Wert übereinstimmt.\n",
    "Durch die Quadrierung wiegen kleine Fehler übrigens auch weniger als große Fehler, beziehungsweise: Ausreißer dominieren den MSE-Fehler.\n",
    "\n",
    "**Praktische Übung:**\n",
    "In der Folgenden Zelle kannst du ein Gefühl dafür bekommen, wie die MSE-Funktion funktioniert. Führe die Zelle aus und benutze die Slider, um einen möglichst geringen MSE-Wert zu erreichen. Kannst du dir vorstellen, warum der geringste MSE-Wert nicht exakt bei den \"richtigen\" Parameterwerten ($w=2$, $b=1$) erreicht wird?\n",
    "\n",
    "**Weiterführende Aufgabe:**\n",
    "Füge im Code einen zusätzlichen Ausreißer-Datenpunkt hinzu und beobachte, wie sich der MSE-Wert verändert. Beschreibt die Gerade mit dem geringsten Verlust die Datenpunkte immer noch gut?"
   ]
  },
  {
   "cell_type": "code",
   "execution_count": null,
   "metadata": {},
   "outputs": [
    {
     "data": {
      "application/vnd.jupyter.widget-view+json": {
       "model_id": "f484540eed18487ea8c609eb5564cab8",
       "version_major": 2,
       "version_minor": 0
      },
      "text/plain": [
       "HBox(children=(FloatSlider(value=0.0, description='b', max=4.0, min=-1.0), FloatSlider(value=1.0, description=…"
      ]
     },
     "metadata": {},
     "output_type": "display_data"
    },
    {
     "data": {
      "application/vnd.jupyter.widget-view+json": {
       "model_id": "91618ddef7fb4f098cdd6494439f31de",
       "version_major": 2,
       "version_minor": 0
      },
      "text/plain": [
       "Output()"
      ]
     },
     "metadata": {},
     "output_type": "display_data"
    }
   ],
   "source": [
    "!git clone https://github.com/wolfromanlist/MLForEngineers.git\n",
    "%cd MLForEngineers/Notebooks/\n",
    "\n",
    "import numpy as np\n",
    "import plotly.graph_objects as go\n",
    "import ipywidgets as widgets\n",
    "from IPython.display import display, clear_output\n",
    "\n",
    "from google.colab import output\n",
    "output.enable_custom_widget_manager()\n",
    "\n",
    "# Daten vorbereiten\n",
    "generator = np.random.default_rng(2948292983384)\n",
    "x = np.linspace(0, 20, 20)\n",
    "y_real = 2 * x + 1 + 10 * (generator.random((1, 20)) - 0.5)\n",
    "y_real = y_real.flatten()\n",
    "\n",
    "def my_line(w, b, x):\n",
    "    return w * x + b\n",
    "\n",
    "def mse(y_real, y_predicted):\n",
    "    return 1 / len(y_real) * np.sum((y_real - y_predicted) ** 2)\n",
    "\n",
    "# Initiale Werte\n",
    "init_w = 1.0\n",
    "init_b = 0.0\n",
    "\n",
    "# Sliders\n",
    "w_slider = widgets.FloatSlider(value=init_w, min=1, max=4, step=0.1, description=\"w\")\n",
    "b_slider = widgets.FloatSlider(value=init_b, min=-1, max=4, step=0.1, description=\"b\")\n",
    "output = widgets.Output()\n",
    "\n",
    "def update(change=None):\n",
    "    with output:\n",
    "        clear_output(wait=True)\n",
    "        w = w_slider.value\n",
    "        b = b_slider.value\n",
    "        fig = go.Figure()\n",
    "        fig.add_trace(go.Scatter(x=x, y=y_real, mode='markers', name='Daten'))\n",
    "        fig.add_trace(go.Scatter(x=x, y=my_line(w, b, x), mode='lines', name='Linie', line=dict(color='blue')))\n",
    "        fig.update_layout(\n",
    "            title={\"text\": f\"MSE: {mse(y_real, my_line(w, b, x)):.2f}\", \"x\": 0.5},\n",
    "            xaxis_title=\"x\",\n",
    "            yaxis_title=\"y\",\n",
    "            width=800,\n",
    "            height=500\n",
    "        )\n",
    "        fig.show()\n",
    "\n",
    "# Callbacks verbinden\n",
    "m_slider.observe(update, names=\"value\")\n",
    "b_slider.observe(update, names=\"value\")\n",
    "\n",
    "# Anzeigen\n",
    "display(widgets.HBox([b_slider, w_slider]))\n",
    "display(output)\n",
    "\n",
    "# Initiales Zeichnen\n",
    "update()\n"
   ]
  },
  {
   "cell_type": "code",
   "execution_count": null,
   "metadata": {},
   "outputs": [],
   "source": [
    "from google.colab import output\n",
    "output.enable_custom_widget_manager()\n",
    "\n",
    "from RegressionWidget_Plotly import RegressionWidget\n",
    "\n",
    "# Daten vorbereiten\n",
    "generator = np.random.default_rng(2948292983384)\n",
    "x = np.linspace(0, 20, 20)\n",
    "y_real = 2 * x + 1 + 10 * (generator.random((1, 20)) - 0.5)\n",
    "y_real = y_real.flatten()\n",
    "\n",
    "widget = RegressionWidget()"
   ]
  },
  {
   "cell_type": "markdown",
   "metadata": {},
   "source": [
    "### Zutat 3: Die Minimierung des Fehlers\n",
    "\n",
    "Das Ziel des Trainings ist es, die Werte von $w$ und $b$ so zu wählen, dass der MSE möglichst klein wird. Dafür gibt es verschiedene Verfahren – z. B. die **analytische Lösung durch Ordinary Least Squares (OLS)** oder die **iterative Optimierung mit Gradient Descent**.\n",
    "\n",
    "In diesem Notebook verwenden wir zunächst die OLS-Methode, da sie eine anschauliche, mathematisch exakte Lösung liefert. Dem Gradient Descent-Verfahren werden wir uns in späteren Lektionen zu neuronalen Netzen noch widmen.\n",
    "\n",
    "![Least Squares](https://kenndanielso.github.io/mlrefined/mlrefined_images/superlearn_images/Least_Squares.png)"
   ]
  },
  {
   "cell_type": "markdown",
   "metadata": {
    "id": "V6FWSvCTw0j3"
   },
   "source": [
    "### Vergleich: Supervised Learning vs. Unsupervised Learning\n",
    "\n",
    "Während das Supervised Learning auf **beschrifteten Daten** basiert, arbeitet das **Unsupervised Learning** mit **unbeschrifteten Daten**. Bei unbeschrifteten Daten sind die Zielvariablen nicht bekannt – das Modell hat nur die Eingabedaten $X$ zur Verfügung, ohne dass für diese Eingaben Zielwerte existieren. Das Ziel des Unsupervised Learning ist es daher nicht, eine bestimmte Zielvariable vorherzusagen, sondern **Strukturen oder Muster** innerhalb der Daten zu erkennen.\n",
    "\n",
    "#### Unterschiede zwischen Supervised und Unsupervised Learning\n",
    "\n",
    "| Merkmal               | Supervised Learning                         | Unsupervised Learning                            |\n",
    "|-----------------------|---------------------------------------------|--------------------------------------------------|\n",
    "| **Zielvariable**      | Vorhersage eines bekannten Labels           | Keine Zielvariable, da keine Labels vorhanden    |\n",
    "| **Trainingsdaten**    | Beschriftete Daten (mit $X$ und $y$)| Unbeschriftete Daten (nur $X$)               |\n",
    "| **Ziel**              | Vorhersagen treffen oder klassifizieren     | Muster, Cluster oder Strukturen entdecken        |\n",
    "| **Beispiel**          | Preisvorhersage, Spam-Klassifikation        | Kundensegmentierung, Anomalie-Erkennung          |\n",
    "| **Typische Algorithmen** | Lineare Regression, Entscheidungsbäume, Neuronale Netze | K-Means Clustering, PCA, Assoziationsanalyse    |\n",
    "\n",
    "#### Beispiele für Unsupervised Learning\n",
    "\n",
    "- **Kundensegmentierung**: Gruppen von Kunden mit ähnlichen Eigenschaften oder Verhaltensmustern erkennen, um zielgerichtete Marketingstrategien zu entwickeln.\n",
    "- **Anomalieerkennung**: Anomale Datenpunkte, wie z.B. Betrugsversuche bei Kreditkarten, identifizieren.\n",
    "- **Dimensionalitätsreduktion**: Mit Verfahren wie Principal Component Analysis (PCA) die Anzahl der Variablen reduzieren, um die Daten zu vereinfachen und gleichzeitig die wesentlichen Informationen zu bewahren.\n",
    "\n",
    "---\n",
    "\n",
    "### Zusammenfassung\n",
    "\n",
    "**Supervised Learning** verwendet beschriftete Daten, um eine Funktion zu erlernen, die Vorhersagen für eine Zielvariable treffen kann. Die Ergebnisse sind entweder kontinuierliche Werte (Regression) oder diskrete Kategorien (Klassifikation). Im Gegensatz dazu verwendet **Unsupervised Learning** unbeschriftete Daten und ist darauf ausgelegt, Strukturen oder Muster in den Daten zu finden, ohne dass spezifische Zielwerte vorgegeben sind.\n",
    "\n",
    "Dieser Unterschied ist grundlegend, da er bestimmt, welche Algorithmen und Ansätze jeweils verwendet werden und wie die Ergebnisse interpretiert werden können. Supervised Learning eignet sich für Vorhersage- und Klassifikationsprobleme, während Unsupervised Learning ideal ist, um versteckte Muster oder Anomalien in den Daten zu entdecken."
   ]
  },
  {
   "cell_type": "markdown",
   "metadata": {
    "id": "PCbkBbH-wUNy"
   },
   "source": [
    "### 1. Aufgabe zur Einschätzung von Regression und Klassifikation\n",
    "\n",
    "**Aufgabe**: Für jedes der folgenden Probleme sollst du entscheiden, ob es sich um ein Problem der **Regression** oder **Klassifikation** handelt. Beachte: Ein Problem gehört nicht zum Supervised Learning und erfordert eine andere Herangehensweise.\n",
    "\n",
    "1. Vorhersage des **Gewichts eines Bauteils** basierend auf dessen Materialdichte und Volumen.\n",
    "2. Bestimmung, ob ein **Bauteil fehlerhaft** ist („Ja“ oder „Nein“) anhand von Messdaten.\n",
    "3. Vorhersage der **Temperatur in einer Produktionsanlage** basierend auf den bisher gemessenen Temperaturen.\n",
    "4. Kategorisierung eines Bauteils als **leicht, mittelschwer oder schwer** anhand von Gewicht und Volumen.\n",
    "5. Gruppierung von Bauteilen in **verschiedene Klassen ohne vorgegebene Kategorien** basierend auf ihrer Form und Oberflächenbeschaffenheit.\n",
    "\n",
    "---\n",
    "\n",
    "### 2. Regressionsanalyse: Theorie und Konzept\n",
    "\n",
    "In diesem Abschnitt schauen wir uns das Konzept der **linearen Regression** genauer an, das ein sehr einfaches und grundlegendes Modell für die Vorhersage kontinuierlicher Werte ist.\n",
    "\n",
    "#### Was ist lineare Regression?\n",
    "\n",
    "- Die lineare Regression beschreibt eine einfache, **lineare Beziehung zwischen einer unabhängigen Variable** (oft als `X` bezeichnet) und einer **abhängigen Variable** `y`, die vorhergesagt werden soll.\n",
    "- Ziel der linearen Regression ist es, eine **lineare Funktion** zu finden, die die Beziehung zwischen den Eingabemerkmalen (Features) und der Zielvariablen möglichst gut beschreibt.\n",
    "\n",
    "#### Mathematischer Hintergrund\n",
    "\n",
    "- Die Funktion der linearen Regression lässt sich als einfache Gleichung beschreiben:\n",
    "  $y = m \\cdot X + b$\n",
    "  - $y$: vorhergesagte Zielvariable (das Ergebnis, das wir berechnen wollen, z.B. `fare`),\n",
    "  - $X$: unabhängige Variable (das Merkmal, das als Eingabe verwendet wird, z.B. `age`),\n",
    "  - $m$: Steigung der Geraden, die den Anstieg der Beziehung zwischen $X$ und $y$ angibt,\n",
    "  - $b$: Achsenabschnitt, der die Position der Geraden verschiebt.\n",
    "\n",
    "- **Ziel**: Die Parameter $m$ und $b$ so zu bestimmen, dass die Linie die Punkte im Datensatz möglichst gut beschreibt.\n",
    "\n",
    "#### Verlustfunktion: Mean Squared Error (MSE)\n",
    "\n",
    "- Um die „beste“ Linie zu finden, benötigt unser Modell eine Metrik, um unseren Modelloutput zu bewerten. Das ist eine Funktion, die unsere Modelloutputwerte $y$ annimmt, und einen Wert ausgibt, der uns sagt, wie gut unser Modell performt. Metriken sind meistens durch Abstandsfunktionen inspiriert. Das heißt sie sind größer als 0 und werden nur 0, wenn unser Modelloutput mit den zu fittenden Daten komplett übereinstimmt. Im einfachsten Fall verwendet die lineare Regression eine **Verlustfunktion** namens **Mean Squared Error (MSE)**, die den Fehler zwischen den tatsächlichen und den vorhergesagten Werten misst.\n",
    "- Die MSE ist definiert als:\n",
    "  $\\text{MSE} = \\frac{1}{n} \\sum_{i=1}^{n} (y_i - \\hat{y}_i)^2$\n",
    "  - $y_i$: der tatsächliche Wert der Zielvariable,\n",
    "  - $\\hat{y}_i$: der vorhergesagte Wert der Zielvariable,\n",
    "  - $n$: Anzahl der Datenpunkte.\n",
    "\n",
    "### 2. Minimierung der Residuen – Optimierungsalgorithmen\n",
    "\n",
    "Um die **Residuen** (die Abweichungen zwischen den tatsächlichen und vorhergesagten Werten) in einer linearen Regression zu minimieren, werden verschiedene **Optimierungsalgorithmen** verwendet. Hier sind die gängigsten:\n",
    "\n",
    "1. **Gradient Descent**: Dieser Algorithmus sucht iterativ nach der „besten“ Linie, indem er schrittweise die Parameter (Steigung und Achsenabschnitt) in die Richtung verändert, in der die Fehlerfunktion (z.B. Mean Squared Error) am schnellsten abnimmt. Gradient Descent wird häufig für sehr große Datensätze und komplexe Modelle verwendet.\n",
    "\n",
    "2. **Ordinary Least Squares (OLS)**: Der Algorithmus der kleinsten Quadrate ist ein analytisches Verfahren, das die Steigung und den Achsenabschnitt einer Linie so berechnet, dass die Summe der quadrierten Residuen minimiert wird. OLS ist für die meisten linearen Regressionsprobleme sehr effizient.\n",
    "\n",
    "3. **Stochastic Gradient Descent (SGD)**: Eine Variante des Gradientenabstiegs, die auf zufällig ausgewählten Datenpunkten anstatt auf dem gesamten Datensatz arbeitet. Dies ermöglicht es, Modelle auch bei großen Datenmengen schnell und effizient zu optimieren.\n",
    "\n",
    "**Welcher Algorithmus wird von `LinearRegression` in `scikit-learn` verwendet?**\n",
    "\n",
    "- **scikit-learn** verwendet bei der `LinearRegression`-Klasse standardmäßig den **Ordinary Least Squares (OLS)**-Algorithmus.\n",
    "\n",
    "\n",
    "### 1. Theoretischer Überblick: Ordinary Least Squares (OLS)\n",
    "\n",
    "Der **Ordinary Least Squares (OLS)**-Algorithmus ist ein mathematisches Verfahren zur Bestimmung der „besten“ Parameter einer linearen Regression. Ziel des OLS ist es, die Werte der Parameter so zu berechnen, dass die Summe der quadrierten Abstände (Residuen) zwischen den tatsächlichen Zielwerten $y$ und den vorhergesagten Werten $\\hat{y}$ minimiert wird.\n",
    "\n",
    "#### Mathematische Grundlage\n",
    "\n",
    "Die lineare Regression beschreibt eine Zielvariable $y$ als lineare Funktion der unabhängigen Variablen $X$:\n",
    "\n",
    "$\\hat{y} = X \\beta$\n",
    "wobei:\n",
    "- $X$: Matrix der unabhängigen Variablen (Dimension $n \\times p$, mit $n$ Datenpunkten und $p$ Variablen),\n",
    "- $\\beta$: Vektor der Parameter, die es zu bestimmen gilt (Dimension $p \\times 1 $),\n",
    "- $\\hat{y}$: Vektor der vorhergesagten Werte (Dimension $ n \\times 1 $).\n",
    "\n",
    "Das Ziel des OLS ist es, die Parameter $\\beta$ so zu wählen, dass der **Mean Squared Error (MSE)** minimiert wird:\n",
    "\n",
    "$\\text{MSE} = \\frac{1}{n} \\sum_{i=1}^{n} (y_i - \\hat{y}_i)^2$\n",
    "\n",
    "wobei $y_i$ die tatsächlichen Werte und $\\hat{y}_i$ die durch das Modell vorhergesagten Werte sind.\n",
    "\n",
    "![Least Squares](https://kenndanielso.github.io/mlrefined/mlrefined_images/superlearn_images/Least_Squares.png)\n",
    "\n",
    "#### Lösung durch Ableitung\n",
    "\n",
    "Um die Werte für $\\beta$ zu bestimmen, wird die MSE als Funktion von $\\beta$ abgeleitet und auf null gesetzt:\n",
    "$\\frac{\\partial}{\\partial \\beta} \\left( (y - X \\beta)^T (y - X \\beta) \\right) = 0$\n",
    "Dies ergibt die sogenannte **Normalengleichung**:\n",
    "$\\beta = (X^T X)^{-1} X^T y$\n",
    "Hierbei:\n",
    "- $X^T$ ist die Transponierte der Matrix $X$,\n",
    "- $(X^T X)^{-1}$ ist die Inverse von $ X^T X$, vorausgesetzt, $ X^T X $ ist invertierbar.\n",
    "\n",
    "Durch Lösen dieser Gleichung erhält man die optimalen Werte für die Parameter $\\beta$, welche die Summe der quadrierten Residuen minimieren.\n",
    "\n",
    "---\n",
    "\n",
    "### 2. Anforderungen des OLS-Algorithmus\n",
    "\n",
    "Für die Berechnung der Parameter in der OLS-Regression sind lediglich **lineare Algebra-Berechnungen** nötig, insbesondere Matrizenmultiplikation, Transponieren und Invertieren. Es werden **keine neuronalen Netze oder iterativen Trainingsverfahren** wie bei anderen Machine-Learning-Algorithmen verwendet. Stattdessen wird ein einmaliger analytischer Lösungsschritt durchgeführt, der die optimalen Parameterwerte direkt berechnet.\n",
    "\n",
    "**Zusammengefasst benötigt OLS:**\n",
    "- Eine Datenmatrix $X$ und einen Zielvektor $y$,\n",
    "- Die Berechnung der Normalengleichung, die eine Lösung durch die Lösung von **Matrixgleichungen** liefert,\n",
    "- Ein Modell ohne Backpropagation oder andere iterative Trainingsmethoden.\n",
    "\n",
    "---\n",
    "\n",
    "### 3. Diskussion: Ist lineare Regression Machine Learning?\n",
    "\n",
    "Es gibt eine Diskussion darüber, ob lineare Regression tatsächlich als **Machine Learning** gezählt werden sollte oder ob sie besser als **statistisches Modell** betrachtet wird. Diese Debatte beruht auf der Tatsache, dass:\n",
    "\n",
    "- **Machine Learning** typischerweise auf Verfahren basiert, die aus den Daten iterativ „lernen“ und auf Rückkopplung (wie Fehlerausgleich bei neuronalen Netzen) angewiesen sind. Lineare Regression hingegen ist ein **deterministisches Verfahren** und wird analytisch berechnet, ohne dass Lernschritte oder Fehleranpassungen erforderlich sind.\n",
    "  \n",
    "- **Statistik und Modellannahmen**: Lineare Regression stammt aus der Statistik und basiert auf Annahmen wie Normalverteilung und Homoskedastizität. Diese Annahmen werden in Machine-Learning-Methoden oft aufgeweicht oder vernachlässigt, was zu einer stärkeren Anpassung an reale, „unordentliche“ Daten führt.\n",
    "\n",
    "#### Argumente, warum lineare Regression als Machine Learning betrachtet werden könnte:\n",
    "1. **Vorhersagefähigkeit**: Lineare Regression wird für Vorhersagen eingesetzt, und die Nutzung von Daten für Vorhersagen ist ein zentraler Bestandteil des Machine Learnings.\n",
    "2. **Teil vieler ML-Frameworks**: Lineare Regression ist in allen ML-Frameworks (wie `scikit-learn`) implementiert und wird in praktischen ML-Workflows oft angewandt.\n",
    "3. **Modellbewertung und Anpassung**: Viele der Metriken und Evaluationsmethoden, die in ML für die Modellbewertung verwendet werden, wie der MSE oder der R²-Score, sind auch für lineare Regression relevant.\n",
    "\n",
    "Zusammenfassend lässt sich sagen, dass die lineare Regression an der Grenze zwischen Statistik und Machine Learning liegt. Sie wird oft als „einfachstes“ Machine-Learning-Modell betrachtet, auch wenn sie auf analytischen Lösungen basiert und nicht wie andere Modelle durch iterative Optimierung lernt."
   ]
  },
  {
   "cell_type": "markdown",
   "metadata": {
    "id": "fNxCEpq4BrXm"
   },
   "source": [
    "## Datenvorbereitung\n",
    "\n"
   ]
  },
  {
   "cell_type": "code",
   "execution_count": 2,
   "metadata": {
    "executionInfo": {
     "elapsed": 9281,
     "status": "ok",
     "timestamp": 1730996784832,
     "user": {
      "displayName": "Roman List",
      "userId": "11668527673835904073"
     },
     "user_tz": -60
    },
    "id": "BJhm-bkDKCKr"
   },
   "outputs": [],
   "source": [
    "import pandas as pd\n",
    "import numpy as np\n",
    "from sklearn.model_selection import train_test_split\n",
    "from sklearn.preprocessing import StandardScaler\n",
    "import plotly.graph_objs as go\n",
    "import plotly.io as pio\n",
    "pio.renderers.default = 'notebook_connected'\n",
    "import matplotlib.pyplot as plt"
   ]
  },
  {
   "cell_type": "code",
   "execution_count": 3,
   "metadata": {
    "colab": {
     "base_uri": "https://localhost:8080/",
     "height": 1000
    },
    "executionInfo": {
     "elapsed": 1070,
     "status": "ok",
     "timestamp": 1730996893272,
     "user": {
      "displayName": "Roman List",
      "userId": "11668527673835904073"
     },
     "user_tz": -60
    },
    "id": "mQTH6bBURPhP",
    "outputId": "a66a9f88-86be-420e-8419-24c55715d500"
   },
   "outputs": [
    {
     "name": "stdout",
     "output_type": "stream",
     "text": [
      "Datenüberblick:\n",
      "   machines  fabrication_time\n",
      "0         5         67.906597\n",
      "1         7         56.106398\n",
      "2         6         50.994477\n",
      "3         5         63.666157\n",
      "4         4         35.097613\n",
      "\n",
      "Fehlende Werte:\n",
      " machines            0\n",
      "fabrication_time    0\n",
      "dtype: int64\n"
     ]
    },
    {
     "data": {
      "application/vnd.jupyter.widget-view+json": {
       "model_id": "b7f76d37a9bf47fcb1dcd4ab859ba407",
       "version_major": 2,
       "version_minor": 0
      },
      "image/png": "[encoded data removed]",
      "text/html": [
       "\n",
       "            <div style=\"display: inline-block;\">\n",
       "                <div class=\"jupyter-widgets widget-label\" style=\"text-align: center;\">\n",
       "                    Figure\n",
       "                </div>\n",
       "                <img src='data:image/png;base64,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' width=500.0/>\n",
       "            </div>\n",
       "        "
      ],
      "text/plain": [
       "Canvas(toolbar=Toolbar(toolitems=[('Home', 'Reset original view', 'home', 'home'), ('Back', 'Back to previous …"
      ]
     },
     "metadata": {},
     "output_type": "display_data"
    },
    {
     "name": "stdout",
     "output_type": "stream",
     "text": [
      "\n",
      "Erste Zeilen der standardisierten Trainingsdaten:\n",
      " [[ 0.36712254]\n",
      " [ 1.15031731]\n",
      " [-1.19926698]\n",
      " [-0.8076696 ]\n",
      " [ 0.75871992]]\n",
      "\n",
      "Modell-Koeffizienten: [-10.46601926]\n",
      "Modell-Achsenabschnitt: 61.01192151742241\n",
      "Mean Absolute Error (MAE): 14.81\n",
      "Mean Squared Error (MSE): 338.12\n",
      "Root Mean Squared Error (RMSE): 18.39\n",
      "R²-Score: 0.29\n"
     ]
    },
    {
     "name": "stderr",
     "output_type": "stream",
     "text": [
      "/Users/romanlist/Python Projects/scvenv/lib/python3.13/site-packages/sklearn/utils/validation.py:2739: UserWarning:\n",
      "\n",
      "X does not have valid feature names, but StandardScaler was fitted with feature names\n",
      "\n"
     ]
    },
    {
     "data": {
      "application/vnd.jupyter.widget-view+json": {
       "model_id": "f2decfa499914fa5a2510f0bdf14a6c0",
       "version_major": 2,
       "version_minor": 0
      },
      "image/png": "[encoded data removed]",
      "text/html": [
       "\n",
       "            <div style=\"display: inline-block;\">\n",
       "                <div class=\"jupyter-widgets widget-label\" style=\"text-align: center;\">\n",
       "                    Figure\n",
       "                </div>\n",
       "                <img src='data:image/png;base64,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' width=500.0/>\n",
       "            </div>\n",
       "        "
      ],
      "text/plain": [
       "Canvas(toolbar=Toolbar(toolitems=[('Home', 'Reset original view', 'home', 'home'), ('Back', 'Back to previous …"
      ]
     },
     "metadata": {},
     "output_type": "display_data"
    }
   ],
   "source": [
    "# Beispielhafte Datenerstellung\n",
    "np.random.seed(0)  # für reproduzierbare Ergebnisse\n",
    "data = {\n",
    "    'machines': [5, 7, 6, 5, 4, 6, 4, 9, 9, 4, 8, 5, 6, 9, 1, 1, 1, 8, 8, 8, 9, 8, 5, 8, 2, 6, 2, 9, 5, 4, 3, 7, 5, 6, 1, 6, 6, 6, 9, 7, 4, 4, 7, 1, 7, 7, 2, 2, 3, 4, 6, 4, 9, 1, 2, 2, 6, 3, 5, 3, 2, 1, 6, 2, 2, 4, 8, 1, 8, 1, 9, 5, 9, 6, 7, 1, 3, 2, 3, 2, 3, 4, 1, 7, 6, 3, 5, 1, 6, 9, 3, 7, 2, 7, 3, 2, 6, 1, 8, 1, 7, 3, 7, 9, 3, 6, 6, 6, 3, 9, 5, 8, 7, 3, 8, 4, 8, 6, 8, 7, 7, 5, 9, 6, 4, 6, 1, 3, 6, 3, 6, 4, 2, 3, 6, 6, 6, 6, 6, 4, 9, 4, 4, 9, 8, 7, 1, 9, 7, 9, 2, 8, 2, 6, 2, 8, 8, 6, 4, 1, 7, 5, 7, 8, 9, 8, 1, 4, 7, 2, 5, 1, 2, 1, 8, 3, 4, 9, 7, 1, 2, 6, 6, 3, 9, 6, 5, 6, 7, 3, 4, 2, 2, 9, 7, 5, 3, 3, 1, 4],  # Anzahl Maschinen zwischen 1 und 10\n",
    "    'fabrication_time': [67.90659729035198, 56.106398427806, 50.994476604973414, 63.666157089643946, 35.097612868648845, 32.039833707027626, 66.22680286228086, 40.91527383975611, 48.867428230641316, 77.69669211415139, 63.07560396856529, 45.89042085563238, 52.20593417172311, 27.30510517168884, 69.6177453658591, 82.13627375506708, 58.139671112137194, 39.315616233114596, 51.63499475754276, 97.85085245947315, 38.92949586215649, 78.14891087454242, 68.70782501306948, 46.16582567194396, 72.598794661039, 55.24179039710023, 41.11241643004889, 38.594792865390716, 51.16164124843421, 78.76401692708872, 56.239836533941755, 63.393261942848085, 83.52764098974014, 36.19921294222919, 55.182435834569766, 34.78883895358819, 46.38616051561113, 48.79466757223236, 34.02959683412472, 60.85055782908546, 90.67782246593318, 57.24481685489761, 47.037841141403355, 43.93312789297632, 78.96797772153707, 38.15826223175094, 71.21559600097471, 53.18216031548334, 28.853956747650273, 54.8303899393927, 45.80516278988078, 91.30537447515269, 69.97685723661004, 85.55656333629403, 104.97772561171456, 66.09947475701892, 62.764768325961676, 78.91392252447335, 74.64019759627901, 60.57725728949825, 56.9839969465905, 48.579830027949896, 47.20662557974444, 76.10314583605629, 93.62446896110454, 78.25812129758577, 44.74242472475136, 92.90755164421435, 43.64971697594392, 51.94064887049821, 56.39644485754042, 90.70268368121174, 14.028412708516182, 78.80920713092596, 4.6665365589671595, 80.16239734546595, 87.07945827760282, 66.1492734651707, 61.71733893473774, 68.9224748880462, 91.22202398311339, 84.46341633231, 94.00935416779004, 35.15987349227268, 47.69852376864201, 32.252887170234516, 73.12243955878206, 64.07761682282565, 65.86885886438505, 66.61652799986359, 88.49868073361267, 51.28827909191848, 82.02019094615521, 21.761545210594083, 87.99994772467629, 66.34439226208434, 16.47192323984454, 100.83222689115654, 76.21779733731799, 96.38388383772445, 65.72419493485988, 74.38527268575467, 26.80197950654918, 41.50446924010041, 61.863283328424366, 39.49800007684461, 68.990817803787, 53.26751660288785, 82.06237501921653, 31.630927077808536, 100.29992291148659, 59.793839611242916, 52.44257667219292, 65.23336887096886, 22.58095393190783, 53.855828713502596, 42.04839568709444, 64.40929844078353, 78.14569130983777, 17.404842492156654, 39.96031919794722, 51.54856532411142, 22.497316809208563, 31.746408303106108, 75.03445230345193, 57.15307858769192, 70.93343144333274, 81.22225806773736, 65.32378568074694, 66.57938969449042, 55.00847205146495, 83.17390262742492, 55.071565260184684, 59.108692254001305, 71.71103849542581, 75.91439407068657, 66.13749142380996, 51.2733879726916, 69.86123409331486, 47.53081979399407, 27.760562662587123, 50.34416051459668, 46.18057304022479, 41.80371755987022, 70.9469549397791, 42.6864364658868, 90.58356187823917, 69.81565342227196, 51.46703718049807, 26.478380717491632, 83.98950295344697, 33.24094688557501, 63.23721436234395, 48.317552109618454, 74.41215717296778, 56.72007643826732, 36.45774949036193, 79.18680519315623, 47.59243427550278, 83.60323955938493, 4.170699399782073, 81.27226622532305, 28.2539005830036, 35.90818049938248, 55.36494198159164, 33.354080512296676, 111.58309016181767, 76.91591586973249, 88.28705314452364, 67.76371772175122, 84.42891096771852, 82.94001419515943, 102.57108923015268, 100.94158243174151, 20.3685513106142, 50.13523568533148, 94.93894016992677, 19.665713605376006, 71.19992123859808, 93.79698096311375, 90.31444059009648, 56.3076148363576, 57.55097075036535, 71.25084953116342, 76.0042650733056, 92.47032958489332, 117.9433607884537, 41.89113000579377, 48.62170549792494, 58.786490510900165, 36.729371870689526, 69.83217866088724, 76.74098645018402, 58.98636579202069, 54.94520268498698, 73.98676297983195, 61.28824021252155, 57.78097284709512, 41.01048210648257, 28.48348413537319]  # Zielvariable: Fertigungszeit\n",
    "}\n",
    "\n",
    "df = pd.DataFrame(data)\n",
    "\n",
    "# Überblick über die Daten\n",
    "print(\"Datenüberblick:\")\n",
    "print(df.head())\n",
    "\n",
    "# Überprüfen auf fehlende Werte\n",
    "print(\"\\nFehlende Werte:\\n\", df.isnull().sum())\n",
    "\n",
    "# Aufteilen in Features (X) und Zielvariable (y)\n",
    "X = df[['machines']]\n",
    "y = df['fabrication_time']\n",
    "\n",
    "fig, ax = plt.subplots(figsize = (5,5))\n",
    "ax.scatter(X, y)\n",
    "plt.xlabel('Machines')\n",
    "plt.ylabel('Fabrication Time')\n",
    "plt.show()\n",
    "\n",
    "# Aufteilen in Trainings- und Testdaten\n",
    "X_train, X_test, y_train, y_test = train_test_split(X, y, test_size=0.2, random_state=0)\n",
    "\n",
    "# Standardisieren der Features\n",
    "scaler = StandardScaler()\n",
    "X_train = scaler.fit_transform(X_train)\n",
    "X_test = scaler.transform(X_test)\n",
    "\n",
    "print(\"\\nErste Zeilen der standardisierten Trainingsdaten:\\n\", X_train[:5]) # standard scaler transformiert dataframe zu numpy array! Gängige df-Methoden nicht anwendbar\n",
    "\n",
    "from sklearn.linear_model import LinearRegression\n",
    "\n",
    "# Modellinitialisierung und Training\n",
    "model = LinearRegression()\n",
    "model.fit(X_train, y_train)\n",
    "\n",
    "# Ausgabe der Modellparameter\n",
    "print(\"\\nModell-Koeffizienten:\", model.coef_)\n",
    "print(\"Modell-Achsenabschnitt:\", model.intercept_)\n",
    "\n",
    "from sklearn.metrics import mean_absolute_error, mean_squared_error, r2_score\n",
    "\n",
    "# Vorhersagen auf den standardisierten Testdaten\n",
    "y_pred = model.predict(X_test)\n",
    "\n",
    "# Berechnung der Metriken auf der Originalskala\n",
    "mae = mean_absolute_error(y_test, y_pred)\n",
    "mse = mean_squared_error(y_test, y_pred)\n",
    "rmse = np.sqrt(mse)\n",
    "r2 = r2_score(y_test, y_pred)\n",
    "\n",
    "# Ausgabe der Metriken\n",
    "print(f\"Mean Absolute Error (MAE): {mae:.2f}\")\n",
    "print(f\"Mean Squared Error (MSE): {mse:.2f}\")\n",
    "print(f\"Root Mean Squared Error (RMSE): {rmse:.2f}\")\n",
    "print(f\"R²-Score: {r2:.2f}\")\n",
    "\n",
    "fig, ax = plt.subplots(figsize=(5,5))\n",
    "x = np.arange(1,10)\n",
    "ax.plot(x, model.coef_ * scaler.transform(x.reshape(-1,1)) + model.intercept_, color = 'red', label='Regressionsgerade')\n",
    "ax.scatter(X, y)\n",
    "plt.xlabel('Machines')\n",
    "plt.ylabel('Fabrication Time')\n",
    "plt.legend()\n",
    "plt.show()\n",
    "\n"
   ]
  },
  {
   "cell_type": "code",
   "execution_count": 4,
   "metadata": {
    "colab": {
     "base_uri": "https://localhost:8080/",
     "height": 957
    },
    "executionInfo": {
     "elapsed": 1024,
     "status": "ok",
     "timestamp": 1730996900629,
     "user": {
      "displayName": "Roman List",
      "userId": "11668527673835904073"
     },
     "user_tz": -60
    },
    "id": "tW-qlezzwdTU",
    "outputId": "bbd17b52-8a6f-4b64-a900-b86d2221bf1a"
   },
   "outputs": [
    {
     "name": "stdout",
     "output_type": "stream",
     "text": [
      "Datenüberblick:\n",
      "   machines  complexity  fabrication_time\n",
      "0         5           2         67.906597\n",
      "1         7           3         56.106398\n",
      "2         6           2         50.994477\n",
      "3         5           1         63.666157\n",
      "4         4           1         35.097613\n",
      "\n",
      "Fehlende Werte:\n",
      " machines            0\n",
      "complexity          0\n",
      "fabrication_time    0\n",
      "dtype: int64\n"
     ]
    },
    {
     "data": {
      "text/html": [
       "        <script type=\"text/javascript\">\n",
       "        window.PlotlyConfig = {MathJaxConfig: 'local'};\n",
       "        if (window.MathJax && window.MathJax.Hub && window.MathJax.Hub.Config) {window.MathJax.Hub.Config({SVG: {font: \"STIX-Web\"}});}\n",
       "        if (typeof require !== 'undefined') {\n",
       "        require.undef(\"plotly\");\n",
       "        requirejs.config({\n",
       "            paths: {\n",
       "                'plotly': ['https://cdn.plot.ly/plotly-2.35.2.min']\n",
       "            }\n",
       "        });\n",
       "        require(['plotly'], function(Plotly) {\n",
       "            window._Plotly = Plotly;\n",
       "        });\n",
       "        }\n",
       "        </script>\n",
       "        "
      ]
     },
     "metadata": {},
     "output_type": "display_data"
    },
    {
     "data": {
      "text/html": [
       "<div>                            <div id=\"73f202e6-1e83-4abc-ada5-7da24bd5a3bd\" class=\"plotly-graph-div\" style=\"height:600px; width:700px;\"></div>            <script type=\"text/javascript\">                require([\"plotly\"], function(Plotly) {                    window.PLOTLYENV=window.PLOTLYENV || {};                                    if (document.getElementById(\"73f202e6-1e83-4abc-ada5-7da24bd5a3bd\")) {                    Plotly.newPlot(                        \"73f202e6-1e83-4abc-ada5-7da24bd5a3bd\",                        [{\"marker\":{\"color\":\"blue\",\"opacity\":0.5,\"size\":4},\"mode\":\"markers\",\"name\":\"Actual Fabrication Time\",\"x\":[5,7,6,5,4,6,4,9,9,4,8,5,6,9,1,1,1,8,8,8,9,8,5,8,2,6,2,9,5,4,3,7,5,6,1,6,6,6,9,7,4,4,7,1,7,7,2,2,3,4,6,4,9,1,2,2,6,3,5,3,2,1,6,2,2,4,8,1,8,1,9,5,9,6,7,1,3,2,3,2,3,4,1,7,6,3,5,1,6,9,3,7,2,7,3,2,6,1,8,1,7,3,7,9,3,6,6,6,3,9,5,8,7,3,8,4,8,6,8,7,7,5,9,6,4,6,1,3,6,3,6,4,2,3,6,6,6,6,6,4,9,4,4,9,8,7,1,9,7,9,2,8,2,6,2,8,8,6,4,1,7,5,7,8,9,8,1,4,7,2,5,1,2,1,8,3,4,9,7,1,2,6,6,3,9,6,5,6,7,3,4,2,2,9,7,5,3,3,1,4],\"y\":[2,3,2,1,1,1,3,2,3,4,4,1,3,2,1,4,2,2,3,4,3,4,2,4,1,4,3,1,4,3,2,1,3,1,1,2,2,2,2,3,4,1,3,1,3,2,3,1,1,2,2,4,4,3,4,1,3,3,4,2,1,1,1,4,3,4,2,3,1,2,4,4,2,4,1,4,4,4,3,4,2,4,3,1,2,1,4,2,2,3,2,1,4,1,3,1,1,4,4,4,4,4,2,1,2,1,1,1,3,1,4,1,1,1,3,1,2,3,4,3,2,1,1,2,2,2,3,3,2,2,1,4,1,3,4,4,2,2,3,2,2,1,2,1,4,1,3,2,3,4,3,1,2,3,3,3,2,1,2,4,1,4,3,2,4,2,3,2,4,3,3,2,4,3,1,1,4,4,2,3,4,2,4,3,4,4,4,1,3,2,1,2,2,4,1,4,2,2,1,1],\"z\":[67.90659729035198,56.106398427806,50.994476604973414,63.666157089643946,35.097612868648845,32.039833707027626,66.22680286228086,40.91527383975611,48.867428230641316,77.69669211415139,63.07560396856529,45.89042085563238,52.20593417172311,27.30510517168884,69.6177453658591,82.13627375506708,58.139671112137194,39.315616233114596,51.63499475754276,97.85085245947315,38.92949586215649,78.14891087454242,68.70782501306948,46.16582567194396,72.598794661039,55.24179039710023,41.11241643004889,38.594792865390716,51.16164124843421,78.76401692708872,56.239836533941755,63.393261942848085,83.52764098974014,36.19921294222919,55.182435834569766,34.78883895358819,46.38616051561113,48.79466757223236,34.02959683412472,60.85055782908546,90.67782246593318,57.24481685489761,47.037841141403355,43.93312789297632,78.96797772153707,38.15826223175094,71.21559600097471,53.18216031548334,28.853956747650273,54.8303899393927,45.80516278988078,91.30537447515269,69.97685723661004,85.55656333629403,104.97772561171456,66.09947475701892,62.764768325961676,78.91392252447335,74.64019759627901,60.57725728949825,56.9839969465905,48.579830027949896,47.20662557974444,76.10314583605629,93.62446896110454,78.25812129758577,44.74242472475136,92.90755164421435,43.64971697594392,51.94064887049821,56.39644485754042,90.70268368121174,14.028412708516182,78.80920713092596,4.6665365589671595,80.16239734546595,87.07945827760282,66.1492734651707,61.71733893473774,68.9224748880462,91.22202398311339,84.46341633231,94.00935416779004,35.15987349227268,47.69852376864201,32.252887170234516,73.12243955878206,64.07761682282565,65.86885886438505,66.61652799986359,88.49868073361267,51.28827909191848,82.02019094615521,21.761545210594083,87.99994772467629,66.34439226208434,16.47192323984454,100.83222689115654,76.21779733731799,96.38388383772445,65.72419493485988,74.38527268575467,26.80197950654918,41.50446924010041,61.863283328424366,39.49800007684461,68.990817803787,53.26751660288785,82.06237501921653,31.630927077808536,100.29992291148659,59.793839611242916,52.44257667219292,65.23336887096886,22.58095393190783,53.855828713502596,42.04839568709444,64.40929844078353,78.14569130983777,17.404842492156654,39.96031919794722,51.54856532411142,22.497316809208563,31.746408303106108,75.03445230345193,57.15307858769192,70.93343144333274,81.22225806773736,65.32378568074694,66.57938969449042,55.00847205146495,83.17390262742492,55.071565260184684,59.108692254001305,71.71103849542581,75.91439407068657,66.13749142380996,51.2733879726916,69.86123409331486,47.53081979399407,27.760562662587123,50.34416051459668,46.18057304022479,41.80371755987022,70.9469549397791,42.6864364658868,90.58356187823917,69.81565342227196,51.46703718049807,26.478380717491632,83.98950295344697,33.24094688557501,63.23721436234395,48.317552109618454,74.41215717296778,56.72007643826732,36.45774949036193,79.18680519315623,47.59243427550278,83.60323955938493,4.170699399782073,81.27226622532305,28.2539005830036,35.90818049938248,55.36494198159164,33.354080512296676,111.58309016181767,76.91591586973249,88.28705314452364,67.76371772175122,84.42891096771852,82.94001419515943,102.57108923015268,100.94158243174151,20.3685513106142,50.13523568533148,94.93894016992677,19.665713605376006,71.19992123859808,93.79698096311375,90.31444059009648,56.3076148363576,57.55097075036535,71.25084953116342,76.0042650733056,92.47032958489332,117.9433607884537,41.89113000579377,48.62170549792494,58.786490510900165,36.729371870689526,69.83217866088724,76.74098645018402,58.98636579202069,54.94520268498698,73.98676297983195,61.28824021252155,57.78097284709512,41.01048210648257,28.48348413537319],\"type\":\"scatter3d\"}],                        {\"template\":{\"data\":{\"histogram2dcontour\":[{\"type\":\"histogram2dcontour\",\"colorbar\":{\"outlinewidth\":0,\"ticks\":\"\"},\"colorscale\":[[0.0,\"#0d0887\"],[0.1111111111111111,\"#46039f\"],[0.2222222222222222,\"#7201a8\"],[0.3333333333333333,\"#9c179e\"],[0.4444444444444444,\"#bd3786\"],[0.5555555555555556,\"#d8576b\"],[0.6666666666666666,\"#ed7953\"],[0.7777777777777778,\"#fb9f3a\"],[0.8888888888888888,\"#fdca26\"],[1.0,\"#f0f921\"]]}],\"choropleth\":[{\"type\":\"choropleth\",\"colorbar\":{\"outlinewidth\":0,\"ticks\":\"\"}}],\"histogram2d\":[{\"type\":\"histogram2d\",\"colorbar\":{\"outlinewidth\":0,\"ticks\":\"\"},\"colorscale\":[[0.0,\"#0d0887\"],[0.1111111111111111,\"#46039f\"],[0.2222222222222222,\"#7201a8\"],[0.3333333333333333,\"#9c179e\"],[0.4444444444444444,\"#bd3786\"],[0.5555555555555556,\"#d8576b\"],[0.6666666666666666,\"#ed7953\"],[0.7777777777777778,\"#fb9f3a\"],[0.8888888888888888,\"#fdca26\"],[1.0,\"#f0f921\"]]}],\"heatmap\":[{\"type\":\"heatmap\",\"colorbar\":{\"outlinewidth\":0,\"ticks\":\"\"},\"colorscale\":[[0.0,\"#0d0887\"],[0.1111111111111111,\"#46039f\"],[0.2222222222222222,\"#7201a8\"],[0.3333333333333333,\"#9c179e\"],[0.4444444444444444,\"#bd3786\"],[0.5555555555555556,\"#d8576b\"],[0.6666666666666666,\"#ed7953\"],[0.7777777777777778,\"#fb9f3a\"],[0.8888888888888888,\"#fdca26\"],[1.0,\"#f0f921\"]]}],\"heatmapgl\":[{\"type\":\"heatmapgl\",\"colorbar\":{\"outlinewidth\":0,\"ticks\":\"\"},\"colorscale\":[[0.0,\"#0d0887\"],[0.1111111111111111,\"#46039f\"],[0.2222222222222222,\"#7201a8\"],[0.3333333333333333,\"#9c179e\"],[0.4444444444444444,\"#bd3786\"],[0.5555555555555556,\"#d8576b\"],[0.6666666666666666,\"#ed7953\"],[0.7777777777777778,\"#fb9f3a\"],[0.8888888888888888,\"#fdca26\"],[1.0,\"#f0f921\"]]}],\"contourcarpet\":[{\"type\":\"contourcarpet\",\"colorbar\":{\"outlinewidth\":0,\"ticks\":\"\"}}],\"contour\":[{\"type\":\"contour\",\"colorbar\":{\"outlinewidth\":0,\"ticks\":\"\"},\"colorscale\":[[0.0,\"#0d0887\"],[0.1111111111111111,\"#46039f\"],[0.2222222222222222,\"#7201a8\"],[0.3333333333333333,\"#9c179e\"],[0.4444444444444444,\"#bd3786\"],[0.5555555555555556,\"#d8576b\"],[0.6666666666666666,\"#ed7953\"],[0.7777777777777778,\"#fb9f3a\"],[0.8888888888888888,\"#fdca26\"],[1.0,\"#f0f921\"]]}],\"surface\":[{\"type\":\"surface\",\"colorbar\":{\"outlinewidth\":0,\"ticks\":\"\"},\"colorscale\":[[0.0,\"#0d0887\"],[0.1111111111111111,\"#46039f\"],[0.2222222222222222,\"#7201a8\"],[0.3333333333333333,\"#9c179e\"],[0.4444444444444444,\"#bd3786\"],[0.5555555555555556,\"#d8576b\"],[0.6666666666666666,\"#ed7953\"],[0.7777777777777778,\"#fb9f3a\"],[0.8888888888888888,\"#fdca26\"],[1.0,\"#f0f921\"]]}],\"mesh3d\":[{\"type\":\"mesh3d\",\"colorbar\":{\"outlinewidth\":0,\"ticks\":\"\"}}],\"scatter\":[{\"fillpattern\":{\"fillmode\":\"overlay\",\"size\":10,\"solidity\":0.2},\"type\":\"scatter\"}],\"parcoords\":[{\"type\":\"parcoords\",\"line\":{\"colorbar\":{\"outlinewidth\":0,\"ticks\":\"\"}}}],\"scatterpolargl\":[{\"type\":\"scatterpolargl\",\"marker\":{\"colorbar\":{\"outlinewidth\":0,\"ticks\":\"\"}}}],\"bar\":[{\"error_x\":{\"color\":\"#2a3f5f\"},\"error_y\":{\"color\":\"#2a3f5f\"},\"marker\":{\"line\":{\"color\":\"#E5ECF6\",\"width\":0.5},\"pattern\":{\"fillmode\":\"overlay\",\"size\":10,\"solidity\":0.2}},\"type\":\"bar\"}],\"scattergeo\":[{\"type\":\"scattergeo\",\"marker\":{\"colorbar\":{\"outlinewidth\":0,\"ticks\":\"\"}}}],\"scatterpolar\":[{\"type\":\"scatterpolar\",\"marker\":{\"colorbar\":{\"outlinewidth\":0,\"ticks\":\"\"}}}],\"histogram\":[{\"marker\":{\"pattern\":{\"fillmode\":\"overlay\",\"size\":10,\"solidity\":0.2}},\"type\":\"histogram\"}],\"scattergl\":[{\"type\":\"scattergl\",\"marker\":{\"colorbar\":{\"outlinewidth\":0,\"ticks\":\"\"}}}],\"scatter3d\":[{\"type\":\"scatter3d\",\"line\":{\"colorbar\":{\"outlinewidth\":0,\"ticks\":\"\"}},\"marker\":{\"colorbar\":{\"outlinewidth\":0,\"ticks\":\"\"}}}],\"scattermapbox\":[{\"type\":\"scattermapbox\",\"marker\":{\"colorbar\":{\"outlinewidth\":0,\"ticks\":\"\"}}}],\"scatterternary\":[{\"type\":\"scatterternary\",\"marker\":{\"colorbar\":{\"outlinewidth\":0,\"ticks\":\"\"}}}],\"scattercarpet\":[{\"type\":\"scattercarpet\",\"marker\":{\"colorbar\":{\"outlinewidth\":0,\"ticks\":\"\"}}}],\"carpet\":[{\"aaxis\":{\"endlinecolor\":\"#2a3f5f\",\"gridcolor\":\"white\",\"linecolor\":\"white\",\"minorgridcolor\":\"white\",\"startlinecolor\":\"#2a3f5f\"},\"baxis\":{\"endlinecolor\":\"#2a3f5f\",\"gridcolor\":\"white\",\"linecolor\":\"white\",\"minorgridcolor\":\"white\",\"startlinecolor\":\"#2a3f5f\"},\"type\":\"carpet\"}],\"table\":[{\"cells\":{\"fill\":{\"color\":\"#EBF0F8\"},\"line\":{\"color\":\"white\"}},\"header\":{\"fill\":{\"color\":\"#C8D4E3\"},\"line\":{\"color\":\"white\"}},\"type\":\"table\"}],\"barpolar\":[{\"marker\":{\"line\":{\"color\":\"#E5ECF6\",\"width\":0.5},\"pattern\":{\"fillmode\":\"overlay\",\"size\":10,\"solidity\":0.2}},\"type\":\"barpolar\"}],\"pie\":[{\"automargin\":true,\"type\":\"pie\"}]},\"layout\":{\"autotypenumbers\":\"strict\",\"colorway\":[\"#636efa\",\"#EF553B\",\"#00cc96\",\"#ab63fa\",\"#FFA15A\",\"#19d3f3\",\"#FF6692\",\"#B6E880\",\"#FF97FF\",\"#FECB52\"],\"font\":{\"color\":\"#2a3f5f\"},\"hovermode\":\"closest\",\"hoverlabel\":{\"align\":\"left\"},\"paper_bgcolor\":\"white\",\"plot_bgcolor\":\"#E5ECF6\",\"polar\":{\"bgcolor\":\"#E5ECF6\",\"angularaxis\":{\"gridcolor\":\"white\",\"linecolor\":\"white\",\"ticks\":\"\"},\"radialaxis\":{\"gridcolor\":\"white\",\"linecolor\":\"white\",\"ticks\":\"\"}},\"ternary\":{\"bgcolor\":\"#E5ECF6\",\"aaxis\":{\"gridcolor\":\"white\",\"linecolor\":\"white\",\"ticks\":\"\"},\"baxis\":{\"gridcolor\":\"white\",\"linecolor\":\"white\",\"ticks\":\"\"},\"caxis\":{\"gridcolor\":\"white\",\"linecolor\":\"white\",\"ticks\":\"\"}},\"coloraxis\":{\"colorbar\":{\"outlinewidth\":0,\"ticks\":\"\"}},\"colorscale\":{\"sequential\":[[0.0,\"#0d0887\"],[0.1111111111111111,\"#46039f\"],[0.2222222222222222,\"#7201a8\"],[0.3333333333333333,\"#9c179e\"],[0.4444444444444444,\"#bd3786\"],[0.5555555555555556,\"#d8576b\"],[0.6666666666666666,\"#ed7953\"],[0.7777777777777778,\"#fb9f3a\"],[0.8888888888888888,\"#fdca26\"],[1.0,\"#f0f921\"]],\"sequentialminus\":[[0.0,\"#0d0887\"],[0.1111111111111111,\"#46039f\"],[0.2222222222222222,\"#7201a8\"],[0.3333333333333333,\"#9c179e\"],[0.4444444444444444,\"#bd3786\"],[0.5555555555555556,\"#d8576b\"],[0.6666666666666666,\"#ed7953\"],[0.7777777777777778,\"#fb9f3a\"],[0.8888888888888888,\"#fdca26\"],[1.0,\"#f0f921\"]],\"diverging\":[[0,\"#8e0152\"],[0.1,\"#c51b7d\"],[0.2,\"#de77ae\"],[0.3,\"#f1b6da\"],[0.4,\"#fde0ef\"],[0.5,\"#f7f7f7\"],[0.6,\"#e6f5d0\"],[0.7,\"#b8e186\"],[0.8,\"#7fbc41\"],[0.9,\"#4d9221\"],[1,\"#276419\"]]},\"xaxis\":{\"gridcolor\":\"white\",\"linecolor\":\"white\",\"ticks\":\"\",\"title\":{\"standoff\":15},\"zerolinecolor\":\"white\",\"automargin\":true,\"zerolinewidth\":2},\"yaxis\":{\"gridcolor\":\"white\",\"linecolor\":\"white\",\"ticks\":\"\",\"title\":{\"standoff\":15},\"zerolinecolor\":\"white\",\"automargin\":true,\"zerolinewidth\":2},\"scene\":{\"xaxis\":{\"backgroundcolor\":\"#E5ECF6\",\"gridcolor\":\"white\",\"linecolor\":\"white\",\"showbackground\":true,\"ticks\":\"\",\"zerolinecolor\":\"white\",\"gridwidth\":2},\"yaxis\":{\"backgroundcolor\":\"#E5ECF6\",\"gridcolor\":\"white\",\"linecolor\":\"white\",\"showbackground\":true,\"ticks\":\"\",\"zerolinecolor\":\"white\",\"gridwidth\":2},\"zaxis\":{\"backgroundcolor\":\"#E5ECF6\",\"gridcolor\":\"white\",\"linecolor\":\"white\",\"showbackground\":true,\"ticks\":\"\",\"zerolinecolor\":\"white\",\"gridwidth\":2}},\"shapedefaults\":{\"line\":{\"color\":\"#2a3f5f\"}},\"annotationdefaults\":{\"arrowcolor\":\"#2a3f5f\",\"arrowhead\":0,\"arrowwidth\":1},\"geo\":{\"bgcolor\":\"white\",\"landcolor\":\"#E5ECF6\",\"subunitcolor\":\"white\",\"showland\":true,\"showlakes\":true,\"lakecolor\":\"white\"},\"title\":{\"x\":0.05},\"mapbox\":{\"style\":\"light\"}}},\"title\":{\"text\":\"Fabrication Time: Machines vs Complexity\"},\"scene\":{\"xaxis\":{\"title\":{\"text\":\"Machines\"}},\"yaxis\":{\"title\":{\"text\":\"Complexity\"}},\"zaxis\":{\"title\":{\"text\":\"Fabrication Time\"}}},\"width\":700,\"height\":600},                        {\"responsive\": true}                    ).then(function(){\n",
       "                            \n",
       "var gd = document.getElementById('73f202e6-1e83-4abc-ada5-7da24bd5a3bd');\n",
       "var x = new MutationObserver(function (mutations, observer) {{\n",
       "        var display = window.getComputedStyle(gd).display;\n",
       "        if (!display || display === 'none') {{\n",
       "            console.log([gd, 'removed!']);\n",
       "            Plotly.purge(gd);\n",
       "            observer.disconnect();\n",
       "        }}\n",
       "}});\n",
       "\n",
       "// Listen for the removal of the full notebook cells\n",
       "var notebookContainer = gd.closest('#notebook-container');\n",
       "if (notebookContainer) {{\n",
       "    x.observe(notebookContainer, {childList: true});\n",
       "}}\n",
       "\n",
       "// Listen for the clearing of the current output cell\n",
       "var outputEl = gd.closest('.output');\n",
       "if (outputEl) {{\n",
       "    x.observe(outputEl, {childList: true});\n",
       "}}\n",
       "\n",
       "                        })                };                });            </script>        </div>"
      ]
     },
     "metadata": {},
     "output_type": "display_data"
    },
    {
     "name": "stdout",
     "output_type": "stream",
     "text": [
      "\n",
      "Erste Zeilen der standardisierten Trainingsdaten:\n",
      " [[ 0.36712254  1.28435589]\n",
      " [ 1.15031731 -0.47956636]\n",
      " [-1.19926698  0.40239476]\n",
      " [-0.8076696  -1.36152749]\n",
      " [ 0.75871992  1.28435589]]\n"
     ]
    }
   ],
   "source": [
    "# Beispielhafte Datenerstellung\n",
    "np.random.seed(0)  # für reproduzierbare Ergebnisse\n",
    "data = {\n",
    "    'machines': [5, 7, 6, 5, 4, 6, 4, 9, 9, 4, 8, 5, 6, 9, 1, 1, 1, 8, 8, 8, 9, 8, 5, 8, 2, 6, 2, 9, 5, 4, 3, 7, 5, 6, 1, 6, 6, 6, 9, 7, 4, 4, 7, 1, 7, 7, 2, 2, 3, 4, 6, 4, 9, 1, 2, 2, 6, 3, 5, 3, 2, 1, 6, 2, 2, 4, 8, 1, 8, 1, 9, 5, 9, 6, 7, 1, 3, 2, 3, 2, 3, 4, 1, 7, 6, 3, 5, 1, 6, 9, 3, 7, 2, 7, 3, 2, 6, 1, 8, 1, 7, 3, 7, 9, 3, 6, 6, 6, 3, 9, 5, 8, 7, 3, 8, 4, 8, 6, 8, 7, 7, 5, 9, 6, 4, 6, 1, 3, 6, 3, 6, 4, 2, 3, 6, 6, 6, 6, 6, 4, 9, 4, 4, 9, 8, 7, 1, 9, 7, 9, 2, 8, 2, 6, 2, 8, 8, 6, 4, 1, 7, 5, 7, 8, 9, 8, 1, 4, 7, 2, 5, 1, 2, 1, 8, 3, 4, 9, 7, 1, 2, 6, 6, 3, 9, 6, 5, 6, 7, 3, 4, 2, 2, 9, 7, 5, 3, 3, 1, 4],  # Anzahl Maschinen zwischen 1 und 10\n",
    "    'complexity': [2, 3, 2, 1, 1, 1, 3, 2, 3, 4, 4, 1, 3, 2, 1, 4, 2, 2, 3, 4, 3, 4, 2, 4, 1, 4, 3, 1, 4, 3, 2, 1, 3, 1, 1, 2, 2, 2, 2, 3, 4, 1, 3, 1, 3, 2, 3, 1, 1, 2, 2, 4, 4, 3, 4, 1, 3, 3, 4, 2, 1, 1, 1, 4, 3, 4, 2, 3, 1, 2, 4, 4, 2, 4, 1, 4, 4, 4, 3, 4, 2, 4, 3, 1, 2, 1, 4, 2, 2, 3, 2, 1, 4, 1, 3, 1, 1, 4, 4, 4, 4, 4, 2, 1, 2, 1, 1, 1, 3, 1, 4, 1, 1, 1, 3, 1, 2, 3, 4, 3, 2, 1, 1, 2, 2, 2, 3, 3, 2, 2, 1, 4, 1, 3, 4, 4, 2, 2, 3, 2, 2, 1, 2, 1, 4, 1, 3, 2, 3, 4, 3, 1, 2, 3, 3, 3, 2, 1, 2, 4, 1, 4, 3, 2, 4, 2, 3, 2, 4, 3, 3, 2, 4, 3, 1, 1, 4, 4, 2, 3, 4, 2, 4, 3, 4, 4, 4, 1, 3, 2, 1, 2, 2, 4, 1, 4, 2, 2, 1, 1],  # Komplexitätsskala von 1 bis 4\n",
    "    'fabrication_time': [67.90659729035198, 56.106398427806, 50.994476604973414, 63.666157089643946, 35.097612868648845, 32.039833707027626, 66.22680286228086, 40.91527383975611, 48.867428230641316, 77.69669211415139, 63.07560396856529, 45.89042085563238, 52.20593417172311, 27.30510517168884, 69.6177453658591, 82.13627375506708, 58.139671112137194, 39.315616233114596, 51.63499475754276, 97.85085245947315, 38.92949586215649, 78.14891087454242, 68.70782501306948, 46.16582567194396, 72.598794661039, 55.24179039710023, 41.11241643004889, 38.594792865390716, 51.16164124843421, 78.76401692708872, 56.239836533941755, 63.393261942848085, 83.52764098974014, 36.19921294222919, 55.182435834569766, 34.78883895358819, 46.38616051561113, 48.79466757223236, 34.02959683412472, 60.85055782908546, 90.67782246593318, 57.24481685489761, 47.037841141403355, 43.93312789297632, 78.96797772153707, 38.15826223175094, 71.21559600097471, 53.18216031548334, 28.853956747650273, 54.8303899393927, 45.80516278988078, 91.30537447515269, 69.97685723661004, 85.55656333629403, 104.97772561171456, 66.09947475701892, 62.764768325961676, 78.91392252447335, 74.64019759627901, 60.57725728949825, 56.9839969465905, 48.579830027949896, 47.20662557974444, 76.10314583605629, 93.62446896110454, 78.25812129758577, 44.74242472475136, 92.90755164421435, 43.64971697594392, 51.94064887049821, 56.39644485754042, 90.70268368121174, 14.028412708516182, 78.80920713092596, 4.6665365589671595, 80.16239734546595, 87.07945827760282, 66.1492734651707, 61.71733893473774, 68.9224748880462, 91.22202398311339, 84.46341633231, 94.00935416779004, 35.15987349227268, 47.69852376864201, 32.252887170234516, 73.12243955878206, 64.07761682282565, 65.86885886438505, 66.61652799986359, 88.49868073361267, 51.28827909191848, 82.02019094615521, 21.761545210594083, 87.99994772467629, 66.34439226208434, 16.47192323984454, 100.83222689115654, 76.21779733731799, 96.38388383772445, 65.72419493485988, 74.38527268575467, 26.80197950654918, 41.50446924010041, 61.863283328424366, 39.49800007684461, 68.990817803787, 53.26751660288785, 82.06237501921653, 31.630927077808536, 100.29992291148659, 59.793839611242916, 52.44257667219292, 65.23336887096886, 22.58095393190783, 53.855828713502596, 42.04839568709444, 64.40929844078353, 78.14569130983777, 17.404842492156654, 39.96031919794722, 51.54856532411142, 22.497316809208563, 31.746408303106108, 75.03445230345193, 57.15307858769192, 70.93343144333274, 81.22225806773736, 65.32378568074694, 66.57938969449042, 55.00847205146495, 83.17390262742492, 55.071565260184684, 59.108692254001305, 71.71103849542581, 75.91439407068657, 66.13749142380996, 51.2733879726916, 69.86123409331486, 47.53081979399407, 27.760562662587123, 50.34416051459668, 46.18057304022479, 41.80371755987022, 70.9469549397791, 42.6864364658868, 90.58356187823917, 69.81565342227196, 51.46703718049807, 26.478380717491632, 83.98950295344697, 33.24094688557501, 63.23721436234395, 48.317552109618454, 74.41215717296778, 56.72007643826732, 36.45774949036193, 79.18680519315623, 47.59243427550278, 83.60323955938493, 4.170699399782073, 81.27226622532305, 28.2539005830036, 35.90818049938248, 55.36494198159164, 33.354080512296676, 111.58309016181767, 76.91591586973249, 88.28705314452364, 67.76371772175122, 84.42891096771852, 82.94001419515943, 102.57108923015268, 100.94158243174151, 20.3685513106142, 50.13523568533148, 94.93894016992677, 19.665713605376006, 71.19992123859808, 93.79698096311375, 90.31444059009648, 56.3076148363576, 57.55097075036535, 71.25084953116342, 76.0042650733056, 92.47032958489332, 117.9433607884537, 41.89113000579377, 48.62170549792494, 58.786490510900165, 36.729371870689526, 69.83217866088724, 76.74098645018402, 58.98636579202069, 54.94520268498698, 73.98676297983195, 61.28824021252155, 57.78097284709512, 41.01048210648257, 28.48348413537319]  # Zielvariable: Fertigungszeit\n",
    "}\n",
    "\n",
    "df = pd.DataFrame(data)\n",
    "\n",
    "# Überblick über die Daten\n",
    "print(\"Datenüberblick:\")\n",
    "print(df.head())\n",
    "\n",
    "# Überprüfen auf fehlende Werte\n",
    "print(\"\\nFehlende Werte:\\n\", df.isnull().sum())\n",
    "\n",
    "# Aufteilen in Features (X) und Zielvariable (y)\n",
    "X = df[['machines', 'complexity']]\n",
    "y = df['fabrication_time']\n",
    "\n",
    "fig = go.Figure()\n",
    "\n",
    "# Scatter plot of actual values\n",
    "fig.add_trace(go.Scatter3d(\n",
    "    x=X['machines'], y=X['complexity'], z=y,\n",
    "    mode='markers',\n",
    "    marker=dict(size=4, color='blue', opacity=0.5),\n",
    "    name='Actual Fabrication Time'\n",
    "))\n",
    "\n",
    "fig.update_layout(\n",
    "    title=\"Fabrication Time: Machines vs Complexity\",\n",
    "    scene=dict(\n",
    "        xaxis_title=\"Machines\",\n",
    "        yaxis_title=\"Complexity\",\n",
    "        zaxis_title=\"Fabrication Time\"\n",
    "    ),\n",
    "    width=700, height=600\n",
    ")\n",
    "\n",
    "fig.show()\n",
    "\n",
    "\n",
    "# Aufteilen in Trainings- und Testdaten\n",
    "X_train, X_test, y_train, y_test = train_test_split(X, y, test_size=0.2, random_state=0)\n",
    "\n",
    "# Standardisieren der Features\n",
    "scaler = StandardScaler()\n",
    "X_train = scaler.fit_transform(X_train)\n",
    "X_test = scaler.transform(X_test)\n",
    "\n",
    "print(\"\\nErste Zeilen der standardisierten Trainingsdaten:\\n\", X_train[:5]) # standard scaler transformiert dataframe zu numpy array! Gängige df-Methoden nicht anwendbar\n"
   ]
  },
  {
   "cell_type": "markdown",
   "metadata": {
    "id": "i2U1LuY8BvIl"
   },
   "source": [
    "## Modellbildung"
   ]
  },
  {
   "cell_type": "code",
   "execution_count": 5,
   "metadata": {
    "colab": {
     "base_uri": "https://localhost:8080/"
    },
    "executionInfo": {
     "elapsed": 791,
     "status": "ok",
     "timestamp": 1730996948190,
     "user": {
      "displayName": "Roman List",
      "userId": "11668527673835904073"
     },
     "user_tz": -60
    },
    "id": "4_aEOcvZB1d6",
    "outputId": "f39b436e-e42f-4b1c-ce52-bfed847c0153"
   },
   "outputs": [
    {
     "name": "stdout",
     "output_type": "stream",
     "text": [
      "\n",
      "Modell-Koeffizienten: [-10.19263862  12.1339451 ]\n",
      "Modell-Achsenabschnitt: 61.01192151742241\n"
     ]
    }
   ],
   "source": [
    "from sklearn.linear_model import LinearRegression\n",
    "\n",
    "# Modellinitialisierung und Training\n",
    "model = LinearRegression()\n",
    "model.fit(X_train, y_train)\n",
    "\n",
    "# Ausgabe der Modellparameter\n",
    "print(\"\\nModell-Koeffizienten:\", model.coef_)\n",
    "print(\"Modell-Achsenabschnitt:\", model.intercept_)\n"
   ]
  },
  {
   "cell_type": "code",
   "execution_count": 6,
   "metadata": {
    "colab": {
     "base_uri": "https://localhost:8080/"
    },
    "executionInfo": {
     "elapsed": 383,
     "status": "ok",
     "timestamp": 1730996951985,
     "user": {
      "displayName": "Roman List",
      "userId": "11668527673835904073"
     },
     "user_tz": -60
    },
    "id": "HprssvFSMF0i",
    "outputId": "ee2a1dd7-92c6-480f-d0da-c7f679820beb"
   },
   "outputs": [
    {
     "name": "stdout",
     "output_type": "stream",
     "text": [
      "Mean Absolute Error (MAE): 11.60\n",
      "Mean Squared Error (MSE): 221.84\n",
      "Root Mean Squared Error (RMSE): 14.89\n",
      "R²-Score: 0.53\n"
     ]
    }
   ],
   "source": [
    "from sklearn.metrics import mean_absolute_error, mean_squared_error, r2_score\n",
    "\n",
    "# Vorhersagen auf den standardisierten Testdaten\n",
    "y_pred = model.predict(X_test)\n",
    "\n",
    "# Berechnung der Metriken auf der Originalskala\n",
    "mae = mean_absolute_error(y_test, y_pred)\n",
    "mse = mean_squared_error(y_test, y_pred)\n",
    "rmse = np.sqrt(mse)\n",
    "r2 = r2_score(y_test, y_pred)\n",
    "\n",
    "# Ausgabe der Metriken\n",
    "print(f\"Mean Absolute Error (MAE): {mae:.2f}\")\n",
    "print(f\"Mean Squared Error (MSE): {mse:.2f}\")\n",
    "print(f\"Root Mean Squared Error (RMSE): {rmse:.2f}\")\n",
    "print(f\"R²-Score: {r2:.2f}\")"
   ]
  },
  {
   "cell_type": "code",
   "execution_count": 7,
   "metadata": {
    "colab": {
     "base_uri": "https://localhost:8080/",
     "height": 923
    },
    "executionInfo": {
     "elapsed": 364,
     "status": "ok",
     "timestamp": 1730996956544,
     "user": {
      "displayName": "Roman List",
      "userId": "11668527673835904073"
     },
     "user_tz": -60
    },
    "id": "ijb6bwYhRM9v",
    "outputId": "d6b3c12e-4adf-405c-a5ef-fcef5c21f982"
   },
   "outputs": [
    {
     "name": "stdout",
     "output_type": "stream",
     "text": [
      "[[ 1.15031731  0.40239476]\n",
      " [-0.02447484  0.40239476]\n",
      " [ 0.36712254 -1.36152749]\n",
      " [ 1.15031731  1.28435589]\n",
      " [ 1.54191469  1.28435589]]\n",
      "[[8. 3.]\n",
      " [5. 3.]\n",
      " [6. 1.]\n",
      " [8. 4.]\n",
      " [9. 4.]]\n"
     ]
    },
    {
     "name": "stderr",
     "output_type": "stream",
     "text": [
      "/Users/romanlist/Python Projects/scvenv/lib/python3.13/site-packages/sklearn/utils/validation.py:2739: UserWarning:\n",
      "\n",
      "X does not have valid feature names, but StandardScaler was fitted with feature names\n",
      "\n",
      "/Users/romanlist/Python Projects/scvenv/lib/python3.13/site-packages/sklearn/utils/validation.py:2739: UserWarning:\n",
      "\n",
      "X does not have valid feature names, but StandardScaler was fitted with feature names\n",
      "\n"
     ]
    },
    {
     "data": {
      "text/html": [
       "<div>                            <div id=\"07d4e1b5-c043-43d2-9fa8-da72a9ea8985\" class=\"plotly-graph-div\" style=\"height:600px; width:700px;\"></div>            <script type=\"text/javascript\">                require([\"plotly\"], function(Plotly) {                    window.PLOTLYENV=window.PLOTLYENV || {};                                    if (document.getElementById(\"07d4e1b5-c043-43d2-9fa8-da72a9ea8985\")) {                    Plotly.newPlot(                        \"07d4e1b5-c043-43d2-9fa8-da72a9ea8985\",                        [{\"marker\":{\"color\":\"blue\",\"opacity\":0.5,\"size\":4},\"mode\":\"markers\",\"name\":\"Actual Fabrication Time\",\"x\":[8.0,5.0,6.0,8.0,9.0,6.0,6.0,1.0,6.0,2.0,1.0,6.0,2.0,2.0,3.0,9.0,6.0,6.0,6.0,7.0,3.0,7.0,7.0,1.0,2.0,6.0,1.0,6.0,9.0,7.0,1.0,2.0,2.0,8.0,5.0,3.0,3.0,4.0,7.0,6.0],\"y\":[3.0,3.0,0.9999999999999998,4.0,4.0,4.0,0.9999999999999998,3.0,3.0,2.0,0.9999999999999998,2.0,4.0,3.0,2.0,2.0,0.9999999999999998,0.9999999999999998,2.0,0.9999999999999998,3.0,0.9999999999999998,2.0,4.0,0.9999999999999998,2.0,3.0,4.0,0.9999999999999998,3.0,2.0,0.9999999999999998,3.0,0.9999999999999998,2.0,2.0,2.0,0.9999999999999998,0.9999999999999998,0.9999999999999998],\"z\":[51.63499475754276,84.42891096771852,53.26751660288785,76.21779733731799,19.665713605376006,57.55097075036535,32.039833707027626,90.58356187823917,52.20593417172311,63.23721436234395,48.579830027949896,57.15307858769192,90.31444059009648,74.41215717296778,91.22202398311339,40.91527383975611,36.19921294222919,55.00847205146495,48.79466757223236,4.6665365589671595,71.25084953116342,42.6864364658868,38.15826223175094,83.60323955938493,56.9839969465905,31.746408303106108,93.79698096311375,92.47032958489332,22.497316809208563,78.96797772153707,58.139671112137194,66.09947475701892,83.98950295344697,59.793839611242916,68.70782501306948,58.786490510900165,66.57938969449042,35.097612868648845,35.15987349227268,68.990817803787],\"type\":\"scatter3d\"},{\"marker\":{\"color\":\"red\",\"opacity\":0.5,\"size\":4},\"mode\":\"markers\",\"name\":\"Predicted Fabrication Time\",\"x\":[8.0,5.0,6.0,8.0,9.0,6.0,6.0,1.0,6.0,2.0,1.0,6.0,2.0,2.0,3.0,9.0,6.0,6.0,6.0,7.0,3.0,7.0,7.0,1.0,2.0,6.0,1.0,6.0,9.0,7.0,1.0,2.0,2.0,8.0,5.0,3.0,3.0,4.0,7.0,6.0],\"y\":[3.0,3.0,0.9999999999999998,4.0,4.0,4.0,0.9999999999999998,3.0,3.0,2.0,0.9999999999999998,2.0,4.0,3.0,2.0,2.0,0.9999999999999998,0.9999999999999998,2.0,0.9999999999999998,3.0,0.9999999999999998,2.0,4.0,0.9999999999999998,2.0,3.0,4.0,0.9999999999999998,3.0,2.0,0.9999999999999998,3.0,0.9999999999999998,2.0,2.0,2.0,0.9999999999999998,0.9999999999999998,0.9999999999999998],\"z\":[54.169788894229015,66.14402065092476,40.74927429810681,64.87145677785536,60.88004619229011,72.85427794898585,40.74927429810681,82.10966299318574,62.152610065359504,67.41658452399415,60.70632722593305,51.45094218173316,88.81992029124685,78.1182524076205,63.425173938428905,39.47671042503742,40.74927429810681,40.74927429810681,51.45094218173316,36.75786371254157,74.12684182205524,36.75786371254157,47.45953159616791,92.8113308768121,56.714916640367804,51.45094218173316,82.10966299318574,72.85427794898585,28.775042541411075,58.161199479794256,71.40799510955941,56.714916640367804,78.1182524076205,32.76645312697632,55.44235276729841,63.425173938428905,63.425173938428905,48.73209546923731,36.75786371254157,40.74927429810681],\"type\":\"scatter3d\"},{\"colorscale\":[[0.0,\"#440154\"],[0.1111111111111111,\"#482878\"],[0.2222222222222222,\"#3e4989\"],[0.3333333333333333,\"#31688e\"],[0.4444444444444444,\"#26828e\"],[0.5555555555555556,\"#1f9e89\"],[0.6666666666666666,\"#35b779\"],[0.7777777777777778,\"#6ece58\"],[0.8888888888888888,\"#b5de2b\"],[1.0,\"#fde725\"]],\"name\":\"Best Fit Plane\",\"opacity\":0.5,\"showscale\":false,\"x\":[[1.0,9.0],[1.0,9.0]],\"y\":[[0.9999999999999998,0.9999999999999998],[4.0,4.0]],\"z\":[[60.70632722593305,28.775042541411075],[92.8113308768121,60.88004619229011]],\"type\":\"surface\"}],                        {\"template\":{\"data\":{\"histogram2dcontour\":[{\"type\":\"histogram2dcontour\",\"colorbar\":{\"outlinewidth\":0,\"ticks\":\"\"},\"colorscale\":[[0.0,\"#0d0887\"],[0.1111111111111111,\"#46039f\"],[0.2222222222222222,\"#7201a8\"],[0.3333333333333333,\"#9c179e\"],[0.4444444444444444,\"#bd3786\"],[0.5555555555555556,\"#d8576b\"],[0.6666666666666666,\"#ed7953\"],[0.7777777777777778,\"#fb9f3a\"],[0.8888888888888888,\"#fdca26\"],[1.0,\"#f0f921\"]]}],\"choropleth\":[{\"type\":\"choropleth\",\"colorbar\":{\"outlinewidth\":0,\"ticks\":\"\"}}],\"histogram2d\":[{\"type\":\"histogram2d\",\"colorbar\":{\"outlinewidth\":0,\"ticks\":\"\"},\"colorscale\":[[0.0,\"#0d0887\"],[0.1111111111111111,\"#46039f\"],[0.2222222222222222,\"#7201a8\"],[0.3333333333333333,\"#9c179e\"],[0.4444444444444444,\"#bd3786\"],[0.5555555555555556,\"#d8576b\"],[0.6666666666666666,\"#ed7953\"],[0.7777777777777778,\"#fb9f3a\"],[0.8888888888888888,\"#fdca26\"],[1.0,\"#f0f921\"]]}],\"heatmap\":[{\"type\":\"heatmap\",\"colorbar\":{\"outlinewidth\":0,\"ticks\":\"\"},\"colorscale\":[[0.0,\"#0d0887\"],[0.1111111111111111,\"#46039f\"],[0.2222222222222222,\"#7201a8\"],[0.3333333333333333,\"#9c179e\"],[0.4444444444444444,\"#bd3786\"],[0.5555555555555556,\"#d8576b\"],[0.6666666666666666,\"#ed7953\"],[0.7777777777777778,\"#fb9f3a\"],[0.8888888888888888,\"#fdca26\"],[1.0,\"#f0f921\"]]}],\"heatmapgl\":[{\"type\":\"heatmapgl\",\"colorbar\":{\"outlinewidth\":0,\"ticks\":\"\"},\"colorscale\":[[0.0,\"#0d0887\"],[0.1111111111111111,\"#46039f\"],[0.2222222222222222,\"#7201a8\"],[0.3333333333333333,\"#9c179e\"],[0.4444444444444444,\"#bd3786\"],[0.5555555555555556,\"#d8576b\"],[0.6666666666666666,\"#ed7953\"],[0.7777777777777778,\"#fb9f3a\"],[0.8888888888888888,\"#fdca26\"],[1.0,\"#f0f921\"]]}],\"contourcarpet\":[{\"type\":\"contourcarpet\",\"colorbar\":{\"outlinewidth\":0,\"ticks\":\"\"}}],\"contour\":[{\"type\":\"contour\",\"colorbar\":{\"outlinewidth\":0,\"ticks\":\"\"},\"colorscale\":[[0.0,\"#0d0887\"],[0.1111111111111111,\"#46039f\"],[0.2222222222222222,\"#7201a8\"],[0.3333333333333333,\"#9c179e\"],[0.4444444444444444,\"#bd3786\"],[0.5555555555555556,\"#d8576b\"],[0.6666666666666666,\"#ed7953\"],[0.7777777777777778,\"#fb9f3a\"],[0.8888888888888888,\"#fdca26\"],[1.0,\"#f0f921\"]]}],\"surface\":[{\"type\":\"surface\",\"colorbar\":{\"outlinewidth\":0,\"ticks\":\"\"},\"colorscale\":[[0.0,\"#0d0887\"],[0.1111111111111111,\"#46039f\"],[0.2222222222222222,\"#7201a8\"],[0.3333333333333333,\"#9c179e\"],[0.4444444444444444,\"#bd3786\"],[0.5555555555555556,\"#d8576b\"],[0.6666666666666666,\"#ed7953\"],[0.7777777777777778,\"#fb9f3a\"],[0.8888888888888888,\"#fdca26\"],[1.0,\"#f0f921\"]]}],\"mesh3d\":[{\"type\":\"mesh3d\",\"colorbar\":{\"outlinewidth\":0,\"ticks\":\"\"}}],\"scatter\":[{\"fillpattern\":{\"fillmode\":\"overlay\",\"size\":10,\"solidity\":0.2},\"type\":\"scatter\"}],\"parcoords\":[{\"type\":\"parcoords\",\"line\":{\"colorbar\":{\"outlinewidth\":0,\"ticks\":\"\"}}}],\"scatterpolargl\":[{\"type\":\"scatterpolargl\",\"marker\":{\"colorbar\":{\"outlinewidth\":0,\"ticks\":\"\"}}}],\"bar\":[{\"error_x\":{\"color\":\"#2a3f5f\"},\"error_y\":{\"color\":\"#2a3f5f\"},\"marker\":{\"line\":{\"color\":\"#E5ECF6\",\"width\":0.5},\"pattern\":{\"fillmode\":\"overlay\",\"size\":10,\"solidity\":0.2}},\"type\":\"bar\"}],\"scattergeo\":[{\"type\":\"scattergeo\",\"marker\":{\"colorbar\":{\"outlinewidth\":0,\"ticks\":\"\"}}}],\"scatterpolar\":[{\"type\":\"scatterpolar\",\"marker\":{\"colorbar\":{\"outlinewidth\":0,\"ticks\":\"\"}}}],\"histogram\":[{\"marker\":{\"pattern\":{\"fillmode\":\"overlay\",\"size\":10,\"solidity\":0.2}},\"type\":\"histogram\"}],\"scattergl\":[{\"type\":\"scattergl\",\"marker\":{\"colorbar\":{\"outlinewidth\":0,\"ticks\":\"\"}}}],\"scatter3d\":[{\"type\":\"scatter3d\",\"line\":{\"colorbar\":{\"outlinewidth\":0,\"ticks\":\"\"}},\"marker\":{\"colorbar\":{\"outlinewidth\":0,\"ticks\":\"\"}}}],\"scattermapbox\":[{\"type\":\"scattermapbox\",\"marker\":{\"colorbar\":{\"outlinewidth\":0,\"ticks\":\"\"}}}],\"scatterternary\":[{\"type\":\"scatterternary\",\"marker\":{\"colorbar\":{\"outlinewidth\":0,\"ticks\":\"\"}}}],\"scattercarpet\":[{\"type\":\"scattercarpet\",\"marker\":{\"colorbar\":{\"outlinewidth\":0,\"ticks\":\"\"}}}],\"carpet\":[{\"aaxis\":{\"endlinecolor\":\"#2a3f5f\",\"gridcolor\":\"white\",\"linecolor\":\"white\",\"minorgridcolor\":\"white\",\"startlinecolor\":\"#2a3f5f\"},\"baxis\":{\"endlinecolor\":\"#2a3f5f\",\"gridcolor\":\"white\",\"linecolor\":\"white\",\"minorgridcolor\":\"white\",\"startlinecolor\":\"#2a3f5f\"},\"type\":\"carpet\"}],\"table\":[{\"cells\":{\"fill\":{\"color\":\"#EBF0F8\"},\"line\":{\"color\":\"white\"}},\"header\":{\"fill\":{\"color\":\"#C8D4E3\"},\"line\":{\"color\":\"white\"}},\"type\":\"table\"}],\"barpolar\":[{\"marker\":{\"line\":{\"color\":\"#E5ECF6\",\"width\":0.5},\"pattern\":{\"fillmode\":\"overlay\",\"size\":10,\"solidity\":0.2}},\"type\":\"barpolar\"}],\"pie\":[{\"automargin\":true,\"type\":\"pie\"}]},\"layout\":{\"autotypenumbers\":\"strict\",\"colorway\":[\"#636efa\",\"#EF553B\",\"#00cc96\",\"#ab63fa\",\"#FFA15A\",\"#19d3f3\",\"#FF6692\",\"#B6E880\",\"#FF97FF\",\"#FECB52\"],\"font\":{\"color\":\"#2a3f5f\"},\"hovermode\":\"closest\",\"hoverlabel\":{\"align\":\"left\"},\"paper_bgcolor\":\"white\",\"plot_bgcolor\":\"#E5ECF6\",\"polar\":{\"bgcolor\":\"#E5ECF6\",\"angularaxis\":{\"gridcolor\":\"white\",\"linecolor\":\"white\",\"ticks\":\"\"},\"radialaxis\":{\"gridcolor\":\"white\",\"linecolor\":\"white\",\"ticks\":\"\"}},\"ternary\":{\"bgcolor\":\"#E5ECF6\",\"aaxis\":{\"gridcolor\":\"white\",\"linecolor\":\"white\",\"ticks\":\"\"},\"baxis\":{\"gridcolor\":\"white\",\"linecolor\":\"white\",\"ticks\":\"\"},\"caxis\":{\"gridcolor\":\"white\",\"linecolor\":\"white\",\"ticks\":\"\"}},\"coloraxis\":{\"colorbar\":{\"outlinewidth\":0,\"ticks\":\"\"}},\"colorscale\":{\"sequential\":[[0.0,\"#0d0887\"],[0.1111111111111111,\"#46039f\"],[0.2222222222222222,\"#7201a8\"],[0.3333333333333333,\"#9c179e\"],[0.4444444444444444,\"#bd3786\"],[0.5555555555555556,\"#d8576b\"],[0.6666666666666666,\"#ed7953\"],[0.7777777777777778,\"#fb9f3a\"],[0.8888888888888888,\"#fdca26\"],[1.0,\"#f0f921\"]],\"sequentialminus\":[[0.0,\"#0d0887\"],[0.1111111111111111,\"#46039f\"],[0.2222222222222222,\"#7201a8\"],[0.3333333333333333,\"#9c179e\"],[0.4444444444444444,\"#bd3786\"],[0.5555555555555556,\"#d8576b\"],[0.6666666666666666,\"#ed7953\"],[0.7777777777777778,\"#fb9f3a\"],[0.8888888888888888,\"#fdca26\"],[1.0,\"#f0f921\"]],\"diverging\":[[0,\"#8e0152\"],[0.1,\"#c51b7d\"],[0.2,\"#de77ae\"],[0.3,\"#f1b6da\"],[0.4,\"#fde0ef\"],[0.5,\"#f7f7f7\"],[0.6,\"#e6f5d0\"],[0.7,\"#b8e186\"],[0.8,\"#7fbc41\"],[0.9,\"#4d9221\"],[1,\"#276419\"]]},\"xaxis\":{\"gridcolor\":\"white\",\"linecolor\":\"white\",\"ticks\":\"\",\"title\":{\"standoff\":15},\"zerolinecolor\":\"white\",\"automargin\":true,\"zerolinewidth\":2},\"yaxis\":{\"gridcolor\":\"white\",\"linecolor\":\"white\",\"ticks\":\"\",\"title\":{\"standoff\":15},\"zerolinecolor\":\"white\",\"automargin\":true,\"zerolinewidth\":2},\"scene\":{\"xaxis\":{\"backgroundcolor\":\"#E5ECF6\",\"gridcolor\":\"white\",\"linecolor\":\"white\",\"showbackground\":true,\"ticks\":\"\",\"zerolinecolor\":\"white\",\"gridwidth\":2},\"yaxis\":{\"backgroundcolor\":\"#E5ECF6\",\"gridcolor\":\"white\",\"linecolor\":\"white\",\"showbackground\":true,\"ticks\":\"\",\"zerolinecolor\":\"white\",\"gridwidth\":2},\"zaxis\":{\"backgroundcolor\":\"#E5ECF6\",\"gridcolor\":\"white\",\"linecolor\":\"white\",\"showbackground\":true,\"ticks\":\"\",\"zerolinecolor\":\"white\",\"gridwidth\":2}},\"shapedefaults\":{\"line\":{\"color\":\"#2a3f5f\"}},\"annotationdefaults\":{\"arrowcolor\":\"#2a3f5f\",\"arrowhead\":0,\"arrowwidth\":1},\"geo\":{\"bgcolor\":\"white\",\"landcolor\":\"#E5ECF6\",\"subunitcolor\":\"white\",\"showland\":true,\"showlakes\":true,\"lakecolor\":\"white\"},\"title\":{\"x\":0.05},\"mapbox\":{\"style\":\"light\"}}},\"title\":{\"text\":\"Fabrication Time: Machines vs Complexity\"},\"scene\":{\"xaxis\":{\"title\":{\"text\":\"Machines\"}},\"yaxis\":{\"title\":{\"text\":\"Complexity\"}},\"zaxis\":{\"title\":{\"text\":\"Fabrication Time\"}}},\"width\":700,\"height\":600},                        {\"responsive\": true}                    ).then(function(){\n",
       "                            \n",
       "var gd = document.getElementById('07d4e1b5-c043-43d2-9fa8-da72a9ea8985');\n",
       "var x = new MutationObserver(function (mutations, observer) {{\n",
       "        var display = window.getComputedStyle(gd).display;\n",
       "        if (!display || display === 'none') {{\n",
       "            console.log([gd, 'removed!']);\n",
       "            Plotly.purge(gd);\n",
       "            observer.disconnect();\n",
       "        }}\n",
       "}});\n",
       "\n",
       "// Listen for the removal of the full notebook cells\n",
       "var notebookContainer = gd.closest('#notebook-container');\n",
       "if (notebookContainer) {{\n",
       "    x.observe(notebookContainer, {childList: true});\n",
       "}}\n",
       "\n",
       "// Listen for the clearing of the current output cell\n",
       "var outputEl = gd.closest('.output');\n",
       "if (outputEl) {{\n",
       "    x.observe(outputEl, {childList: true});\n",
       "}}\n",
       "\n",
       "                        })                };                });            </script>        </div>"
      ]
     },
     "metadata": {},
     "output_type": "display_data"
    }
   ],
   "source": [
    "coefs = model.coef_\n",
    "intercept = model.intercept_\n",
    "\n",
    "def best_fit_plane(x, y, coef1, coef2, intercept):\n",
    "    return coef1 * x + coef2 * y + intercept\n",
    "\n",
    "\n",
    "# Rücktransformation der Standardisierung für X_test, um die Originalskala zu erhalten\n",
    "print(X_test[:5])\n",
    "X_test_original = scaler.inverse_transform(X_test)\n",
    "print(X_test_original[:5])\n",
    "\n",
    "# Plot 1: Machines vs Complexity vs Fabrication Time\n",
    "x_vals_original = X_test_original[:, 0]  # Machines\n",
    "y_vals_original = X_test_original[:, 1]  # Complexity\n",
    "\n",
    "fig = go.Figure()\n",
    "\n",
    "# Scatter plot of actual values\n",
    "fig.add_trace(go.Scatter3d(\n",
    "    x=x_vals_original, y=y_vals_original, z=y_test,\n",
    "    mode='markers',\n",
    "    marker=dict(size=4, color='blue', opacity=0.5),\n",
    "    name='Actual Fabrication Time'\n",
    "))\n",
    "\n",
    "# Scatter plot of predicted values\n",
    "fig.add_trace(go.Scatter3d(\n",
    "    x=x_vals_original, y=y_vals_original, z=y_pred,\n",
    "    mode='markers',\n",
    "    marker=dict(size=4, color='red', opacity=0.5),\n",
    "    name='Predicted Fabrication Time'\n",
    "))\n",
    "\n",
    "x_mesh, y_mesh = np.meshgrid(np.linspace(x_vals_original.min(), x_vals_original.max(), 2),\n",
    "                             np.linspace(y_vals_original.min(), y_vals_original.max(), 2))\n",
    "\n",
    "\n",
    "# Standardisiere die Gitterwerte, um sie in das Modell einsetzen zu können\n",
    "x_mesh_scaled = scaler.transform(np.c_[x_mesh.ravel(), y_mesh.ravel()])[:, 0]\n",
    "y_mesh_scaled = scaler.transform(np.c_[x_mesh.ravel(), y_mesh.ravel()])[:, 1]\n",
    "\n",
    "\n",
    "# Berechne die z-Werte für die Best-Fit-Plane auf Basis der skalierten Gitterwerte\n",
    "z_mesh = best_fit_plane(x_mesh_scaled, y_mesh_scaled, coefs[0], coefs[1], intercept).reshape(x_mesh.shape)\n",
    "\n",
    "fig.add_trace(go.Surface(\n",
    "    x=x_mesh, y=y_mesh, z=z_mesh,\n",
    "    colorscale='Viridis',\n",
    "    opacity=0.5,\n",
    "    showscale=False,\n",
    "    name='Best Fit Plane'\n",
    "))\n",
    "\n",
    "# Customize layout\n",
    "fig.update_layout(\n",
    "    title=\"Fabrication Time: Machines vs Complexity\",\n",
    "    scene=dict(\n",
    "        xaxis_title=\"Machines\",\n",
    "        yaxis_title=\"Complexity\",\n",
    "        zaxis_title=\"Fabrication Time\"\n",
    "    ),\n",
    "    width=700, height=600\n",
    ")\n",
    "\n",
    "fig.show()"
   ]
  },
  {
   "cell_type": "code",
   "execution_count": 36,
   "metadata": {
    "colab": {
     "base_uri": "https://localhost:8080/"
    },
    "executionInfo": {
     "elapsed": 401,
     "status": "ok",
     "timestamp": 1730842611538,
     "user": {
      "displayName": "Roman List",
      "userId": "11668527673835904073"
     },
     "user_tz": -60
    },
    "id": "1WWfM--IZVCX",
    "outputId": "a3260fce-ebe4-4ac3-b7ae-e32871bdbaf5"
   },
   "outputs": [
    {
     "name": "stdout",
     "output_type": "stream",
     "text": [
      "[2, 3, 2, 1, 1, 1, 3, 2, 3, 4, 4, 1, 3, 2, 1, 4, 2, 2, 3, 4, 3, 4, 2, 4, 1, 4, 3, 1, 4, 3, 2, 1, 3, 1, 1, 2, 2, 2, 2, 3, 4, 1, 3, 1, 3, 2, 3, 1, 1, 2, 2, 4, 4, 3, 4, 1, 3, 3, 4, 2, 1, 1, 1, 4, 3, 4, 2, 3, 1, 2, 4, 4, 2, 4, 1, 4, 4, 4, 3, 4, 2, 4, 3, 1, 2, 1, 4, 2, 2, 3, 2, 1, 4, 1, 3, 1, 1, 4, 4, 4, 4, 4, 2, 1, 2, 1, 1, 1, 3, 1, 4, 1, 1, 1, 3, 1, 2, 3, 4, 3, 2, 1, 1, 2, 2, 2, 3, 3, 2, 2, 1, 4, 1, 3, 4, 4, 2, 2, 3, 2, 2, 1, 2, 1, 4, 1, 3, 2, 3, 4, 3, 1, 2, 3, 3, 3, 2, 1, 2, 4, 1, 4, 3, 2, 4, 2, 3, 2, 4, 3, 3, 2, 4, 3, 1, 1, 4, 4, 2, 3, 4, 2, 4, 3, 4, 4, 4, 1, 3, 2, 1, 2, 2, 4, 1, 4, 2, 2, 1, 1]\n"
     ]
    }
   ],
   "source": [
    "def generate_linear_data(n_samples=200, coef1=2.0, coef2=3.0, intercept=5.0, noise_level=1.0,\n",
    "                         x1_range=(0, 10), x2_range=(0, 10), x1_type=float, x2_type=float, random_state=0):\n",
    "    \"\"\"\n",
    "    Erzeugt synthetische Daten mit einer linearen Abhängigkeit zwischen zwei Eingangsvariablen und einer Zielvariable,\n",
    "    plus zufälligem Rauschen. Ermöglicht die Einstellung der Wertebereiche und Datentypen für x1 und x2.\n",
    "\n",
    "    Parameters:\n",
    "        n_samples (int): Anzahl der zu generierenden Datenpunkte.\n",
    "        coef1 (float): Koeffizient für die erste Eingangsvariable.\n",
    "        coef2 (float): Koeffizient für die zweite Eingangsvariable.\n",
    "        intercept (float): Achsenabschnitt (y-Achsenwert, wenn x1 und x2 null sind).\n",
    "        noise_level (float): Standardabweichung des zufälligen Rauschens.\n",
    "        x1_range (tuple): Wertebereich (min, max) für x1.\n",
    "        x2_range (tuple): Wertebereich (min, max) für x2.\n",
    "        x1_type (type): Datentyp für x1 (int oder float).\n",
    "        x2_type (type): Datentyp für x2 (int oder float).\n",
    "        random_state (int): Seed für den Zufallszahlengenerator zur Reproduzierbarkeit.\n",
    "\n",
    "    Returns:\n",
    "        pd.DataFrame: Ein DataFrame mit den Spalten 'x1', 'x2' und 'y', wobei 'y' linear von 'x1' und 'x2' abhängt.\n",
    "    \"\"\"\n",
    "    np.random.seed(random_state)\n",
    "\n",
    "    # Generiere Eingangsvariablen x1 und x2 innerhalb des angegebenen Bereichs und Typs\n",
    "    x1 = np.random.uniform(x1_range[0], x1_range[1], n_samples).astype(x1_type)\n",
    "    x2 = np.random.uniform(x2_range[0], x2_range[1], n_samples).astype(x2_type)\n",
    "\n",
    "    # Berechne Zielvariable y mit Rauschen\n",
    "    y = coef1 * x1 + coef2 * x2 + intercept + np.random.normal(0, noise_level, n_samples)\n",
    "\n",
    "    # Erstelle den DataFrame\n",
    "    data = pd.DataFrame({'x1': x1, 'x2': x2, 'y': y})\n",
    "    return data\n",
    "\n",
    "# Beispiel: Generiere Daten mit einer linearen Abhängigkeit und definierten Wertebereichen für x1 und x2\n",
    "data = generate_linear_data(n_samples=200, coef1=-4.5, coef2=10.0, intercept= 60.0, noise_level=15.0,\n",
    "                            x1_range=(1, 10), x2_range=(1, 5), x1_type=int, x2_type=int)\n",
    "\n",
    "# Zeige die ersten Zeilen der generierten Daten an\n",
    "print([data['x2'][i] for i in range(200)])\n"
   ]
  },
  {
   "cell_type": "code",
   "execution_count": 72,
   "metadata": {
    "executionInfo": {
     "elapsed": 258,
     "status": "ok",
     "timestamp": 1730713523233,
     "user": {
      "displayName": "Roman List",
      "userId": "11668527673835904073"
     },
     "user_tz": -60
    },
    "id": "LOlllydxgwu2"
   },
   "outputs": [],
   "source": []
  }
 ],
 "metadata": {
  "colab": {
   "authorship_tag": "ABX9TyNM5tJbK9LbQ72tQcqsvLcp",
   "provenance": []
  },
  "kernelspec": {
   "display_name": "scvenv",
   "language": "python",
   "name": "scvenv"
  },
  "language_info": {
   "codemirror_mode": {
    "name": "ipython",
    "version": 3
   },
   "file_extension": ".py",
   "mimetype": "text/x-python",
   "name": "python",
   "nbconvert_exporter": "python",
   "pygments_lexer": "ipython3",
   "version": "3.13.1"
  }
 },
 "nbformat": 4,
 "nbformat_minor": 0
}
