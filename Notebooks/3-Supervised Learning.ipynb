{
 "cells": [
  {
   "cell_type": "markdown",
   "metadata": {},
   "source": [
    "# Einführung in Supervised Learning\n",
    "\n",
    "In diesem Notebook werden die Grundlagen des Supervised Learning eingeführt, welches einen der zentralen Ansätze im Machine Learning bildet. Du erfährst, was Supervised Learning ist, für welche Art von Problemen es eingesetzt wird und wirst anhand eines Beispiels Intuition für diese Methode entwickeln.\n",
    "\n",
    "### Lernziele\n",
    "Am Ende des Notebooks kannst du:\n",
    "- den Begriff **Supervised Learning** verständlich erklären und von **Unsupervised Learning** abgrenzen,\n",
    "- die Begriffe **Klassifikation** und **Regression** unterscheiden und ihre typische Anwendungsfälle benennen,\n",
    "- nachvollziehen, wie Modelle aus Daten lernen, indem sie Fehler minimieren,\n",
    "- ein geeignetes Problem mittels **linearer Regression** mit `scikit-learn` lösen\n",
    "\n",
    "Dieses Wissen bildet die Grundlage für die folgenden Kapitel, in denen du Klassifikationsmodelle wie **Logistische Regression** und **Random Forests** selbst implementieren und anwenden wirst. Also, los geht's!\n",
    "\n",
    "## Was ist Supervised Learning?\n",
    "\n",
    "Supervised Learning ist ein Sammelbegriff für Modelle, die mit _beschrifteten Daten_ trainiert werden. Das sind Daten, bei denen für jede Eingabe ($X$) bereits das zugehörige Ergebnis ($y$) bekannt ist. Das Ziel ist eines Supervised Learning-Modells ist es, aus den Daten eine Funktion zu erstellen, die _neuen, unbekannten_ Eingaben eine gute Vorhersage zuordnen kann. Die Qualität dieser Vorhersagen hängt von der Menge und der Qualität der zur Verfügung stehenden Daten ab.\n",
    "\n",
    "Ein Supervised-Learning-Problem besteht demnach aus zwei Hauptbestandteilen:\n",
    "1. **Eingabedaten** $X$ – die Merkmale (oder _Features_), die das Modell erhält, um eine Vorhersage zu treffen.\n",
    "2. **Zielvariable** $y$ – das Ergebnis (oder _Label_), das wir mit Hilfe der Eingabedaten vorhersagen wollen.\n",
    "\n",
    "### Beispiele für Supervised Learning\n",
    "\n",
    "- **Vorhersage des Preises** eines Hauses basierend auf dessen Fläche, Standort und Anzahl der Zimmer. \n",
    "- **Klassifizierung von E-Mails** in „Spam“ oder „Nicht-Spam“ basierend auf dem Inhalt und der Struktur der Nachricht.\n",
    "- **Vorhersage des Produktionsausstoßes** basierend auf Maschineneinstellungen und Umgebungsfaktoren.\n",
    "\n",
    "### Supervised Learning: Typen\n",
    "\n",
    "Die Beispiele oben enthalten schond die zwei grundlegenden Typen des Supervised Learning: **Regression** und **Klassifikation**.\n",
    "\n",
    "1. **Regression**: Bei einer Regressionsaufgabe wird eine **kontinuierliche Zielvariable** vorhergesagt. Das Ziel ist es, eine Funktion zu finden, die die Eingabewerte in kontinuierliche Werte überführt. Ein Beispiel ist die Vorhersage des Aktienkurses oder der Temperatur.\n",
    "  \n",
    "2. **Klassifikation**: Bei einer Klassifikationsaufgabe wird eine **diskrete Zielvariable** vorhergesagt. Hierbei handelt es sich um eine festgelegte Anzahl an Klassen, und das Ziel ist es, die Eingabe in eine dieser Klassen zuzuordnen. Ein Beispiel ist die Kategorisierung von Bildern in „Hund“, „Katze“ oder „Pferd“.\n",
    "\n",
    "### Vergleich: Supervised Learning vs. Unsupervised Learning\n",
    "\n",
    "Während das Supervised Learning auf **beschrifteten Daten** basiert, arbeitet das **Unsupervised Learning** mit **unbeschrifteten Daten**. Bei unbeschrifteten Daten sind die Zielvariablen nicht bekannt – das Modell hat nur die Eingabedaten $X$ zur Verfügung, ohne dass für diese Eingaben Zielwerte existieren. Das Ziel des Unsupervised Learning ist es daher nicht, eine bestimmte Zielvariable vorherzusagen, sondern **Strukturen oder Muster** innerhalb der Daten zu erkennen.\n",
    "\n",
    "#### Beispiele für Unsupervised Learning\n",
    "\n",
    "- **Kundensegmentierung**: Gruppen von Kunden mit ähnlichen Eigenschaften oder Verhaltensmustern erkennen, um zielgerichtete Marketingstrategien zu entwickeln.\n",
    "- **Anomalieerkennung**: Anomale Datenpunkte wie z.B. Betrugsversuche bei Kreditkarten identifizieren.\n",
    "- **Dimensionalitätsreduktion**: Mit Verfahren wie Principal Component Analysis (PCA) die Anzahl der Variablen reduzieren, um die Daten zu vereinfachen und gleichzeitig die wesentlichen Informationen zu bewahren.\n",
    "\n",
    "#### Unterschiede zwischen Supervised und Unsupervised Learning\n",
    "\n",
    "| Merkmal               | Supervised Learning                         | Unsupervised Learning                            |\n",
    "|-----------------------|---------------------------------------------|--------------------------------------------------|\n",
    "| **Zielvariable**      | Vorhersage eines bekannten Labels           | Keine Zielvariable, da keine Labels vorhanden    |\n",
    "| **Trainingsdaten**    | Beschriftete Daten (mit $X$ und $y$)| Unbeschriftete Daten (nur $X$)               |\n",
    "| **Ziel**              | Vorhersagen treffen oder klassifizieren     | Muster, Cluster oder Strukturen entdecken        |\n",
    "| **Beispiel**          | Preisvorhersage, Spam-Klassifikation        | Kundensegmentierung, Anomalie-Erkennung          |\n",
    "| **Typische Algorithmen** | Lineare Regression, Entscheidungsbäume, Neuronale Netze | K-Means Clustering, PCA, Assoziationsanalyse    |\n",
    "\n",
    "Da es in diesem Notebook um Supervised Learning geht, wollen wir uns zunächst dem einfachsten Beispiel des Supervised Learning widmen, der **linearen Regression**."
   ]
  },
  {
   "cell_type": "markdown",
   "metadata": {},
   "source": [
    "# Lineare Regression\n",
    "Bevor wir uns in einem zweiten Notebook der Klassifikation zuwenden, starten wir mit der Regression – also mit Vorhersagen kontinuierlicher Werte. Der Grund: Viele der zentralen Ideen des Supervised Learning wie **Modellierung**, **Fehlerminimierung** und **Trainingsprinzipien** lassen sich an diesem Beispiel gut erklären. \n",
    "\n",
    "Wir konzentrieren uns hier auf das einfachste Regressionsmodell: die **lineare Regression**.\n",
    "Anhand der linearen Regression lernen wir, die drei Zutaten zu verstehen, die für ein Regressionsmodell notwendig sind:\n",
    "\n",
    "- 1. Das **Modell** der Vorhersage zu formulieren,\n",
    "- 2. Den **Fehler** der Vorhersage zu quantifizieren,\n",
    "- 3. Den Fehler der Vorhersage zu **minimieren**.\n",
    "\n",
    "Anschließend setzen wir ein einfaches Beispiel mit `scikit-learn` um, um den gesamten Ablauf praktisch nachzuvollziehen.\n",
    "\n",
    "Diese Grundlagen helfen dir im zweiten Notebook, die **logistische Regression** für Klassifikationsprobleme besser zu verstehen – denn sie basiert auf dem gleichen Rezept, verwendet jedoch andere Zutaten.\n",
    "\n",
    "### Was ist lineare Regression?\n",
    "\n",
    "Die lineare Regression ist eines der grundlegendsten Modelle im Supervised Learning. Sie dient dazu, eine **lineare Beziehung** zwischen einer oder mehreren Eingabegrößen (*Features*) und einer Zielgröße (*Label*) zu modellieren. Die Idee: Finde eine Gerade, die möglichst gut durch die gegebenen Datenpunkte passt."
   ]
  },
  {
   "cell_type": "markdown",
   "metadata": {},
   "source": [
    "### Zutat 1: Das Modell - Die Gerade\n",
    "\n",
    "Im linearen Fall ist die Wahl des Modells schon klar: Eine Gerade. Im Fall von nur einem Feature $x$ (z.B. die Quadratmeteranzahl) und einem Label $y$ (z.B. der Hauspreis) ist das mathematische Modell also:\n",
    "\n",
    "\\begin{equation}\n",
    "\\hat{y} = w x + b\n",
    "\\tag{1}\n",
    "\\end{equation}\n",
    "\n",
    "* $x$: Eingabewert (Fläche des Hauses)\n",
    "* $\\hat{y}$: vorhergesagter Zielwert (Preis)\n",
    "* $w$: Gewicht (Steigung der Geraden)\n",
    "* $b$: Bias (Achsenabschnitt)\n",
    "\n",
    "Ziel ist es, die Parameter $w$ und $b$ so zu wählen, dass die Gerade möglichst gut zu den vorhandenen Daten passt.\n",
    "\n",
    "**Achtung:**\n",
    "Es sollte klar sein, dass die Annahme einer linearen Beziehung zwischen den Features und dem Label nicht immer gerechtfertigt ist. Bei Hauspreisen könnte man annehmen, dass eine solche Beziehung besteht. Ein Quadratmeter kostet soundsoviel, der nächste wird nicht teurer oder billiger sein. Allerdings ist beispielsweise der Zusammenhang zwischen der Außentemperatur und dem Stromverbrauch **nicht linear**: bei sehr niedrigen **und** sehr hohen Temperaturen steigt der Verbrauch, während er in einem mittleren Bereich eher konstant bleibt. Weiterhin kann die lineare Beziehung ab einem bestimmten Bereich scheitern (siehe Bild). In solchen Fällen kann ein lineares Modell die Realität nur unzureichend abbilden und komplexere Modelle wie Polynomregressionen oder nichtlineare Verfahren (z. B. Entscheidungsbäume oder neuronale Netze) könnnten besser geeignet sein.\n",
    "\n",
    "<center><img src=\"https://miro.medium.com/v2/resize:fit:922/1*_qoaFqMVgjstmtJNp-zNrw.png\"></center>\n",
    "\n",
    "#### Mehrdimensionaler Fall\n",
    "\n",
    "Im Allgemeinen haben wir allerdings nicht nur _ein_ Feature, sondern z.B. $p$ verschiedene. Um beim Beispiel des Hauspreises zu bleiben:\n",
    "\n",
    "\\begin{align*}\n",
    "x_1: \\mathrm{Quadratmeter}, \\quad & x_2: \\mathrm{Zimmeranzahl}, & \\dots & \\quad x_p: \\mathrm{Nähe \\, zum \\, Zentrum}\n",
    "\\end{align*}\n",
    "\n",
    "Wir haben außerdem nicht nur _einen_ Feature-Vektor (von _einem_ Haus), sondern viele Daten von z.B. $n$ Häusern:\n",
    "\\begin{align*}\n",
    "x^{(1)} = \\begin{pmatrix} 200 & 3 & \\dots & 1\\end{pmatrix}, \\quad & x^{(2)} = \\begin{pmatrix} 840 & 6 & \\dots & 1.6 \\end{pmatrix}, & \\dots & \\quad x^{(n)} = \\begin{pmatrix} 20 & 1 & \\dots & 14\\end{pmatrix}\n",
    "\\end{align*}\n",
    "Für jedes dieser Häuser wollen wir _einen_ Wert (den Preis) vorhersagen. Unser Wert $\\hat{y}$ wird also zu einem ($n \\times 1$)-Vektor. Da nun außerdem zu jedem der $p$ Features ein separates Gewicht $w_i$ gehört, wird $w$ zu einem ($p \\times 1$)-Vektor. Weiterhin gibt es nun für jedes der insgesamt $n$ Häuser nicht nur ein Feature, sondern einen Feature-Vektor mit $p$ Features. Dadurch wird $x$, der Input, zu einer ($n \\times p$)-Matrix $X$. Auch $b$ muss jetzt auf alle $n$ Datenpunkte angewendet werden und wird zu einem ($n \\times 1$)-Vektor. Insgesamt wird Formel $(1)$ damit zu:\n",
    "\n",
    "\\begin{equation}\n",
    "\\hat{y} = X w + b\n",
    "\\tag{2}\n",
    "\\end{equation}\n",
    "\n",
    "Macht euch klar, dass die Dimensionen auf der rechten Seite so übereinstimmen, dass alle Operationen definiert sind und wie gewünscht einen Vektor der Dimension ($n \\times 1$) ergeben.\n",
    "\n",
    "**Anmerkung**: Es ist mathematisch gesehen egal, ob man am Ende $b$ auf alle Elemente von $\\hat{y}$ addiert oder den Parameter gleich in den Gewichts-Vektor $w$ einbaut. Wenn man $X_{\\mathrm{new}} = \\begin{pmatrix} x_1^{(1)} & x_2^{(1)} & \\dots & 1 \\\\ x_1^{(2)} & x_2^{(2)} & \\dots & 1 \\\\ \\dots & \\dots & \\dots & \\dots \\end{pmatrix}$ wählt und $w_{\\mathrm{new}} = \\begin{pmatrix} w_1 & w_2 & \\dots & b \\end{pmatrix}^\\top$, dann ist folgender Ausdruck äquivalent zu Gleichung $(2)$:\n",
    "\n",
    "$$\n",
    "\\hat{y} = X_{\\mathrm{new}} w_{\\mathrm{new}}\n",
    "\\tag{3}\n",
    "$$\n",
    "\n",
    "$X$ und $w$ bekommen dann eine zusätzliche Dimension und nehmen jeweils die Form $(n \\times (p+1))$ und $((p+1) \\times 1)$ an. Überprüft die Äquivalenz selbst, wenn ihr euch unsicher seid.\n",
    "\n",
    "Auch, wenn wir jetzt mit Matrizen und Vektoren rechnen, ist das Ergebnis das gleiche: Wir kombinieren verschiedene Features linear, um zu einer Vorhersage zu kommen. Jedes der $n$ Elemente von $\\hat{y}$ (eins für jedes Haus in unserem Datensatz) ist eine Linearkombination von den $p$ Features:\n",
    "$$\n",
    "\\hat{y_i} = \\sum_{j=1}^p \\left(x_i^{(j)} \\cdot w_j\\right) + b\n",
    "$$"
   ]
  },
  {
   "cell_type": "markdown",
   "metadata": {},
   "source": [
    "### Zutat 2: Die Verlustfunktion - Der Mean Squared Error\n",
    "\n",
    "Damit das Modell die optimalen Parameter „lernt“, brauchen wir ein Maß dafür, wie gut (oder schlecht) eine bestimmte Wahl von $w$ und $b$ ist. Dafür verwenden wir eine **Verlustfunktion** (engl. _loss function_). Bei der linearen Regression ist das typischerweise der **mittlere quadratische Fehler (Mean Squared Error, MSE)**:\n",
    "\n",
    "$$\n",
    "\\text{MSE} = \\frac{1}{n} \\sum_{i=1}^{n} (y_i - \\hat{y}_i)^2\n",
    "$$\n",
    "\n",
    "* $y_i$: tatsächlicher Zielwert\n",
    "* $\\hat{y}_i$: vorhergesagter Zielwert ($X w + b$)\n",
    "* $n$: Anzahl der Trainingsbeispiele\n",
    "\n",
    "Die Funktion misst die Abweichung zwischen einer Vorhersage des Modells ($\\hat{y}_i$) und dem wirklichen Wert ($y_i$), quadriert diese Abweichung und summiert sie über alle Trainingsdaten. Die Abweichung, also $(y_i - \\hat{y}_i)$ wird auch Residuum (lat. Rest, pl. Residuen) genannt. Die Funktion ist durch die Quadrierung der Residuen immer größer als 0 und wird nur 0, wenn die Vorhersage in jedem Punkt mit dem richtigen Wert übereinstimmt.\n",
    "Durch die Quadrierung wiegen kleine Fehler übrigens auch weniger als große Fehler, beziehungsweise: Ausreißer dominieren den MSE-Fehler.\n",
    "\n",
    "**Praktische Übung:**\n",
    "In der Folgenden Zelle kannst du ein Gefühl dafür bekommen, wie die MSE-Funktion in einer Dimension funktioniert. Führe die Zelle aus und benutze die Slider, um einen möglichst geringen MSE-Wert zu erreichen. Kannst du dir vorstellen, warum der geringste MSE-Wert nicht exakt bei den \"richtigen\" Parameterwerten ($w=2$, $b=1$) erreicht wird? Tipp: Achte darauf wie das Label im Code generiert wird.\n",
    "\n",
    "**Weiterführende Aufgabe:**\n",
    "Füge im Code einen zusätzlichen Ausreißer-Datenpunkt hinzu (z.B. $(10, 99)$) und beobachte, wie sich der MSE-Wert verändert. Beschreibt die Gerade mit dem geringsten Verlust die Datenpunkte immer noch gut?"
   ]
  },
  {
   "cell_type": "code",
   "execution_count": null,
   "metadata": {},
   "outputs": [],
   "source": [
    "### Einmalig ausführen, damit das Widget funktioniert\n",
    "!git clone https://github.com/wolfromanlist/MLForEngineers.git\n",
    "%cd MLForEngineers/Notebooks/\n",
    "\n",
    "from google.colab import output\n",
    "output.enable_custom_widget_manager()"
   ]
  },
  {
   "cell_type": "code",
   "execution_count": null,
   "metadata": {},
   "outputs": [
    {
     "data": {
      "application/vnd.jupyter.widget-view+json": {
       "model_id": "ed2fcb8b7732483b9f8fa0c47700970f",
       "version_major": 2,
       "version_minor": 0
      },
      "text/plain": [
       "HBox(children=(FloatSlider(value=0.0, description='b', max=4.0, min=-1.0), FloatSlider(value=1.0, description=…"
      ]
     },
     "metadata": {},
     "output_type": "display_data"
    },
    {
     "data": {
      "application/vnd.jupyter.widget-view+json": {
       "model_id": "3694e2a0ca4943edbbccbf508b3b4949",
       "version_major": 2,
       "version_minor": 0
      },
      "text/plain": [
       "Output()"
      ]
     },
     "metadata": {},
     "output_type": "display_data"
    }
   ],
   "source": [
    "import numpy as np\n",
    "from RegressionWidget_Plotly import RegressionWidget\n",
    "\n",
    "# Daten vorbereiten\n",
    "generator = np.random.default_rng(2948292983384)\n",
    "x = np.linspace(0, 20, 10)\n",
    "y_real = 2 * x + 1 + 15 * (generator.random((1, 10)) - 0.5)\n",
    "y_real = y_real.flatten()\n",
    "\n",
    "###\n",
    "# Hier Code zur weiterführenden Aufgabe einfügen\n",
    "###\n",
    "\n",
    "widget = RegressionWidget(x, y_real)\n",
    "widget.show()"
   ]
  },
  {
   "cell_type": "markdown",
   "metadata": {},
   "source": [
    "### Zutat 3: Die Minimierung des Fehlers\n",
    "\n",
    "Wie bereits erwähnt ist das Ziel des Trainings, die Werte von $w$ und $b$ so zu wählen, dass der Fehler (MSE) möglichst klein wird. Dafür gibt es verschiedene Verfahren. Für die lineare Regression gibt es eine **analytische Lösung durch Ordinary Least Squares (OLS)** oder auch **iterative Verfahren** wie Gradient Descent.\n",
    "\n",
    "In diesem Notebook verwenden wir zunächst die OLS-Methode, da sie eine anschauliche, mathematisch exakte Lösung liefert. Dem Gradient Descent-Verfahren werden wir uns in späteren Lektionen zu neuronalen Netzen noch widmen.\n",
    "\n",
    "#### Ordinary Least Squares (OLS)\n",
    "\n",
    "**Ordinary Least Squares**, oder der Algorithmus der kleinsten Quadrate, ist ein Verfahren zur Bestimmung der „besten“ Parameter in der linearen Regression. Ziel ist es, die Steigung und den Achsenabschnitt einer Linie so zu berechnen, dass die Summe der quadrierten Residuen (also die Fläche der Quadrate im Bild) minimiert wird. OLS ist für die meisten linearen Regressionsprobleme sehr effizient.\n",
    "\n",
    "![Least Squares](https://kenndanielso.github.io/mlrefined/mlrefined_images/superlearn_images/Least_Squares.png)\n",
    "\n",
    "#### Mathematische Grundlage des OLS-Algorithmus\n",
    "\n",
    "Die lineare Regression beschreibt eine Zielvariable $y$ als lineare Funktion der unabhängigen Variablen $X$. Also $\\hat{y} = X w$, wobei wie bereits erwähnt:\n",
    "- $X$: Matrix der unabhängigen Variablen (Dimension $n \\times (p + 1)$, mit $n$ Datenpunkten und $p$ Variablen, $+1$ für den $b$-Parameter),\n",
    "- $w$: Vektor der Parameter, die es zu bestimmen gilt (Dimension $(p+1) \\times 1 $),\n",
    "- $\\hat{y}$: Vektor der vorhergesagten Werte (Dimension $ n \\times 1 $).\n",
    "\n",
    "Das Ziel des OLS ist es, die Parameter $w$ so zu wählen, dass der **Mean Squared Error (MSE)** minimiert wird:\n",
    "\n",
    "$$\n",
    "\\text{MSE} = \\frac{1}{n} \\sum_{i=1}^{n} (y_i - \\hat{y}_i)^2 = \\frac{1}{n} \\sum_{i=1}^{n} (y_i - (Xw)_i)^2 = \\frac{1}{n} \\left( (y - X w)^T (y - X w) \\right)\n",
    "$$\n",
    "\n",
    "wobei $y_i$ die tatsächlichen Werte und $\\hat{y}_i$ die durch das (lineare) Modell vorhergesagten Werte sind.\n",
    "\n",
    "Um die Werte für $w$ zu bestimmen, wird die MSE als Funktion von $w$ abgeleitet und auf null gesetzt:\n",
    "$\\frac{\\partial}{\\partial w} \\left( (y - X w)^T (y - X w) \\right) = 0$. \\\n",
    "Dies ergibt die sogenannte **Normalengleichung**:\n",
    "\n",
    "$$w = (X^T X)^{-1} X^T y$$\n",
    "\n",
    "Hierbei ist:\n",
    "- $X^T$ die Transponierte der Matrix $X$,\n",
    "- $(X^T X)^{-1}$  die Inverse von $ X^T X$, vorausgesetzt, $ X^T X $ ist invertierbar.\n",
    "\n",
    "Durch Lösen dieser Gleichung erhält man die optimalen Werte für die Parameter $w$, welche die Summe der quadrierten Residuen minimieren.\n",
    "Für die Berechnung der Parameter in der OLS-Regression sind lediglich **lineare Algebra-Berechnungen** nötig, insbesondere Matrizenmultiplikation, Transponieren und Invertieren. Es werden **keine neuronalen Netze oder iterativen Trainingsverfahren** wie bei anderen Machine-Learning-Algorithmen verwendet. Stattdessen wird ein einmaliger analytischer Lösungsschritt durchgeführt, der die optimalen Parameterwerte direkt berechnet."
   ]
  },
  {
   "cell_type": "markdown",
   "metadata": {},
   "source": [
    "### Diskussion: Ist lineare Regression Machine Learning?\n",
    "\n",
    "Es gibt eine Diskussion darüber, ob lineare Regression tatsächlich als **Machine Learning** gezählt werden sollte oder ob sie besser als **statistisches Modell** betrachtet wird. Diese Debatte beruht auf der Tatsache, dass **Machine Learning** typischerweise auf Verfahren basiert, die aus den Daten iterativ „lernen“ und auf Rückkopplung (wie Fehlerausgleich bei neuronalen Netzen) angewiesen sind. Lineare Regression mit OLS hingegen ist ein **deterministisches Verfahren** und wird analytisch berechnet, ohne dass Lernschritte oder Fehleranpassungen erforderlich sind.\n",
    "\n",
    "#### Argumente, warum lineare Regression als Machine Learning betrachtet werden könnte:\n",
    "1. **Vorhersagefähigkeit**: Lineare Regression wird für Vorhersagen eingesetzt, und die Nutzung von Daten für Vorhersagen ist ein zentraler Bestandteil des Machine Learnings.\n",
    "2. **Teil vieler ML-Frameworks**: Lineare Regression ist in allen ML-Frameworks (wie `scikit-learn`) implementiert und wird in praktischen ML-Workflows oft angewandt.\n",
    "3. **Modellbewertung und Anpassung**: Viele der Metriken und Evaluationsmethoden, die in ML für die Modellbewertung verwendet werden, wie der MSE oder der R²-Score, sind auch für lineare Regression relevant.\n",
    "4. **Möglichkeit zur iterativen Lösung**: Da eine analytische Lösung des Problems existiert wird zumeist der OLS-Algorithmus angewandt. Allerdings würde sich das Problem auch iterativ durch z.B. Gradient Descent lösen lassen. Aber warum mit Kanonen auf Spatzen schießen? ;)\n",
    "\n",
    "Zusammenfassend lässt sich sagen, dass die lineare Regression an der Grenze zwischen Statistik und Machine Learning liegt. Sie wird oft als „einfachstes“ Machine-Learning-Modell betrachtet, auch wenn sie auf analytischen Lösungen basiert und nicht wie andere Modelle durch iterative Optimierung lernt."
   ]
  },
  {
   "cell_type": "markdown",
   "metadata": {
    "id": "fNxCEpq4BrXm"
   },
   "source": [
    "# Hands-On: Lineare Regression in der Fertigung\n",
    "\n",
    "Nach der ganzen Theorie wollen wir uns einem konkreten Beispiel zuwenden. In diesem Abschnitt benutzen wir lineare Regression, um vorherzusagen, wie viel Zeit eine gegebene Anzahl an Maschinen benötigt, um ein Bauteil fertigzustellen. Wir werden dabei den **Train-Test Split** und **Bewertungs-Metriken** einführen, um später zu beurteilen, wie gut unser Modell funktioniert. Abschließend werden wir das Modell erweitern, um ein Gefühl für lineare Regression mit mehr als einem Feature zu bekommen.\n",
    "\n",
    "## Inspektion der Daten\n",
    "\n",
    "Wie jeder gute Machine Learning Ingenieur fangen wir mit der Inspektion und Vorbereitung der gegebenen Daten an. Wir haben im Ordner \"Daten\" eine `csv`-Datei gegeben, die \"_machine_regression_1D.csv_\" heißt. Diese laden und inspizieren wir mit `pandas`."
   ]
  },
  {
   "cell_type": "code",
   "execution_count": 132,
   "metadata": {
    "executionInfo": {
     "elapsed": 9281,
     "status": "ok",
     "timestamp": 1730996784832,
     "user": {
      "displayName": "Roman List",
      "userId": "11668527673835904073"
     },
     "user_tz": -60
    },
    "id": "BJhm-bkDKCKr"
   },
   "outputs": [
    {
     "name": "stdout",
     "output_type": "stream",
     "text": [
      "   machines  fabrication_time\n",
      "0         5         38.546553\n",
      "1         7         28.156907\n",
      "2         6         34.543581\n",
      "3         5         39.147008\n",
      "4         4         46.326472\n",
      "\n",
      "Fehlende Werte:\n",
      " machines            0\n",
      "fabrication_time    0\n",
      "dtype: int64\n"
     ]
    }
   ],
   "source": [
    "import pandas as pd\n",
    "\n",
    "# Daten importieren\n",
    "df = pd.read_csv('../Data/machine_regression_1D.csv', index_col = 0)\n",
    "\n",
    "# Daten inspizieren\n",
    "print(df.head())\n",
    "\n",
    "# Überprüfen auf fehlende Werte\n",
    "print(\"\\nFehlende Werte:\\n\", df.isnull().sum())"
   ]
  },
  {
   "cell_type": "markdown",
   "metadata": {},
   "source": [
    "Die Datei enthält zwei Spalten: \"machines\" (Anzahl) und \"fabrication_time\" (in Minuten), welche jeweils keine fehlenden Werte beinhalten. Eine nützliche Anwendung der Analyse dieser Daten wäre vorherzusagen, wie lange die Fertigung eines Bauteils dauert, wenn man eine bestimmte Anzahl an Maschinen gegeben hat. Betrachten wir die Daten kurz visuell:"
   ]
  },
  {
   "cell_type": "code",
   "execution_count": 133,
   "metadata": {},
   "outputs": [
    {
     "data": {
      "image/png": "[encoded data removed]",
      "text/plain": [
       "<Figure size 500x500 with 1 Axes>"
      ]
     },
     "metadata": {},
     "output_type": "display_data"
    }
   ],
   "source": [
    "import matplotlib.pyplot as plt\n",
    "\n",
    "# Aufteilen in Features (X) und Zielvariable (y)\n",
    "X = df[['machines']].values\n",
    "y = df['fabrication_time'].values\n",
    "\n",
    "fig, ax = plt.subplots(figsize = (5,5))\n",
    "ax.scatter(X, y)\n",
    "plt.xlabel('Machines')\n",
    "plt.ylabel('Fabrication Time')\n",
    "plt.show()"
   ]
  },
  {
   "cell_type": "markdown",
   "metadata": {},
   "source": [
    "Scheinbar gilt bei bis zu 9 Maschinen: Je mehr Maschinen wir haben, desto geringer die Fertigungszeit. Und diese Beziehung scheint (trotz der kleinen Streuung) durchaus linear zu sein. Perfekt für ein lineares Regressionsmodell!\n",
    "\n",
    "## Train-Test Split\n",
    "\n",
    "Bevor wir nun das Modell erstellen, teilen wir unsere Daten in ein **Training-Set** und ein **Test-Set** auf. Mit dem Training-Set, welches einen Großteil der Daten beinhaltet, werden wir das Modell trainieren. Mit dem Test-Set werden wir später das trainierte Modell überprüfen. Wir fragen dann für jeden Eintrag im Test-Set ab, welche Vorhersage für die Fertigungszeit das Modell für diesen Eintrag liefert. Dann vergleichen wir die Vorhersage des Modells mit dem echten Wert. Je besser die Übereinstimmung, desto nützlicher ist unser Modell. \n",
    "\n",
    "**Warum trainieren wir das Modell nicht einfach mit allen Daten?**\n",
    "\n",
    "Die Frage ist durchaus berechtigt und die Antwort hat mit dem Prozess der Modellerstellung zu tun. Als Modellersteller wollen wir herausfinden: \"Wie gut ist das Modell, das ich baue, zur Vorhersage bei _neuen, unbekannten_ Daten geeignet?\". Dieser Aspekt der Modellbewertung wird als Generalisierung bezeichnet. Wenn wir das Modell mit dem gesamten Datensatz trainieren und anschließend einen Teil dieser Daten zur Evaluation verwenden, dann haben wir ein Problem: Die Daten, die wir zum Testen nutzen, haben bereits das Modell beeinflusst. Sie waren Teil des Trainingsprozesses und haben die Parameter mitbestimmt. \\\n",
    "Ein Beispiel: Wenn der Punkt $(\\mathrm{machines},\\mathrm{fabrication\\_time})=(3,46)$ im Training enthalten war, wird eine spätere Vorhersage für $x=3$ zwangsläufig von genau diesem Trainingspunkt beeinflusst sein. Die Bewertung anhand dieses Punkts misst also nicht, wie gut das Modell auf neue Daten reagiert, also generalisiert, sondern wie gut es sich an bereits Gelerntes erinnert. Um wirklich herauszufinden, wie gut das Modell verallgemeinert, müssen wir es auf Daten testen, die es nicht zuvor gesehen hat. Deshalb teilen wir den Datensatz in der Regel auf: etwa 80 % der Daten werden zufällig ausgewählt und zum Training verwendet, die übrigen 20 % bilden das Test-Set. Die Idee dahinter: Wir verzichten bewusst auf einen Teil der Daten beim Training (und bußen damit Genauigkeit ein), um im Gegenzug eine realistischere Einschätzung der Modell-Performance auf unbekannten Daten zu bekommen.\n",
    "\n",
    "Die Umsetzung des Train-Test Splits ist mit `scikit-learn` sehr einfach: Wir verwenden die Methode `train_test_split()`, die uns direkt unsere Features und Labels in Training- und Test-Sets unterteilt. Als Argumente stellen wir die Features (X) und Labels (y) bereit und geben die gewünschte `test_size` an. Wahlweise können wir für Reproduzierbarkeit noch einen Seed (`random_state`) angeben."
   ]
  },
  {
   "cell_type": "code",
   "execution_count": 150,
   "metadata": {},
   "outputs": [],
   "source": [
    "from sklearn.model_selection import train_test_split\n",
    "\n",
    "# Aufteilen in Trainings- und Testdaten\n",
    "X_train, X_test, y_train, y_test = train_test_split(X, y, test_size=0.2, random_state=3)"
   ]
  },
  {
   "cell_type": "markdown",
   "metadata": {},
   "source": [
    "## Standardisierung\n",
    "\n",
    "Weiterhin standardisieren wir unsere Trainingsdaten mit dem aus Notebook 2 bekannten Verfahren. "
   ]
  },
  {
   "cell_type": "code",
   "execution_count": 151,
   "metadata": {},
   "outputs": [
    {
     "name": "stdout",
     "output_type": "stream",
     "text": [
      "Erste Zeilen der standardisierten Trainingsdaten:\n",
      " [[-0.79390846]\n",
      " [ 0.78600887]\n",
      " [ 0.39102954]\n",
      " [ 1.57596754]\n",
      " [-0.39892913]]\n"
     ]
    }
   ],
   "source": [
    "from sklearn.preprocessing import StandardScaler\n",
    "\n",
    "# Standardisieren der Features\n",
    "scaler = StandardScaler()\n",
    "X_train = scaler.fit_transform(X_train)\n",
    "X_test = scaler.transform(X_test)\n",
    "\n",
    "print(\"Erste Zeilen der standardisierten Trainingsdaten:\\n\", X_train[:5]) "
   ]
  },
  {
   "cell_type": "markdown",
   "metadata": {},
   "source": [
    "## Die Lineare Regression\n",
    "\n",
    "Auch die eigentliche Regression ist mit `scikit-learn` ein sehr einfacher Prozess. Er besteht im Wesentlichen aus dem Code in der nächsten Zelle. Dort wird:\n",
    "\n",
    "1. Ein Modell vom Typ `LinearRegression()` erstellt und\n",
    "2. Das Modell mittels `.fit()` mit den Trainingsdaten trainiert\n",
    "\n",
    "Die gelernten Parameter sind dann als `model.coef_` ($w$) und `model.intercept_` ($b$) abrufbar."
   ]
  },
  {
   "cell_type": "code",
   "execution_count": 152,
   "metadata": {},
   "outputs": [
    {
     "name": "stdout",
     "output_type": "stream",
     "text": [
      "Gewicht w: -11.504751132490556\n",
      "Achsenabschnitt b: 37.3310675682069\n"
     ]
    }
   ],
   "source": [
    "from sklearn.linear_model import LinearRegression\n",
    "\n",
    "# Modellinitialisierung und Training\n",
    "model = LinearRegression()\n",
    "model.fit(X_train, y_train)\n",
    "\n",
    "# Ausgabe der Modellparameter\n",
    "print(\"Gewicht w:\", model.coef_[0])\n",
    "print(\"Achsenabschnitt b:\", model.intercept_)"
   ]
  },
  {
   "cell_type": "markdown",
   "metadata": {},
   "source": [
    "Im Hintergrund wird hier genau der OLS-Algorithmus ausgeführt, also letztendlich die Lösung für $w$ mit $w = (X^T X)^{-1} X^T y$ berechnet."
   ]
  },
  {
   "cell_type": "markdown",
   "metadata": {},
   "source": [
    "## Evaluation des Modells\n",
    "\n",
    "Nachdem wir die Regressionsgerade bestimmt haben, stellt sich die Frage:\n",
    "**Wie gut passt unser Modell zu den beobachteten Daten?**\n",
    "\n",
    "Zur Beantwortung dieser Frage wurden über die Jahrzehnte zahlreiche **Evaluationsmetriken** entwickelt, welche auf dem noch unbekannten Test-Set berechnet werden. Sie helfen, die Qualität der Modellvorhersagen quantitativ zu beurteilen und beleuchten dabei jeweils einen etwas anderen Aspekt des Modellverhaltens. Im Folgenden stellen wir einige der wichtigsten Metriken vor, erläutern ihre Berechnung und diskutieren ihre Aussagekraft.\n",
    "\n",
    "Da Evaluationsmetriken allein jedoch ein sehr limitiertes Bild von der Leistung unseres Modells zeichnen, sollte allem voran _immer_ die **Visualisierung der Daten** und des Modellverhaltens stehen. Dies gibt uns meistens direkt ein Bild davon, wie gut das Modell performt und kann _danach_ durch die Zusatzinformationen der Metriken ergänzt werden:"
   ]
  },
  {
   "cell_type": "code",
   "execution_count": 153,
   "metadata": {},
   "outputs": [
    {
     "data": {
      "image/png": "[encoded data removed]",
      "text/plain": [
       "<Figure size 500x500 with 1 Axes>"
      ]
     },
     "metadata": {},
     "output_type": "display_data"
    }
   ],
   "source": [
    "fig, ax = plt.subplots(figsize=(5,5))\n",
    "\n",
    "### Prediction mit den Test-Daten erzeugen\n",
    "x_scaled = X_test\n",
    "y_pred = model.predict(X_test)\n",
    "\n",
    "### Rücktransformation von x_scaled, um zu normalen Einheiten zurückzukehren\n",
    "x_normal = scaler.inverse_transform(x_scaled)\n",
    "\n",
    "### Plotten\n",
    "ax.plot(x_normal, y_pred, color = 'red', label='Regressionsgerade')\n",
    "ax.scatter(x_normal, y_test)\n",
    "plt.xlabel('Machines')\n",
    "plt.ylabel('Fabrication Time')\n",
    "plt.legend()\n",
    "plt.show()"
   ]
  },
  {
   "cell_type": "markdown",
   "metadata": {},
   "source": [
    "Wir sehen, dass das Modell einen ziemlich guten Fit liefert. Der generelle lineare Trend wird gut beschrieben und allein die natürliche Streuung der Daten sorgt für eine Abweichung von der Regressionsgeraden. Lasst uns nun einige Metriken zur näheren Bewertung heranziehen.\n",
    "\n",
    "### 1. Mean Squared Error (MSE)\n",
    "\n",
    "Der **MSE** ist uns schon bekannt, da mit ihm auch die OLS-Optimierung durchgeführt wird. Er misst den durchschnittlichen quadrierten Unterschied zwischen den Vorhersagen $\\hat{y}_i$ und den echten Werten $y_i$ und summiert sie zu einer Zahl:\n",
    "\n",
    "$$\n",
    "\\text{MSE} = \\frac{1}{n} \\sum_{i=1}^{n} (y_i - \\hat{y}_i)^2\n",
    "$$\n",
    "\n",
    "> **Eigenschaften:**\n",
    ">\n",
    "> * Belohnt kleine Fehler, bestraft große Fehler überproportional.\n",
    "> * Besonders sensitiv gegenüber Ausreißern.\n",
    "> * Je näher bei 0, desto besser der Fit\n",
    ">\n",
    "> **Vorteil:** Glatte mathematische Eigenschaften, gut geeignet für Optimierungsverfahren. \\\n",
    "> **Nachteil:** Kann durch einzelne Ausreißer stark verzerrt werden."
   ]
  },
  {
   "cell_type": "code",
   "execution_count": 154,
   "metadata": {},
   "outputs": [
    {
     "name": "stdout",
     "output_type": "stream",
     "text": [
      "Mean Squared Error (MSE): 4.16\n"
     ]
    }
   ],
   "source": [
    "from sklearn.metrics import mean_squared_error\n",
    "\n",
    "mse = mean_squared_error(y_test, y_pred)\n",
    "\n",
    "print(f\"Mean Squared Error (MSE): {mse:.2f}\")"
   ]
  },
  {
   "cell_type": "markdown",
   "metadata": {},
   "source": [
    "### 2. Root Mean Squared Error (RMSE)\n",
    "\n",
    "Der **RMSE** ist einfach die Quadratwurzel des MSE:\n",
    "\n",
    "$$\n",
    "\\text{RMSE} = \\sqrt{ \\frac{1}{n} \\sum_{i=1}^{n} (y_i - \\hat{y}_i)^2 }\n",
    "$$\n",
    "\n",
    "> **Eigenschaft:**\n",
    ">\n",
    "> * Folgt der Definition der Standardabweichung\n",
    "> * Hat dieselbe Einheit wie die Zielvariable $y$, was die Interpretation erleichtert (im Gegensatz zum MSE, der quadrierte Einheiten hat).\n",
    "> * Beibehaltung der **Empfindlichkeit gegenüber großen Fehlern**.\n",
    ">\n",
    "> Der RMSE ist besonders dann hilfreich, wenn du Fehler in denselben Einheiten wie deine Daten interpretieren möchtest. Wenn deine Daten normalverteilt sind, dann sagt die Standardabweichung und damit der RMSE aus, dass ca. 68% der Vorhersagen in einem Bereich von $\\pm \\mathrm{RMSE}$ um den tatsächlichen Wert verteilt liegen. "
   ]
  },
  {
   "cell_type": "code",
   "execution_count": 155,
   "metadata": {},
   "outputs": [
    {
     "name": "stdout",
     "output_type": "stream",
     "text": [
      "Root Mean Squared Error (RMSE): 2.04\n"
     ]
    }
   ],
   "source": [
    "rmse = np.sqrt(mse)\n",
    "\n",
    "print(f\"Root Mean Squared Error (RMSE): {rmse:.2f}\")"
   ]
  },
  {
   "cell_type": "markdown",
   "metadata": {},
   "source": [
    "Beide Werte sind nahe 0 und deuten auf einen guten Fit hin. Der RMSE-Wert sagt uns, dass ca. 68% der Werte um weniger als $2.04$ Minuten vom tatsächlichen Wert abweichen (vorausgesetzt, dass die Abweichung normalverteilt ist). Diese Voraussetzung lässt optisch überprüfen, indem wir die Residuen (also genau die Abweichung der Vorhersage vom tatsächlichen Wert) plotten."
   ]
  },
  {
   "cell_type": "code",
   "execution_count": 156,
   "metadata": {},
   "outputs": [
    {
     "data": {
      "text/plain": [
       "Text(0.5, 1.0, 'Residuenplot')"
      ]
     },
     "execution_count": 156,
     "metadata": {},
     "output_type": "execute_result"
    },
    {
     "data": {
      "image/png": "[encoded data removed]",
      "text/plain": [
       "<Figure size 500x500 with 1 Axes>"
      ]
     },
     "metadata": {},
     "output_type": "display_data"
    }
   ],
   "source": [
    "### Berechnen der Residuen\n",
    "residuals = y_test - y_pred\n",
    "\n",
    "### Plotten\n",
    "fig, ax = plt.subplots(figsize=(5,5))\n",
    "ax.scatter(x=y_pred, y=residuals)\n",
    "ax.axhline(0, color=\"red\", linestyle=\"--\")\n",
    "plt.xlabel(\"Vorhergesagter Wert\")\n",
    "plt.ylabel(\"Residuum (y - ŷ)\")\n",
    "plt.title('Residuenplot')"
   ]
  },
  {
   "cell_type": "markdown",
   "metadata": {},
   "source": [
    "Scheinbar folgen die Residuen keiner offensichtlichen Gesetzmäßigkeit, sondern sind über den gesamten Wertebereich um die wahren Werte verteilt. Die Abweichung als Histogramm dargestellt bestätigt unseren Verdacht der Normalverteilung:"
   ]
  },
  {
   "cell_type": "code",
   "execution_count": 165,
   "metadata": {},
   "outputs": [
    {
     "data": {
      "text/plain": [
       "<Axes: ylabel='Count'>"
      ]
     },
     "execution_count": 165,
     "metadata": {},
     "output_type": "execute_result"
    },
    {
     "data": {
      "image/png": "[encoded data removed]",
      "text/plain": [
       "<Figure size 640x480 with 1 Axes>"
      ]
     },
     "metadata": {},
     "output_type": "display_data"
    }
   ],
   "source": [
    "import seaborn as sns\n",
    "\n",
    "sns.histplot(residuals, bins=np.arange(-6, 6, 1), kde=True)"
   ]
  },
  {
   "cell_type": "markdown",
   "metadata": {},
   "source": [
    "### 3. Mean Absolute Error (MAE)\n",
    "\n",
    "Der **MAE** misst den durchschnittlichen absoluten Fehler zwischen Vorhersage und Beobachtung:\n",
    "\n",
    "$$\n",
    "\\text{MAE} = \\frac{1}{n} \\sum_{i=1}^{n} |y_i - \\hat{y}_i|\n",
    "$$\n",
    "\n",
    "> **Eigenschaften:**\n",
    ">\n",
    "> * **Robuster gegenüber Ausreißern** als MSE oder RMSE, da keine Quadrierung.\n",
    "> * Gibt ein realistisches Maß für den durchschnittlichen Fehler eines Modells.\n",
    ">\n",
    "> **Vorteil:** Intuitive Interpretation, insbesondere bei schiefen Datenverteilungen. \\\n",
    "> **Nachteil:** Nicht überall differenzierbar, daher für bestimmte Optimierungsverfahren (z. B. Gradient Descent) weniger gut geeignet."
   ]
  },
  {
   "cell_type": "code",
   "execution_count": 166,
   "metadata": {},
   "outputs": [
    {
     "name": "stdout",
     "output_type": "stream",
     "text": [
      "Mean Absolute Error (MAE): 1.55\n"
     ]
    }
   ],
   "source": [
    "from sklearn.metrics import mean_absolute_error\n",
    "\n",
    "mae = mean_absolute_error(y_test, y_pred)\n",
    "\n",
    "print(f\"Mean Absolute Error (MAE): {mae:.2f}\")"
   ]
  },
  {
   "cell_type": "markdown",
   "metadata": {},
   "source": [
    "Das bedeutet also, dass die durchschnittliche Vorhersage lediglich um 1.55 Minuten danebenliegt.\n",
    "\n",
    "### 4. Bestimmtheitsmaß $R^2$\n",
    "\n",
    "Das **Bestimmtheitsmaß** (auch $R^2$-Score) drückt aus, wie viel der Streuung der Zielwerte durch das Modell erklärt wird. Es ist folgendermaßen definiert:\n",
    "\n",
    "$$\n",
    "R^2 = 1 - \\frac{ \\sum_{i=1}^{n} (y_i - \\hat{y}_i)^2 }{ \\sum_{i=1}^{n} (y_i - \\bar{y})^2 } = 1 - \\frac{\\mathrm{SSR}}{SST}\n",
    "$$\n",
    "\n",
    "* $\\bar{y}$: Mittelwert der Zielwerte\n",
    "* $\\mathrm{SSR} = \\sum_{i=1}^{n} (y_i - \\hat{y}_i)^2$: mittlere quadrierte Abweichung der Daten vom Modell\n",
    "* $\\mathrm{SST} = \\sum_{i=1}^{n} (y_i - \\bar{y})^2$: mittlere quadrierte Abweichung der Daten vom Mittelwert\n",
    "\n",
    "Es wird also die Summe der quadratischen Abweichungen der Daten vom Modell (**S**um of **S**quared **R**esiduals) zu der Summe der quadratischen Streuung der Daten um ihren Mittelwert (**S**um of **S**quared **T**otals) in Relation gesetzt. Also vereinfacht: Die Streuung der Daten um die Vorhersage durch die gesamte Streuung der Daten (und das ganze von 1 abgezogen). Das bedeutet, die Kenngröße benennt konkret, um wieviel die Streuung durch das Modell reduziert (oder erklärt) wird im Vergleich zur anfänglichen Streuung. Wenn die Streuung durch das Modell sehr gut erklärt wird, dann ist SSR sehr gering und der gesamte Ausruck kommt 1 nahe. Ist die Streuung durch das Modell nicht besser erklärt, also genauso wie vorher, dann ist $\\mathrm{SSR}/\\mathrm{SST} =  1$ und der gesamte Ausdruck wird 0. Demnach gilt:\n",
    "\n",
    "* $R^2 = 1$: perfekter Fit\n",
    "* $R^2 = 0$: Modell erklärt keine zusätzliche Varianz\n",
    "* $R^2 < 0$: Modell schlechter als triviale Mittelwert-Vorhersage\n",
    "\n",
    "> **Vorteil:** Liefert ein dimensionsloses Maß, das leicht zu vergleichen ist. \\\n",
    "> **Nachteil:** Kann irreführend sein – z. B. bei nichtlinearen Zusammenhängen oder wenn das Modell überangepasst ist.\n",
    "\n",
    "Der $R^2$-Score gibt also in einer Kennzahl einen Überblick darüber, wie gut das Modell die gegebenen Daten beschreibt. Lasst ihn uns für unseren Datensatz berechnen:"
   ]
  },
  {
   "cell_type": "code",
   "execution_count": 167,
   "metadata": {},
   "outputs": [
    {
     "name": "stdout",
     "output_type": "stream",
     "text": [
      "R²-Score: 0.97\n"
     ]
    }
   ],
   "source": [
    "from sklearn.metrics import r2_score\n",
    "\n",
    "r2 = r2_score(y_test, y_pred)\n",
    "\n",
    "print(f\"R²-Score: {r2:.2f}\")"
   ]
  },
  {
   "cell_type": "markdown",
   "metadata": {},
   "source": [
    "Unser Modell performt erwartbar gut, was wir allerdings auch bereits visuell gesehen haben. Da der $R^2$-Score in der Wissenschaft und den Ingenieurswissenschaften sehr häufig vertreten ist, lohnt es sich, den $R^2$-Score und seine Aussagekraft in einem kurzen Abschnitt zu hinterfragen.\n",
    "\n",
    "**Ein kritischer Blick: Das Anscombe-Quartett** \\\n",
    "Das berühmte **Anscombe-Quartett** zeigt vier Datensätze mit nahezu identischen statistischen Kenngrößen (z. B. Mittelwert, Standardabweichung, $R^2$-Wert, Regressionsgerade) – aber mit völlig unterschiedlichen Verteilungen und Strukturen."
   ]
  },
  {
   "cell_type": "code",
   "execution_count": null,
   "metadata": {},
   "outputs": [
    {
     "name": "stdout",
     "output_type": "stream",
     "text": [
      "0.6665422172178126\n"
     ]
    },
    {
     "data": {
      "image/png": "[encoded data removed]",
      "text/plain": [
       "<Figure size 1000x1000 with 4 Axes>"
      ]
     },
     "metadata": {},
     "output_type": "display_data"
    }
   ],
   "source": [
    "df = sns.load_dataset(\"anscombe\")\n",
    "\n",
    "sns.lmplot(data=df, x=\"x\", y=\"y\", col=\"dataset\", col_wrap=2, ci=None, line_kws={\"color\": \"red\"})\n",
    "plt.suptitle(\"Anscombe-Quartett: Gleicher R², unterschiedliche Verteilungen\", y=1.05)"
   ]
  },
  {
   "cell_type": "markdown",
   "metadata": {},
   "source": [
    "In jedem dieser Datensätze führt lineare Regression zu der Ausgleichsgeraden $y = 0.5 x + 3$ und zu einem $R^2$-Score von $0.666$. Allerdings ist offensichtlich, dass die Annahme einer linearen Beziehung nicht in jedem Fall gerechtfertigt ist und, im Gegenteil, die Gerade die Daten in den meisten Fällen nicht gut beschreibt."
   ]
  },
  {
   "cell_type": "markdown",
   "metadata": {},
   "source": [
    "### Fazit\n",
    "\n",
    "Es gibt keine **perfekte Metrik** – jede hat ihre Stärken und Schwächen. In der Praxis empfiehlt es sich daher, mehrere Metriken gemeinsam zu betrachten:\n",
    "\n",
    "* **MSE / RMSE**: gut für kontinuierliche Fehleranalyse, aber empfindlich gegenüber Ausreißern\n",
    "* **MAE**: robuster, direkt interpretierbar, aber weniger sensitiv für große Fehler\n",
    "* **$R^2$**: nützlich für Varianzaufklärung, aber kritisch zu hinterfragen\n",
    "\n",
    "> **Gute Modelle erkennt man nicht nur an Zahlen, sondern auch an sinnvollen Visualisierungen und gesundem Menschenverstand.**"
   ]
  },
  {
   "cell_type": "markdown",
   "metadata": {},
   "source": [
    "# Hands-On: Lineare Regression in 2D\n",
    "\n",
    "In diesem Abschnitt werden wir das eindimensionale Beispiel ausweiten und die Fertigungszeit auf Basis eines zusätzlichen Features (`Komplexität`) vorhersagen. Die Fertigungszeit ist nun also von der Anzahl der Maschinen und der Komplexität des Bauteils abhängig. Ihr werdet sehen, dass die Schritte für die mehrdimensionale lineare Regression identisch sind mit denen der eindimensionalen linearen Regression. Allein die Visualisierungen werden sich etwas unterscheiden. Das Ziel dieses Abschnitts ist es, euch klarzumachen, dass die lineare Regression mit geringem Aufwand um beliebig viele Features erweiterbar ist. Let's go!"
   ]
  },
  {
   "cell_type": "markdown",
   "metadata": {},
   "source": [
    "## Inspektion der Daten\n",
    "\n",
    "Zunächst inspizieren wir auch die 2-dimensionalen Daten, indem wir uns die Struktur des DataFrames anschauen und die Daten zeichnen. Hierfür benutzen wir Plotly anstatt matplotlib, um einen interaktiven (drehbaren) Plot darzustellen."
   ]
  },
  {
   "cell_type": "code",
   "execution_count": 229,
   "metadata": {
    "colab": {
     "base_uri": "https://localhost:8080/",
     "height": 957
    },
    "executionInfo": {
     "elapsed": 1024,
     "status": "ok",
     "timestamp": 1730996900629,
     "user": {
      "displayName": "Roman List",
      "userId": "11668527673835904073"
     },
     "user_tz": -60
    },
    "id": "tW-qlezzwdTU",
    "outputId": "bbd17b52-8a6f-4b64-a900-b86d2221bf1a"
   },
   "outputs": [
    {
     "name": "stdout",
     "output_type": "stream",
     "text": [
      "Datenüberblick:\n",
      "   machines  complexity  fabrication_time\n",
      "0         5           2         67.906597\n",
      "1         7           3         56.106398\n",
      "2         6           2         50.994477\n",
      "3         5           1         63.666157\n",
      "4         4           1         35.097613\n",
      "\n",
      "Fehlende Werte:\n",
      " machines            0\n",
      "complexity          0\n",
      "fabrication_time    0\n",
      "dtype: int64\n"
     ]
    },
    {
     "data": {
      "text/html": [
       "        <script type=\"text/javascript\">\n",
       "        window.PlotlyConfig = {MathJaxConfig: 'local'};\n",
       "        if (window.MathJax && window.MathJax.Hub && window.MathJax.Hub.Config) {window.MathJax.Hub.Config({SVG: {font: \"STIX-Web\"}});}\n",
       "        if (typeof require !== 'undefined') {\n",
       "        require.undef(\"plotly\");\n",
       "        requirejs.config({\n",
       "            paths: {\n",
       "                'plotly': ['https://cdn.plot.ly/plotly-2.35.2.min']\n",
       "            }\n",
       "        });\n",
       "        require(['plotly'], function(Plotly) {\n",
       "            window._Plotly = Plotly;\n",
       "        });\n",
       "        }\n",
       "        </script>\n",
       "        "
      ]
     },
     "metadata": {},
     "output_type": "display_data"
    },
    {
     "data": {
      "text/html": [
       "<div>                            <div id=\"439a7ccb-239a-4442-8adb-ef8f81d5ea8f\" class=\"plotly-graph-div\" style=\"height:600px; width:700px;\"></div>            <script type=\"text/javascript\">                require([\"plotly\"], function(Plotly) {                    window.PLOTLYENV=window.PLOTLYENV || {};                                    if (document.getElementById(\"439a7ccb-239a-4442-8adb-ef8f81d5ea8f\")) {                    Plotly.newPlot(                        \"439a7ccb-239a-4442-8adb-ef8f81d5ea8f\",                        [{\"marker\":{\"color\":\"blue\",\"opacity\":0.5,\"size\":4},\"mode\":\"markers\",\"x\":[5,7,6,5,4,6,4,9,9,4,8,5,6,9,1,1,1,8,8,8,9,8,5,8,2,6,2,9,5,4,3,7,5,6,1,6,6,6,9,7,4,4,7,1,7,7,2,2,3,4,6,4,9,1,2,2,6,3,5,3,2,1,6,2,2,4,8,1,8,1,9,5,9,6,7,1,3,2,3,2,3,4,1,7,6,3,5,1,6,9,3,7,2,7,3,2,6,1,8,1,7,3,7,9,3,6,6,6,3,9,5,8,7,3,8,4,8,6,8,7,7,5,9,6,4,6,1,3,6,3,6,4,2,3,6,6,6,6,6,4,9,4,4,9,8,7,1,9,7,9,2,8,2,6,2,8,8,6,4,1,7,5,7,8,9,8,1,4,7,2,5,1,2,1,8,3,4,9,7,1,2,6,6,3,9,6,5,6,7,3,4,2,2,9,7,5,3,3,1,4],\"y\":[2,3,2,1,1,1,3,2,3,4,4,1,3,2,1,4,2,2,3,4,3,4,2,4,1,4,3,1,4,3,2,1,3,1,1,2,2,2,2,3,4,1,3,1,3,2,3,1,1,2,2,4,4,3,4,1,3,3,4,2,1,1,1,4,3,4,2,3,1,2,4,4,2,4,1,4,4,4,3,4,2,4,3,1,2,1,4,2,2,3,2,1,4,1,3,1,1,4,4,4,4,4,2,1,2,1,1,1,3,1,4,1,1,1,3,1,2,3,4,3,2,1,1,2,2,2,3,3,2,2,1,4,1,3,4,4,2,2,3,2,2,1,2,1,4,1,3,2,3,4,3,1,2,3,3,3,2,1,2,4,1,4,3,2,4,2,3,2,4,3,3,2,4,3,1,1,4,4,2,3,4,2,4,3,4,4,4,1,3,2,1,2,2,4,1,4,2,2,1,1],\"z\":[67.90659729035198,56.106398427806,50.994476604973414,63.666157089643946,35.097612868648845,32.039833707027626,66.22680286228086,40.91527383975611,48.86742823064131,77.69669211415139,63.07560396856529,45.89042085563238,52.20593417172311,27.30510517168884,69.6177453658591,82.13627375506708,58.139671112137194,39.31561623311459,51.63499475754276,97.85085245947316,38.92949586215649,78.14891087454242,68.70782501306948,46.16582567194396,72.598794661039,55.24179039710023,41.11241643004889,38.59479286539072,51.16164124843421,78.76401692708872,56.239836533941755,63.393261942848085,83.52764098974014,36.19921294222919,55.182435834569766,34.78883895358819,46.38616051561113,48.79466757223236,34.02959683412472,60.85055782908546,90.67782246593318,57.24481685489761,47.037841141403355,43.93312789297632,78.96797772153707,38.15826223175094,71.21559600097471,53.18216031548334,28.853956747650273,54.8303899393927,45.80516278988078,91.30537447515268,69.97685723661004,85.55656333629403,104.97772561171456,66.09947475701892,62.76476832596168,78.91392252447335,74.64019759627901,60.57725728949825,56.9839969465905,48.579830027949896,47.20662557974444,76.10314583605629,93.62446896110454,78.25812129758577,44.74242472475136,92.90755164421437,43.64971697594392,51.94064887049821,56.39644485754042,90.70268368121174,14.028412708516182,78.80920713092596,4.6665365589671595,80.16239734546595,87.07945827760282,66.1492734651707,61.71733893473774,68.9224748880462,91.2220239831134,84.46341633231,94.00935416779004,35.15987349227268,47.69852376864201,32.252887170234516,73.12243955878206,64.07761682282565,65.86885886438505,66.61652799986359,88.49868073361267,51.28827909191848,82.02019094615521,21.761545210594083,87.99994772467629,66.34439226208434,16.47192323984454,100.83222689115654,76.21779733731799,96.38388383772444,65.72419493485988,74.38527268575467,26.80197950654918,41.50446924010041,61.863283328424366,39.49800007684461,68.990817803787,53.26751660288785,82.06237501921653,31.630927077808536,100.2999229114866,59.79383961124291,52.44257667219292,65.23336887096886,22.58095393190783,53.85582871350259,42.04839568709444,64.40929844078353,78.14569130983777,17.404842492156654,39.96031919794722,51.54856532411142,22.497316809208563,31.746408303106108,75.03445230345193,57.15307858769192,70.93343144333274,81.22225806773736,65.32378568074694,66.57938969449042,55.00847205146495,83.17390262742492,55.07156526018469,59.108692254001305,71.71103849542581,75.91439407068657,66.13749142380996,51.2733879726916,69.86123409331486,47.53081979399407,27.760562662587123,50.34416051459668,46.18057304022479,41.80371755987022,70.9469549397791,42.6864364658868,90.58356187823917,69.81565342227196,51.46703718049807,26.478380717491632,83.98950295344697,33.24094688557501,63.23721436234395,48.317552109618454,74.41215717296778,56.72007643826732,36.45774949036193,79.18680519315623,47.59243427550278,83.60323955938493,4.170699399782073,81.27226622532305,28.2539005830036,35.90818049938248,55.36494198159164,33.354080512296676,111.58309016181768,76.91591586973249,88.28705314452364,67.76371772175122,84.42891096771852,82.94001419515943,102.57108923015268,100.94158243174152,20.3685513106142,50.13523568533148,94.93894016992677,19.66571360537601,71.19992123859808,93.79698096311375,90.31444059009648,56.3076148363576,57.55097075036535,71.25084953116342,76.0042650733056,92.47032958489332,117.9433607884537,41.89113000579377,48.62170549792494,58.786490510900165,36.729371870689526,69.83217866088724,76.74098645018402,58.98636579202069,54.94520268498698,73.98676297983195,61.28824021252155,57.78097284709512,41.01048210648257,28.48348413537319],\"type\":\"scatter3d\"}],                        {\"template\":{\"data\":{\"histogram2dcontour\":[{\"type\":\"histogram2dcontour\",\"colorbar\":{\"outlinewidth\":0,\"ticks\":\"\"},\"colorscale\":[[0.0,\"#0d0887\"],[0.1111111111111111,\"#46039f\"],[0.2222222222222222,\"#7201a8\"],[0.3333333333333333,\"#9c179e\"],[0.4444444444444444,\"#bd3786\"],[0.5555555555555556,\"#d8576b\"],[0.6666666666666666,\"#ed7953\"],[0.7777777777777778,\"#fb9f3a\"],[0.8888888888888888,\"#fdca26\"],[1.0,\"#f0f921\"]]}],\"choropleth\":[{\"type\":\"choropleth\",\"colorbar\":{\"outlinewidth\":0,\"ticks\":\"\"}}],\"histogram2d\":[{\"type\":\"histogram2d\",\"colorbar\":{\"outlinewidth\":0,\"ticks\":\"\"},\"colorscale\":[[0.0,\"#0d0887\"],[0.1111111111111111,\"#46039f\"],[0.2222222222222222,\"#7201a8\"],[0.3333333333333333,\"#9c179e\"],[0.4444444444444444,\"#bd3786\"],[0.5555555555555556,\"#d8576b\"],[0.6666666666666666,\"#ed7953\"],[0.7777777777777778,\"#fb9f3a\"],[0.8888888888888888,\"#fdca26\"],[1.0,\"#f0f921\"]]}],\"heatmap\":[{\"type\":\"heatmap\",\"colorbar\":{\"outlinewidth\":0,\"ticks\":\"\"},\"colorscale\":[[0.0,\"#0d0887\"],[0.1111111111111111,\"#46039f\"],[0.2222222222222222,\"#7201a8\"],[0.3333333333333333,\"#9c179e\"],[0.4444444444444444,\"#bd3786\"],[0.5555555555555556,\"#d8576b\"],[0.6666666666666666,\"#ed7953\"],[0.7777777777777778,\"#fb9f3a\"],[0.8888888888888888,\"#fdca26\"],[1.0,\"#f0f921\"]]}],\"heatmapgl\":[{\"type\":\"heatmapgl\",\"colorbar\":{\"outlinewidth\":0,\"ticks\":\"\"},\"colorscale\":[[0.0,\"#0d0887\"],[0.1111111111111111,\"#46039f\"],[0.2222222222222222,\"#7201a8\"],[0.3333333333333333,\"#9c179e\"],[0.4444444444444444,\"#bd3786\"],[0.5555555555555556,\"#d8576b\"],[0.6666666666666666,\"#ed7953\"],[0.7777777777777778,\"#fb9f3a\"],[0.8888888888888888,\"#fdca26\"],[1.0,\"#f0f921\"]]}],\"contourcarpet\":[{\"type\":\"contourcarpet\",\"colorbar\":{\"outlinewidth\":0,\"ticks\":\"\"}}],\"contour\":[{\"type\":\"contour\",\"colorbar\":{\"outlinewidth\":0,\"ticks\":\"\"},\"colorscale\":[[0.0,\"#0d0887\"],[0.1111111111111111,\"#46039f\"],[0.2222222222222222,\"#7201a8\"],[0.3333333333333333,\"#9c179e\"],[0.4444444444444444,\"#bd3786\"],[0.5555555555555556,\"#d8576b\"],[0.6666666666666666,\"#ed7953\"],[0.7777777777777778,\"#fb9f3a\"],[0.8888888888888888,\"#fdca26\"],[1.0,\"#f0f921\"]]}],\"surface\":[{\"type\":\"surface\",\"colorbar\":{\"outlinewidth\":0,\"ticks\":\"\"},\"colorscale\":[[0.0,\"#0d0887\"],[0.1111111111111111,\"#46039f\"],[0.2222222222222222,\"#7201a8\"],[0.3333333333333333,\"#9c179e\"],[0.4444444444444444,\"#bd3786\"],[0.5555555555555556,\"#d8576b\"],[0.6666666666666666,\"#ed7953\"],[0.7777777777777778,\"#fb9f3a\"],[0.8888888888888888,\"#fdca26\"],[1.0,\"#f0f921\"]]}],\"mesh3d\":[{\"type\":\"mesh3d\",\"colorbar\":{\"outlinewidth\":0,\"ticks\":\"\"}}],\"scatter\":[{\"fillpattern\":{\"fillmode\":\"overlay\",\"size\":10,\"solidity\":0.2},\"type\":\"scatter\"}],\"parcoords\":[{\"type\":\"parcoords\",\"line\":{\"colorbar\":{\"outlinewidth\":0,\"ticks\":\"\"}}}],\"scatterpolargl\":[{\"type\":\"scatterpolargl\",\"marker\":{\"colorbar\":{\"outlinewidth\":0,\"ticks\":\"\"}}}],\"bar\":[{\"error_x\":{\"color\":\"#2a3f5f\"},\"error_y\":{\"color\":\"#2a3f5f\"},\"marker\":{\"line\":{\"color\":\"#E5ECF6\",\"width\":0.5},\"pattern\":{\"fillmode\":\"overlay\",\"size\":10,\"solidity\":0.2}},\"type\":\"bar\"}],\"scattergeo\":[{\"type\":\"scattergeo\",\"marker\":{\"colorbar\":{\"outlinewidth\":0,\"ticks\":\"\"}}}],\"scatterpolar\":[{\"type\":\"scatterpolar\",\"marker\":{\"colorbar\":{\"outlinewidth\":0,\"ticks\":\"\"}}}],\"histogram\":[{\"marker\":{\"pattern\":{\"fillmode\":\"overlay\",\"size\":10,\"solidity\":0.2}},\"type\":\"histogram\"}],\"scattergl\":[{\"type\":\"scattergl\",\"marker\":{\"colorbar\":{\"outlinewidth\":0,\"ticks\":\"\"}}}],\"scatter3d\":[{\"type\":\"scatter3d\",\"line\":{\"colorbar\":{\"outlinewidth\":0,\"ticks\":\"\"}},\"marker\":{\"colorbar\":{\"outlinewidth\":0,\"ticks\":\"\"}}}],\"scattermapbox\":[{\"type\":\"scattermapbox\",\"marker\":{\"colorbar\":{\"outlinewidth\":0,\"ticks\":\"\"}}}],\"scatterternary\":[{\"type\":\"scatterternary\",\"marker\":{\"colorbar\":{\"outlinewidth\":0,\"ticks\":\"\"}}}],\"scattercarpet\":[{\"type\":\"scattercarpet\",\"marker\":{\"colorbar\":{\"outlinewidth\":0,\"ticks\":\"\"}}}],\"carpet\":[{\"aaxis\":{\"endlinecolor\":\"#2a3f5f\",\"gridcolor\":\"white\",\"linecolor\":\"white\",\"minorgridcolor\":\"white\",\"startlinecolor\":\"#2a3f5f\"},\"baxis\":{\"endlinecolor\":\"#2a3f5f\",\"gridcolor\":\"white\",\"linecolor\":\"white\",\"minorgridcolor\":\"white\",\"startlinecolor\":\"#2a3f5f\"},\"type\":\"carpet\"}],\"table\":[{\"cells\":{\"fill\":{\"color\":\"#EBF0F8\"},\"line\":{\"color\":\"white\"}},\"header\":{\"fill\":{\"color\":\"#C8D4E3\"},\"line\":{\"color\":\"white\"}},\"type\":\"table\"}],\"barpolar\":[{\"marker\":{\"line\":{\"color\":\"#E5ECF6\",\"width\":0.5},\"pattern\":{\"fillmode\":\"overlay\",\"size\":10,\"solidity\":0.2}},\"type\":\"barpolar\"}],\"pie\":[{\"automargin\":true,\"type\":\"pie\"}]},\"layout\":{\"autotypenumbers\":\"strict\",\"colorway\":[\"#636efa\",\"#EF553B\",\"#00cc96\",\"#ab63fa\",\"#FFA15A\",\"#19d3f3\",\"#FF6692\",\"#B6E880\",\"#FF97FF\",\"#FECB52\"],\"font\":{\"color\":\"#2a3f5f\"},\"hovermode\":\"closest\",\"hoverlabel\":{\"align\":\"left\"},\"paper_bgcolor\":\"white\",\"plot_bgcolor\":\"#E5ECF6\",\"polar\":{\"bgcolor\":\"#E5ECF6\",\"angularaxis\":{\"gridcolor\":\"white\",\"linecolor\":\"white\",\"ticks\":\"\"},\"radialaxis\":{\"gridcolor\":\"white\",\"linecolor\":\"white\",\"ticks\":\"\"}},\"ternary\":{\"bgcolor\":\"#E5ECF6\",\"aaxis\":{\"gridcolor\":\"white\",\"linecolor\":\"white\",\"ticks\":\"\"},\"baxis\":{\"gridcolor\":\"white\",\"linecolor\":\"white\",\"ticks\":\"\"},\"caxis\":{\"gridcolor\":\"white\",\"linecolor\":\"white\",\"ticks\":\"\"}},\"coloraxis\":{\"colorbar\":{\"outlinewidth\":0,\"ticks\":\"\"}},\"colorscale\":{\"sequential\":[[0.0,\"#0d0887\"],[0.1111111111111111,\"#46039f\"],[0.2222222222222222,\"#7201a8\"],[0.3333333333333333,\"#9c179e\"],[0.4444444444444444,\"#bd3786\"],[0.5555555555555556,\"#d8576b\"],[0.6666666666666666,\"#ed7953\"],[0.7777777777777778,\"#fb9f3a\"],[0.8888888888888888,\"#fdca26\"],[1.0,\"#f0f921\"]],\"sequentialminus\":[[0.0,\"#0d0887\"],[0.1111111111111111,\"#46039f\"],[0.2222222222222222,\"#7201a8\"],[0.3333333333333333,\"#9c179e\"],[0.4444444444444444,\"#bd3786\"],[0.5555555555555556,\"#d8576b\"],[0.6666666666666666,\"#ed7953\"],[0.7777777777777778,\"#fb9f3a\"],[0.8888888888888888,\"#fdca26\"],[1.0,\"#f0f921\"]],\"diverging\":[[0,\"#8e0152\"],[0.1,\"#c51b7d\"],[0.2,\"#de77ae\"],[0.3,\"#f1b6da\"],[0.4,\"#fde0ef\"],[0.5,\"#f7f7f7\"],[0.6,\"#e6f5d0\"],[0.7,\"#b8e186\"],[0.8,\"#7fbc41\"],[0.9,\"#4d9221\"],[1,\"#276419\"]]},\"xaxis\":{\"gridcolor\":\"white\",\"linecolor\":\"white\",\"ticks\":\"\",\"title\":{\"standoff\":15},\"zerolinecolor\":\"white\",\"automargin\":true,\"zerolinewidth\":2},\"yaxis\":{\"gridcolor\":\"white\",\"linecolor\":\"white\",\"ticks\":\"\",\"title\":{\"standoff\":15},\"zerolinecolor\":\"white\",\"automargin\":true,\"zerolinewidth\":2},\"scene\":{\"xaxis\":{\"backgroundcolor\":\"#E5ECF6\",\"gridcolor\":\"white\",\"linecolor\":\"white\",\"showbackground\":true,\"ticks\":\"\",\"zerolinecolor\":\"white\",\"gridwidth\":2},\"yaxis\":{\"backgroundcolor\":\"#E5ECF6\",\"gridcolor\":\"white\",\"linecolor\":\"white\",\"showbackground\":true,\"ticks\":\"\",\"zerolinecolor\":\"white\",\"gridwidth\":2},\"zaxis\":{\"backgroundcolor\":\"#E5ECF6\",\"gridcolor\":\"white\",\"linecolor\":\"white\",\"showbackground\":true,\"ticks\":\"\",\"zerolinecolor\":\"white\",\"gridwidth\":2}},\"shapedefaults\":{\"line\":{\"color\":\"#2a3f5f\"}},\"annotationdefaults\":{\"arrowcolor\":\"#2a3f5f\",\"arrowhead\":0,\"arrowwidth\":1},\"geo\":{\"bgcolor\":\"white\",\"landcolor\":\"#E5ECF6\",\"subunitcolor\":\"white\",\"showland\":true,\"showlakes\":true,\"lakecolor\":\"white\"},\"title\":{\"x\":0.05},\"mapbox\":{\"style\":\"light\"}}},\"title\":{\"text\":\"Fabrication Time: Machines vs Complexity\"},\"scene\":{\"xaxis\":{\"title\":{\"text\":\"Machines\"}},\"yaxis\":{\"title\":{\"text\":\"Complexity\"}},\"zaxis\":{\"title\":{\"text\":\"Fabrication Time\"}}},\"width\":700,\"height\":600},                        {\"responsive\": true}                    ).then(function(){\n",
       "                            \n",
       "var gd = document.getElementById('439a7ccb-239a-4442-8adb-ef8f81d5ea8f');\n",
       "var x = new MutationObserver(function (mutations, observer) {{\n",
       "        var display = window.getComputedStyle(gd).display;\n",
       "        if (!display || display === 'none') {{\n",
       "            console.log([gd, 'removed!']);\n",
       "            Plotly.purge(gd);\n",
       "            observer.disconnect();\n",
       "        }}\n",
       "}});\n",
       "\n",
       "// Listen for the removal of the full notebook cells\n",
       "var notebookContainer = gd.closest('#notebook-container');\n",
       "if (notebookContainer) {{\n",
       "    x.observe(notebookContainer, {childList: true});\n",
       "}}\n",
       "\n",
       "// Listen for the clearing of the current output cell\n",
       "var outputEl = gd.closest('.output');\n",
       "if (outputEl) {{\n",
       "    x.observe(outputEl, {childList: true});\n",
       "}}\n",
       "\n",
       "                        })                };                });            </script>        </div>"
      ]
     },
     "metadata": {},
     "output_type": "display_data"
    }
   ],
   "source": [
    "import plotly.graph_objs as go\n",
    "import plotly.io as pio\n",
    "pio.renderers.default = 'notebook_connected'\n",
    "\n",
    "df = pd.read_csv('../Data/machine_regression_2D.csv', index_col= 0)\n",
    "\n",
    "# Überblick über die Daten\n",
    "print(\"Datenüberblick:\")\n",
    "print(df.head())\n",
    "\n",
    "# Überprüfen auf fehlende Werte\n",
    "print(\"\\nFehlende Werte:\\n\", df.isnull().sum())\n",
    "\n",
    "# Aufteilen in Features (X) und Zielvariable (y)\n",
    "X = df[['machines', 'complexity']].values\n",
    "y = df['fabrication_time'].values\n",
    "\n",
    "fig = go.Figure()\n",
    "\n",
    "# Plotten der Daten\n",
    "fig.add_trace(go.Scatter3d(\n",
    "    x=X[:,0], y=X[:,1], z=y,\n",
    "    mode='markers',\n",
    "    marker=dict(size=4, color='blue', opacity=0.5),\n",
    "))\n",
    "\n",
    "fig.update_layout(\n",
    "    title=\"Fabrication Time: Machines vs Complexity\",\n",
    "    scene=dict(\n",
    "        xaxis_title=\"Machines\",\n",
    "        yaxis_title=\"Complexity\",\n",
    "        zaxis_title=\"Fabrication Time\"\n",
    "    ),\n",
    "    width=700, height=600\n",
    ")\n",
    "\n",
    "fig.show()\n"
   ]
  },
  {
   "cell_type": "markdown",
   "metadata": {},
   "source": [
    "Wir sehen, dass keine Daten fehlen und die Beziehung zwischen der Fertigungszeit und den Features jeweils linear sind. Im Fall der Komplexität sind die größen positiv korrelliert (komplexeres Teil -> längere Fertigungszeit), im Falle der Maschinenzahl negativ (mehr Maschinen -> kürzere Fertigungszeit)."
   ]
  },
  {
   "cell_type": "markdown",
   "metadata": {},
   "source": [
    "## Train-Test Split\n",
    "\n",
    "Auch hier teilen wir die Daten in ein Trainings- und ein Test-Set auf. Dafür wird genau derselbe Befehl wie zuvor verwendet."
   ]
  },
  {
   "cell_type": "code",
   "execution_count": 230,
   "metadata": {},
   "outputs": [],
   "source": [
    "# Aufteilen in Trainings- und Testdaten\n",
    "X_train, X_test, y_train, y_test = train_test_split(X, y, test_size=0.2, random_state=0)"
   ]
  },
  {
   "cell_type": "markdown",
   "metadata": {},
   "source": [
    "## Standardisierung\n",
    "\n",
    "Auch die Standardisierung der Daten läuft mittels `scikit-learn` genau gleich ab."
   ]
  },
  {
   "cell_type": "code",
   "execution_count": 231,
   "metadata": {},
   "outputs": [
    {
     "name": "stdout",
     "output_type": "stream",
     "text": [
      "Erste Zeilen der standardisierten Trainingsdaten:\n",
      " [[ 0.36712254  1.28435589]\n",
      " [ 1.15031731 -0.47956636]\n",
      " [-1.19926698  0.40239476]\n",
      " [-0.8076696  -1.36152749]\n",
      " [ 0.75871992  1.28435589]]\n"
     ]
    }
   ],
   "source": [
    "# Standardisieren der Features\n",
    "scaler = StandardScaler()\n",
    "X_train = scaler.fit_transform(X_train)\n",
    "X_test = scaler.transform(X_test)\n",
    "\n",
    "print(\"Erste Zeilen der standardisierten Trainingsdaten:\\n\", X_train[:5])"
   ]
  },
  {
   "cell_type": "markdown",
   "metadata": {},
   "source": [
    "## Lineare Regression\n",
    "\n",
    "Das fitten der Daten folgt ebenfalls den gleichen Schritten: Modellinitialisierung und Fitting. Aufgrund der zweidimensionalen Daten haben wir nun 2 Koeffizienten ($w_1$ und $w_2$). Dies entspricht den Steigungen in x- und y-Richtung einer Ebene."
   ]
  },
  {
   "cell_type": "code",
   "execution_count": 232,
   "metadata": {
    "colab": {
     "base_uri": "https://localhost:8080/"
    },
    "executionInfo": {
     "elapsed": 791,
     "status": "ok",
     "timestamp": 1730996948190,
     "user": {
      "displayName": "Roman List",
      "userId": "11668527673835904073"
     },
     "user_tz": -60
    },
    "id": "4_aEOcvZB1d6",
    "outputId": "f39b436e-e42f-4b1c-ce52-bfed847c0153"
   },
   "outputs": [
    {
     "name": "stdout",
     "output_type": "stream",
     "text": [
      "\n",
      "Modell-Koeffizienten: [-10.19263862  12.1339451 ]\n",
      "Modell-Achsenabschnitt: 61.01192151742241\n"
     ]
    }
   ],
   "source": [
    "# Modellinitialisierung und Training\n",
    "model = LinearRegression()\n",
    "model.fit(X_train, y_train)\n",
    "\n",
    "# Ausgabe der Modellparameter\n",
    "print(\"\\nModell-Koeffizienten:\", model.coef_)\n",
    "print(\"Modell-Achsenabschnitt:\", model.intercept_)\n"
   ]
  },
  {
   "cell_type": "markdown",
   "metadata": {},
   "source": [
    "## Evaluation\n",
    "\n",
    "Die Evaluation anhand des Test-Datensets erfolgt erneut zunächst visuell: wir plotten unsere Test-Daten und die vom Modell getroffene Vorhersage. Da es sich hier um eine Ebene handelt, ist die Visualisierung leicht anders. Da die lineare Regression nun in zwei Dimensionen erfolgt, haben wir keine Ausgleichsgerade, sondern eine Ausgleichsebene."
   ]
  },
  {
   "cell_type": "code",
   "execution_count": 234,
   "metadata": {},
   "outputs": [
    {
     "name": "stdout",
     "output_type": "stream",
     "text": [
      "Standardisierte Werte: (machines, complexity)\n",
      " [[ 1.15031731  0.40239476]\n",
      " [-0.02447484  0.40239476]\n",
      " [ 0.36712254 -1.36152749]\n",
      " [ 1.15031731  1.28435589]\n",
      " [ 1.54191469  1.28435589]]\n",
      "Originaldaten: (machines, complexity)\n",
      " [[8. 3.]\n",
      " [5. 3.]\n",
      " [6. 1.]\n",
      " [8. 4.]\n",
      " [9. 4.]]\n"
     ]
    },
    {
     "data": {
      "text/html": [
       "<div>                            <div id=\"7e0870c6-e2a3-46e4-b9c8-3354f69e2268\" class=\"plotly-graph-div\" style=\"height:600px; width:700px;\"></div>            <script type=\"text/javascript\">                require([\"plotly\"], function(Plotly) {                    window.PLOTLYENV=window.PLOTLYENV || {};                                    if (document.getElementById(\"7e0870c6-e2a3-46e4-b9c8-3354f69e2268\")) {                    Plotly.newPlot(                        \"7e0870c6-e2a3-46e4-b9c8-3354f69e2268\",                        [{\"marker\":{\"color\":\"blue\",\"opacity\":0.5,\"size\":4},\"mode\":\"markers\",\"name\":\"Actual Fabrication Time\",\"x\":[8.0,5.0,6.0,8.0,9.0,6.0,6.0,1.0,6.0,2.0,1.0,6.0,2.0,2.0,3.0,9.0,6.0,6.0,6.0,7.0,3.0,7.0,7.0,1.0,2.0,6.0,1.0,6.0,9.0,7.0,1.0,2.0,2.0,8.0,5.0,3.0,3.0,4.0,7.0,6.0],\"y\":[3.0,3.0,0.9999999999999998,4.0,4.0,4.0,0.9999999999999998,3.0,3.0,2.0,0.9999999999999998,2.0,4.0,3.0,2.0,2.0,0.9999999999999998,0.9999999999999998,2.0,0.9999999999999998,3.0,0.9999999999999998,2.0,4.0,0.9999999999999998,2.0,3.0,4.0,0.9999999999999998,3.0,2.0,0.9999999999999998,3.0,0.9999999999999998,2.0,2.0,2.0,0.9999999999999998,0.9999999999999998,0.9999999999999998],\"z\":[51.63499475754276,84.42891096771852,53.26751660288785,76.21779733731799,19.66571360537601,57.55097075036535,32.039833707027626,90.58356187823917,52.20593417172311,63.23721436234395,48.579830027949896,57.15307858769192,90.31444059009648,74.41215717296778,91.2220239831134,40.91527383975611,36.19921294222919,55.00847205146495,48.79466757223236,4.6665365589671595,71.25084953116342,42.6864364658868,38.15826223175094,83.60323955938493,56.9839969465905,31.746408303106108,93.79698096311375,92.47032958489332,22.497316809208563,78.96797772153707,58.139671112137194,66.09947475701892,83.98950295344697,59.79383961124291,68.70782501306948,58.786490510900165,66.57938969449042,35.097612868648845,35.15987349227268,68.990817803787],\"type\":\"scatter3d\"},{\"marker\":{\"color\":\"red\",\"opacity\":0.5,\"size\":4},\"mode\":\"markers\",\"name\":\"Predicted Fabrication Time\",\"x\":[8.0,5.0,6.0,8.0,9.0,6.0,6.0,1.0,6.0,2.0,1.0,6.0,2.0,2.0,3.0,9.0,6.0,6.0,6.0,7.0,3.0,7.0,7.0,1.0,2.0,6.0,1.0,6.0,9.0,7.0,1.0,2.0,2.0,8.0,5.0,3.0,3.0,4.0,7.0,6.0],\"y\":[3.0,3.0,0.9999999999999998,4.0,4.0,4.0,0.9999999999999998,3.0,3.0,2.0,0.9999999999999998,2.0,4.0,3.0,2.0,2.0,0.9999999999999998,0.9999999999999998,2.0,0.9999999999999998,3.0,0.9999999999999998,2.0,4.0,0.9999999999999998,2.0,3.0,4.0,0.9999999999999998,3.0,2.0,0.9999999999999998,3.0,0.9999999999999998,2.0,2.0,2.0,0.9999999999999998,0.9999999999999998,0.9999999999999998],\"z\":[54.169788894229015,66.14402065092476,40.74927429810682,64.87145677785537,60.880046192290116,72.85427794898585,40.74927429810682,82.10966299318574,62.15261006535951,67.41658452399415,60.70632722593305,51.45094218173316,88.81992029124685,78.1182524076205,63.425173938428905,39.476710425037425,40.74927429810682,40.74927429810682,51.45094218173316,36.75786371254157,74.12684182205524,36.75786371254157,47.45953159616792,92.8113308768121,56.714916640367804,51.45094218173316,82.10966299318574,72.85427794898585,28.775042541411075,58.16119947979426,71.4079951095594,56.714916640367804,78.1182524076205,32.76645312697632,55.44235276729841,63.425173938428905,63.425173938428905,48.73209546923731,36.75786371254157,40.74927429810682],\"type\":\"scatter3d\"},{\"colorscale\":[[0.0,\"#440154\"],[0.1111111111111111,\"#482878\"],[0.2222222222222222,\"#3e4989\"],[0.3333333333333333,\"#31688e\"],[0.4444444444444444,\"#26828e\"],[0.5555555555555556,\"#1f9e89\"],[0.6666666666666666,\"#35b779\"],[0.7777777777777778,\"#6ece58\"],[0.8888888888888888,\"#b5de2b\"],[1.0,\"#fde725\"]],\"name\":\"Best Fit Plane\",\"opacity\":0.5,\"showscale\":false,\"x\":[[1.0,9.0],[1.0,9.0]],\"y\":[[0.9999999999999998,0.9999999999999998],[4.0,4.0]],\"z\":[[60.70632722593305,28.775042541411068],[92.8113308768121,60.8800461922901]],\"type\":\"surface\"}],                        {\"template\":{\"data\":{\"histogram2dcontour\":[{\"type\":\"histogram2dcontour\",\"colorbar\":{\"outlinewidth\":0,\"ticks\":\"\"},\"colorscale\":[[0.0,\"#0d0887\"],[0.1111111111111111,\"#46039f\"],[0.2222222222222222,\"#7201a8\"],[0.3333333333333333,\"#9c179e\"],[0.4444444444444444,\"#bd3786\"],[0.5555555555555556,\"#d8576b\"],[0.6666666666666666,\"#ed7953\"],[0.7777777777777778,\"#fb9f3a\"],[0.8888888888888888,\"#fdca26\"],[1.0,\"#f0f921\"]]}],\"choropleth\":[{\"type\":\"choropleth\",\"colorbar\":{\"outlinewidth\":0,\"ticks\":\"\"}}],\"histogram2d\":[{\"type\":\"histogram2d\",\"colorbar\":{\"outlinewidth\":0,\"ticks\":\"\"},\"colorscale\":[[0.0,\"#0d0887\"],[0.1111111111111111,\"#46039f\"],[0.2222222222222222,\"#7201a8\"],[0.3333333333333333,\"#9c179e\"],[0.4444444444444444,\"#bd3786\"],[0.5555555555555556,\"#d8576b\"],[0.6666666666666666,\"#ed7953\"],[0.7777777777777778,\"#fb9f3a\"],[0.8888888888888888,\"#fdca26\"],[1.0,\"#f0f921\"]]}],\"heatmap\":[{\"type\":\"heatmap\",\"colorbar\":{\"outlinewidth\":0,\"ticks\":\"\"},\"colorscale\":[[0.0,\"#0d0887\"],[0.1111111111111111,\"#46039f\"],[0.2222222222222222,\"#7201a8\"],[0.3333333333333333,\"#9c179e\"],[0.4444444444444444,\"#bd3786\"],[0.5555555555555556,\"#d8576b\"],[0.6666666666666666,\"#ed7953\"],[0.7777777777777778,\"#fb9f3a\"],[0.8888888888888888,\"#fdca26\"],[1.0,\"#f0f921\"]]}],\"heatmapgl\":[{\"type\":\"heatmapgl\",\"colorbar\":{\"outlinewidth\":0,\"ticks\":\"\"},\"colorscale\":[[0.0,\"#0d0887\"],[0.1111111111111111,\"#46039f\"],[0.2222222222222222,\"#7201a8\"],[0.3333333333333333,\"#9c179e\"],[0.4444444444444444,\"#bd3786\"],[0.5555555555555556,\"#d8576b\"],[0.6666666666666666,\"#ed7953\"],[0.7777777777777778,\"#fb9f3a\"],[0.8888888888888888,\"#fdca26\"],[1.0,\"#f0f921\"]]}],\"contourcarpet\":[{\"type\":\"contourcarpet\",\"colorbar\":{\"outlinewidth\":0,\"ticks\":\"\"}}],\"contour\":[{\"type\":\"contour\",\"colorbar\":{\"outlinewidth\":0,\"ticks\":\"\"},\"colorscale\":[[0.0,\"#0d0887\"],[0.1111111111111111,\"#46039f\"],[0.2222222222222222,\"#7201a8\"],[0.3333333333333333,\"#9c179e\"],[0.4444444444444444,\"#bd3786\"],[0.5555555555555556,\"#d8576b\"],[0.6666666666666666,\"#ed7953\"],[0.7777777777777778,\"#fb9f3a\"],[0.8888888888888888,\"#fdca26\"],[1.0,\"#f0f921\"]]}],\"surface\":[{\"type\":\"surface\",\"colorbar\":{\"outlinewidth\":0,\"ticks\":\"\"},\"colorscale\":[[0.0,\"#0d0887\"],[0.1111111111111111,\"#46039f\"],[0.2222222222222222,\"#7201a8\"],[0.3333333333333333,\"#9c179e\"],[0.4444444444444444,\"#bd3786\"],[0.5555555555555556,\"#d8576b\"],[0.6666666666666666,\"#ed7953\"],[0.7777777777777778,\"#fb9f3a\"],[0.8888888888888888,\"#fdca26\"],[1.0,\"#f0f921\"]]}],\"mesh3d\":[{\"type\":\"mesh3d\",\"colorbar\":{\"outlinewidth\":0,\"ticks\":\"\"}}],\"scatter\":[{\"fillpattern\":{\"fillmode\":\"overlay\",\"size\":10,\"solidity\":0.2},\"type\":\"scatter\"}],\"parcoords\":[{\"type\":\"parcoords\",\"line\":{\"colorbar\":{\"outlinewidth\":0,\"ticks\":\"\"}}}],\"scatterpolargl\":[{\"type\":\"scatterpolargl\",\"marker\":{\"colorbar\":{\"outlinewidth\":0,\"ticks\":\"\"}}}],\"bar\":[{\"error_x\":{\"color\":\"#2a3f5f\"},\"error_y\":{\"color\":\"#2a3f5f\"},\"marker\":{\"line\":{\"color\":\"#E5ECF6\",\"width\":0.5},\"pattern\":{\"fillmode\":\"overlay\",\"size\":10,\"solidity\":0.2}},\"type\":\"bar\"}],\"scattergeo\":[{\"type\":\"scattergeo\",\"marker\":{\"colorbar\":{\"outlinewidth\":0,\"ticks\":\"\"}}}],\"scatterpolar\":[{\"type\":\"scatterpolar\",\"marker\":{\"colorbar\":{\"outlinewidth\":0,\"ticks\":\"\"}}}],\"histogram\":[{\"marker\":{\"pattern\":{\"fillmode\":\"overlay\",\"size\":10,\"solidity\":0.2}},\"type\":\"histogram\"}],\"scattergl\":[{\"type\":\"scattergl\",\"marker\":{\"colorbar\":{\"outlinewidth\":0,\"ticks\":\"\"}}}],\"scatter3d\":[{\"type\":\"scatter3d\",\"line\":{\"colorbar\":{\"outlinewidth\":0,\"ticks\":\"\"}},\"marker\":{\"colorbar\":{\"outlinewidth\":0,\"ticks\":\"\"}}}],\"scattermapbox\":[{\"type\":\"scattermapbox\",\"marker\":{\"colorbar\":{\"outlinewidth\":0,\"ticks\":\"\"}}}],\"scatterternary\":[{\"type\":\"scatterternary\",\"marker\":{\"colorbar\":{\"outlinewidth\":0,\"ticks\":\"\"}}}],\"scattercarpet\":[{\"type\":\"scattercarpet\",\"marker\":{\"colorbar\":{\"outlinewidth\":0,\"ticks\":\"\"}}}],\"carpet\":[{\"aaxis\":{\"endlinecolor\":\"#2a3f5f\",\"gridcolor\":\"white\",\"linecolor\":\"white\",\"minorgridcolor\":\"white\",\"startlinecolor\":\"#2a3f5f\"},\"baxis\":{\"endlinecolor\":\"#2a3f5f\",\"gridcolor\":\"white\",\"linecolor\":\"white\",\"minorgridcolor\":\"white\",\"startlinecolor\":\"#2a3f5f\"},\"type\":\"carpet\"}],\"table\":[{\"cells\":{\"fill\":{\"color\":\"#EBF0F8\"},\"line\":{\"color\":\"white\"}},\"header\":{\"fill\":{\"color\":\"#C8D4E3\"},\"line\":{\"color\":\"white\"}},\"type\":\"table\"}],\"barpolar\":[{\"marker\":{\"line\":{\"color\":\"#E5ECF6\",\"width\":0.5},\"pattern\":{\"fillmode\":\"overlay\",\"size\":10,\"solidity\":0.2}},\"type\":\"barpolar\"}],\"pie\":[{\"automargin\":true,\"type\":\"pie\"}]},\"layout\":{\"autotypenumbers\":\"strict\",\"colorway\":[\"#636efa\",\"#EF553B\",\"#00cc96\",\"#ab63fa\",\"#FFA15A\",\"#19d3f3\",\"#FF6692\",\"#B6E880\",\"#FF97FF\",\"#FECB52\"],\"font\":{\"color\":\"#2a3f5f\"},\"hovermode\":\"closest\",\"hoverlabel\":{\"align\":\"left\"},\"paper_bgcolor\":\"white\",\"plot_bgcolor\":\"#E5ECF6\",\"polar\":{\"bgcolor\":\"#E5ECF6\",\"angularaxis\":{\"gridcolor\":\"white\",\"linecolor\":\"white\",\"ticks\":\"\"},\"radialaxis\":{\"gridcolor\":\"white\",\"linecolor\":\"white\",\"ticks\":\"\"}},\"ternary\":{\"bgcolor\":\"#E5ECF6\",\"aaxis\":{\"gridcolor\":\"white\",\"linecolor\":\"white\",\"ticks\":\"\"},\"baxis\":{\"gridcolor\":\"white\",\"linecolor\":\"white\",\"ticks\":\"\"},\"caxis\":{\"gridcolor\":\"white\",\"linecolor\":\"white\",\"ticks\":\"\"}},\"coloraxis\":{\"colorbar\":{\"outlinewidth\":0,\"ticks\":\"\"}},\"colorscale\":{\"sequential\":[[0.0,\"#0d0887\"],[0.1111111111111111,\"#46039f\"],[0.2222222222222222,\"#7201a8\"],[0.3333333333333333,\"#9c179e\"],[0.4444444444444444,\"#bd3786\"],[0.5555555555555556,\"#d8576b\"],[0.6666666666666666,\"#ed7953\"],[0.7777777777777778,\"#fb9f3a\"],[0.8888888888888888,\"#fdca26\"],[1.0,\"#f0f921\"]],\"sequentialminus\":[[0.0,\"#0d0887\"],[0.1111111111111111,\"#46039f\"],[0.2222222222222222,\"#7201a8\"],[0.3333333333333333,\"#9c179e\"],[0.4444444444444444,\"#bd3786\"],[0.5555555555555556,\"#d8576b\"],[0.6666666666666666,\"#ed7953\"],[0.7777777777777778,\"#fb9f3a\"],[0.8888888888888888,\"#fdca26\"],[1.0,\"#f0f921\"]],\"diverging\":[[0,\"#8e0152\"],[0.1,\"#c51b7d\"],[0.2,\"#de77ae\"],[0.3,\"#f1b6da\"],[0.4,\"#fde0ef\"],[0.5,\"#f7f7f7\"],[0.6,\"#e6f5d0\"],[0.7,\"#b8e186\"],[0.8,\"#7fbc41\"],[0.9,\"#4d9221\"],[1,\"#276419\"]]},\"xaxis\":{\"gridcolor\":\"white\",\"linecolor\":\"white\",\"ticks\":\"\",\"title\":{\"standoff\":15},\"zerolinecolor\":\"white\",\"automargin\":true,\"zerolinewidth\":2},\"yaxis\":{\"gridcolor\":\"white\",\"linecolor\":\"white\",\"ticks\":\"\",\"title\":{\"standoff\":15},\"zerolinecolor\":\"white\",\"automargin\":true,\"zerolinewidth\":2},\"scene\":{\"xaxis\":{\"backgroundcolor\":\"#E5ECF6\",\"gridcolor\":\"white\",\"linecolor\":\"white\",\"showbackground\":true,\"ticks\":\"\",\"zerolinecolor\":\"white\",\"gridwidth\":2},\"yaxis\":{\"backgroundcolor\":\"#E5ECF6\",\"gridcolor\":\"white\",\"linecolor\":\"white\",\"showbackground\":true,\"ticks\":\"\",\"zerolinecolor\":\"white\",\"gridwidth\":2},\"zaxis\":{\"backgroundcolor\":\"#E5ECF6\",\"gridcolor\":\"white\",\"linecolor\":\"white\",\"showbackground\":true,\"ticks\":\"\",\"zerolinecolor\":\"white\",\"gridwidth\":2}},\"shapedefaults\":{\"line\":{\"color\":\"#2a3f5f\"}},\"annotationdefaults\":{\"arrowcolor\":\"#2a3f5f\",\"arrowhead\":0,\"arrowwidth\":1},\"geo\":{\"bgcolor\":\"white\",\"landcolor\":\"#E5ECF6\",\"subunitcolor\":\"white\",\"showland\":true,\"showlakes\":true,\"lakecolor\":\"white\"},\"title\":{\"x\":0.05},\"mapbox\":{\"style\":\"light\"}}},\"title\":{\"text\":\"Fabrication Time: Machines vs Complexity\"},\"scene\":{\"xaxis\":{\"title\":{\"text\":\"Machines\"}},\"yaxis\":{\"title\":{\"text\":\"Complexity\"}},\"zaxis\":{\"title\":{\"text\":\"Fabrication Time\"}}},\"width\":700,\"height\":600},                        {\"responsive\": true}                    ).then(function(){\n",
       "                            \n",
       "var gd = document.getElementById('7e0870c6-e2a3-46e4-b9c8-3354f69e2268');\n",
       "var x = new MutationObserver(function (mutations, observer) {{\n",
       "        var display = window.getComputedStyle(gd).display;\n",
       "        if (!display || display === 'none') {{\n",
       "            console.log([gd, 'removed!']);\n",
       "            Plotly.purge(gd);\n",
       "            observer.disconnect();\n",
       "        }}\n",
       "}});\n",
       "\n",
       "// Listen for the removal of the full notebook cells\n",
       "var notebookContainer = gd.closest('#notebook-container');\n",
       "if (notebookContainer) {{\n",
       "    x.observe(notebookContainer, {childList: true});\n",
       "}}\n",
       "\n",
       "// Listen for the clearing of the current output cell\n",
       "var outputEl = gd.closest('.output');\n",
       "if (outputEl) {{\n",
       "    x.observe(outputEl, {childList: true});\n",
       "}}\n",
       "\n",
       "                        })                };                });            </script>        </div>"
      ]
     },
     "metadata": {},
     "output_type": "display_data"
    }
   ],
   "source": [
    "coefs = model.coef_\n",
    "intercept = model.intercept_\n",
    "\n",
    "def best_fit_plane(x, y, coef1, coef2, intercept):\n",
    "    return coef1 * x + coef2 * y + intercept\n",
    "\n",
    "# Rücktransformation der Standardisierung für X_test, um die Originalskala zu erhalten\n",
    "print(\"Standardisierte Werte: (machines, complexity)\\n\", X_test[:5])\n",
    "X_test_original = scaler.inverse_transform(X_test)\n",
    "print(\"Originaldaten: (machines, complexity)\\n\", X_test_original[:5])\n",
    "\n",
    "# Plot 1: Machines vs Complexity vs Fabrication Time\n",
    "x_vals_original = X_test_original[:, 0]  # Machines\n",
    "y_vals_original = X_test_original[:, 1]  # Complexity\n",
    "\n",
    "fig = go.Figure()\n",
    "\n",
    "# Scatter plot (tatsächliche Werte)\n",
    "fig.add_trace(go.Scatter3d(\n",
    "    x=x_vals_original, y=y_vals_original, z=y_test,\n",
    "    mode='markers',\n",
    "    marker=dict(size=4, color='blue', opacity=0.5),\n",
    "    name='Actual Fabrication Time'\n",
    "))\n",
    "\n",
    "# Scatter plot (vorhergesagte Werte)\n",
    "fig.add_trace(go.Scatter3d(\n",
    "    x=x_vals_original, y=y_vals_original, z=y_pred,\n",
    "    mode='markers',\n",
    "    marker=dict(size=4, color='red', opacity=0.5),\n",
    "    name='Predicted Fabrication Time'\n",
    "))\n",
    "\n",
    "\n",
    "### Berechnungen für die Ebene\n",
    "# Gitterwerte\n",
    "x_mesh, y_mesh = np.meshgrid(np.linspace(x_vals_original.min(), x_vals_original.max(), 2),\n",
    "                             np.linspace(y_vals_original.min(), y_vals_original.max(), 2))\n",
    "\n",
    "\n",
    "# Standardisiere die Gitterwerte, um sie in das Modell einsetzen zu können\n",
    "x_mesh_scaled = scaler.transform(np.c_[x_mesh.ravel(), y_mesh.ravel()])[:, 0]\n",
    "y_mesh_scaled = scaler.transform(np.c_[x_mesh.ravel(), y_mesh.ravel()])[:, 1]\n",
    "\n",
    "\n",
    "# Berechne die z-Werte für die Best-Fit-Plane mit den skalierten Gitterwerten\n",
    "z_mesh = best_fit_plane(x_mesh_scaled, y_mesh_scaled, coefs[0], coefs[1], intercept).reshape(x_mesh.shape)\n",
    "\n",
    "# Zeichnen der Ebene\n",
    "fig.add_trace(go.Surface(\n",
    "    x=x_mesh, y=y_mesh, z=z_mesh,\n",
    "    colorscale='Viridis',\n",
    "    opacity=0.5,\n",
    "    showscale=False,\n",
    "    name='Best Fit Plane'\n",
    "))\n",
    "\n",
    "# Customize layout\n",
    "fig.update_layout(\n",
    "    title=\"Fabrication Time: Machines vs Complexity\",\n",
    "    scene=dict(\n",
    "        xaxis_title=\"Machines\",\n",
    "        yaxis_title=\"Complexity\",\n",
    "        zaxis_title=\"Fabrication Time\"\n",
    "    ),\n",
    "    width=700, height=600\n",
    ")\n",
    "\n",
    "fig.show()"
   ]
  },
  {
   "cell_type": "markdown",
   "metadata": {},
   "source": [
    "Die Ebene scheint die Daten gut zu beschreiben. Schauen wir uns nun die Metriken von oben an, um zu beurteilen, wie gut die Regression in diesem Fall funktioniert hat."
   ]
  },
  {
   "cell_type": "code",
   "execution_count": 235,
   "metadata": {
    "colab": {
     "base_uri": "https://localhost:8080/"
    },
    "executionInfo": {
     "elapsed": 383,
     "status": "ok",
     "timestamp": 1730996951985,
     "user": {
      "displayName": "Roman List",
      "userId": "11668527673835904073"
     },
     "user_tz": -60
    },
    "id": "HprssvFSMF0i",
    "outputId": "ee2a1dd7-92c6-480f-d0da-c7f679820beb"
   },
   "outputs": [
    {
     "name": "stdout",
     "output_type": "stream",
     "text": [
      "Mean Absolute Error (MAE): 11.60\n",
      "Mean Squared Error (MSE): 221.84\n",
      "Root Mean Squared Error (RMSE): 14.89\n",
      "R²-Score: 0.53\n"
     ]
    }
   ],
   "source": [
    "# Vorhersagen auf den standardisierten Testdaten\n",
    "y_pred = model.predict(X_test)\n",
    "\n",
    "# Berechnung der Metriken auf der Originalskala\n",
    "mae = mean_absolute_error(y_test, y_pred)\n",
    "mse = mean_squared_error(y_test, y_pred)\n",
    "rmse = np.sqrt(mse)\n",
    "r2 = r2_score(y_test, y_pred)\n",
    "\n",
    "# Ausgabe der Metriken\n",
    "print(f\"Mean Absolute Error (MAE): {mae:.2f}\")\n",
    "print(f\"Mean Squared Error (MSE): {mse:.2f}\")\n",
    "print(f\"Root Mean Squared Error (RMSE): {rmse:.2f}\")\n",
    "print(f\"R²-Score: {r2:.2f}\")"
   ]
  }
 ],
 "metadata": {
  "colab": {
   "authorship_tag": "ABX9TyNM5tJbK9LbQ72tQcqsvLcp",
   "provenance": []
  },
  "kernelspec": {
   "display_name": "scvenv",
   "language": "python",
   "name": "scvenv"
  },
  "language_info": {
   "codemirror_mode": {
    "name": "ipython",
    "version": 3
   },
   "file_extension": ".py",
   "mimetype": "text/x-python",
   "name": "python",
   "nbconvert_exporter": "python",
   "pygments_lexer": "ipython3",
   "version": "3.13.1"
  }
 },
 "nbformat": 4,
 "nbformat_minor": 0
}
