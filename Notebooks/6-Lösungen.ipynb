{
 "cells": [
  {
   "cell_type": "markdown",
   "id": "76a39480",
   "metadata": {},
   "source": [
    "# Projekt\n",
    "\n",
    "## 1. Zielsetzung und Datenverständnis\n",
    "\n",
    "In diesem Projekt wenden wir die Konzepte aus den vorherigen Notebooks auf einen echten Datensatz an. Ziel ist es, mithilfe der bisher erlernten Methoden ein einfaches maschinelles Lernmodell zu entwickeln, das auf Basis physikalischer und materialtechnischer Eigenschaften vorhersagen kann, ob eine Steckverbindung im Laufe der Zeit einen kritischen Widerstand überschreiten wird.\n",
    "\n",
    "### Der Kontext\n",
    "\n",
    "Steckverbindungen sind essenzielle Bauteile in vielen technischen Systemen – von der Automobilindustrie bis zur Elektronikfertigung. Mit der Zeit und unter Belastung (z. B. durch Vibration oder Temperaturwechsel) kann der elektrische Kontaktwiderstand steigen. Überschreitet er einen bestimmten Schwellenwert (meist 300 mΩ), gilt die Verbindung typischerweise als defekt.\n",
    "\n",
    "Der vorliegende Datensatz enthält Informationen zu mehreren Steckverbindungen, darunter:\n",
    "\n",
    "* **Materialeigenschaften** wie die Art der Beschichtung (Silber, Zinn) oder das Vorhandensein einer Zwischenschicht (Nickel),\n",
    "* **Prozessparameter** wie Normalkraft, Frequenz und Bewegungshub,\n",
    "* sowie die **Zyklenzahl**, bei der ein bestimmter Widerstandsschwellenwert (z. B. 1 mΩ, 20 mΩ, …, 300 mΩ) erstmals überschritten wurde – falls überhaupt.\n",
    "\n",
    "### Das Ziel\n",
    "\n",
    "Ihr werdet ein Modell entwickeln, das vorhersagt:\n",
    "\n",
    "> **Wird eine Steckverbindung im Laufe der Belastungszyklen einen Widerstand von 300 mΩ überschreiten?**\n",
    "\n",
    "Diese Frage ist eine **binäre Klassifikation**, d. h. wir möchten eine Ja-/Nein-Aussage (1/0) treffen:\n",
    "\n",
    "* **Ja/1:** Der Widerstand wird irgendwann ≥ 300 mΩ.\n",
    "* **Nein/0:** Die Schwelle wird nie überschritten.\n",
    "\n",
    "### Der Datensatz\n",
    "\n",
    "Die Datei `Schwellenwerte-Table 1.csv` enthält pro Zeile eine Steckverbindung mit:\n",
    "\n",
    "* einem **Dateinamen** (`Datei`)\n",
    "* Angaben zu **Material und Prozessparametern**\n",
    "* Zyklenzahlen, bei denen bestimmte **Ohm-Schwellen überschritten wurden** (z. B. `Zyklus_300_mOhm`)\n",
    "\n",
    "  * Ein Wert von **0** bedeutet: Schwelle wurde **nicht** überschritten.\n",
    "  * Ein **NaN** bedeutet: Keine Messung oder keine Angabe vorhanden.\n",
    "\n",
    "\n",
    "## Aufgabe 1: Überblick verschaffen\n",
    "\n",
    "Lade die Datei `Schwellenwerte-Table 1.csv` mit `pandas` und verschaffe dir einen Überblick:\n",
    "\n",
    "* Gib die Form des DataFrames mit `.shape` aus\n",
    "* Zeige die ersten 5 Zeilen mit `.head()`\n",
    "* Liste die Spaltennamen auf\n",
    "* Gib eine Übersicht der statistischen Kenngrößen aus (max, min, std, mean, ...)"
   ]
  },
  {
   "cell_type": "code",
   "execution_count": 7,
   "id": "0feb6839",
   "metadata": {},
   "outputs": [
    {
     "name": "stdout",
     "output_type": "stream",
     "text": [
      "(99, 14)\n",
      "                                Datei Beschichtung_Ag_Sn Zwischenschicht_Ni  \\\n",
      "0    AgCu-200µm-1N-75000zyklen-V1.txt               Nein               Nein   \n",
      "1   AgCu-200µm-2.5N-6100zyklen-V1.txt               Nein               Nein   \n",
      "2  AgCu-200µm-2.5N-29000zyklen-V1.txt               Nein               Nein   \n",
      "3     AgCu-200µm-5N-3000zyklen-V1.txt               Nein               Nein   \n",
      "4    AgCu-200µm-5N-13000zyklen-V1.txt               Nein               Nein   \n",
      "\n",
      "   Normalkraft  Frequenz  Bewegungshub  Zyklus_1_mOhm  Zyklus_2_mOhm  \\\n",
      "0          1.0         1           200              0             16   \n",
      "1          2.5         1           200              0              0   \n",
      "2          2.5         1           200              0           6810   \n",
      "3          5.0         1           200              0             -1   \n",
      "4          5.0         1           200              0             -1   \n",
      "\n",
      "   Zyklus_5_mOhm  Zyklus_10_mOhm  Zyklus_20_mOhm  Zyklus_50_mOhm  \\\n",
      "0        15360.0           42482           50456           50729   \n",
      "1            0.0               0               0               0   \n",
      "2        24394.0           26294           26329           26776   \n",
      "3           -1.0              -1              -1              -1   \n",
      "4           -1.0              -1              -1              -1   \n",
      "\n",
      "   Zyklus_100_mOhm  Zyklus_300_mOhm  \n",
      "0            50967            51637  \n",
      "1                0                0  \n",
      "2            27980            28576  \n",
      "3               -1               -1  \n",
      "4               -1               -1  \n",
      "Index(['Datei', 'Beschichtung_Ag_Sn', 'Zwischenschicht_Ni', 'Normalkraft',\n",
      "       'Frequenz', 'Bewegungshub', 'Zyklus_1_mOhm', 'Zyklus_2_mOhm',\n",
      "       'Zyklus_5_mOhm', 'Zyklus_10_mOhm', 'Zyklus_20_mOhm', 'Zyklus_50_mOhm',\n",
      "       'Zyklus_100_mOhm', 'Zyklus_300_mOhm'],\n",
      "      dtype='object')\n",
      "       Normalkraft   Frequenz  Bewegungshub  Zyklus_1_mOhm  Zyklus_2_mOhm  \\\n",
      "count    99.000000  99.000000     99.000000      99.000000      99.000000   \n",
      "mean      2.454545   1.929293    112.121212      81.212121     445.262626   \n",
      "std       2.579443   0.257639     40.463456     286.453838    1087.835115   \n",
      "min       1.000000   1.000000    100.000000      -1.000000      -1.000000   \n",
      "25%       2.000000   2.000000    100.000000       0.000000       2.000000   \n",
      "50%       2.000000   2.000000    100.000000       0.000000       3.000000   \n",
      "75%       2.000000   2.000000    100.000000       4.000000     111.500000   \n",
      "max      20.000000   2.000000    400.000000    1538.000000    6810.000000   \n",
      "\n",
      "       Zyklus_5_mOhm  Zyklus_10_mOhm  Zyklus_20_mOhm  Zyklus_50_mOhm  \\\n",
      "count      98.000000       99.000000       99.000000       99.000000   \n",
      "mean     2561.826531     4353.989899     7594.151515     9083.090909   \n",
      "std      5286.412737     8931.732210    16030.835351    20405.901390   \n",
      "min        -1.000000       -1.000000       -1.000000       -1.000000   \n",
      "25%         6.000000       -0.500000       -1.000000       -1.000000   \n",
      "50%       189.000000      196.000000      264.000000       85.000000   \n",
      "75%      2328.000000     3369.500000     9485.500000     9474.000000   \n",
      "max     26338.000000    42482.000000    99172.000000   140330.000000   \n",
      "\n",
      "       Zyklus_100_mOhm  Zyklus_300_mOhm  \n",
      "count        99.000000        99.000000  \n",
      "mean      16553.909091     17775.929293  \n",
      "std       39371.567489     55885.538706  \n",
      "min          -1.000000        -1.000000  \n",
      "25%          -1.000000        -1.000000  \n",
      "50%          -1.000000        -1.000000  \n",
      "75%       13755.000000       786.500000  \n",
      "max      263514.000000    400292.000000  \n"
     ]
    }
   ],
   "source": [
    "### Importiere pandas\n",
    "import pandas as pd\n",
    "\n",
    "# Lade die CSV-Datei in einen DataFrame\n",
    "df = pd.read_csv('../Data/Schwellenwerte-Table 1.csv')\n",
    "\n",
    "# Zeige die Form des DataFrames, die ersten 5 Zeilen, die Spaltennamen und eine Übersicht der statistischen Kenngrößen an\n",
    "print(df.shape)\n",
    "\n",
    "# Zeige die ersten 5 Zeilen des DataFrames\n",
    "print(df.head())\n",
    "\n",
    "# Liste die Spaltennamen auf\n",
    "print(df.columns)\n",
    "\n",
    "# Gib eine Übersicht der statistischen Kenngrößen aus\n",
    "print(df.describe())\n"
   ]
  },
  {
   "cell_type": "markdown",
   "id": "a121432a",
   "metadata": {},
   "source": [
    "## Aufgabe 2: Fehlende Werte handlen und Datentypen überprüfen\n",
    "\n",
    "Untersuche die fehlenden Werte:\n",
    "* Gib die Anzahl der fehlenden Werte pro Spalte aus. Entscheide, was mit fehlenden Daten zu tun ist, falls sie existieren.\n",
    "* Ersetze dann alle Werte -1 durch `pd.NA`, um deutlich zu machen, dass der dazugehörige Widerstand nicht erreicht wurde.\n",
    "* Gib die Datentypen aller Spalten mit `.dtypes` aus."
   ]
  },
  {
   "cell_type": "code",
   "execution_count": 8,
   "id": "a1266d97",
   "metadata": {},
   "outputs": [
    {
     "name": "stdout",
     "output_type": "stream",
     "text": [
      "Datei                 0\n",
      "Beschichtung_Ag_Sn    0\n",
      "Zwischenschicht_Ni    0\n",
      "Normalkraft           0\n",
      "Frequenz              0\n",
      "Bewegungshub          0\n",
      "Zyklus_1_mOhm         0\n",
      "Zyklus_2_mOhm         0\n",
      "Zyklus_5_mOhm         1\n",
      "Zyklus_10_mOhm        0\n",
      "Zyklus_20_mOhm        0\n",
      "Zyklus_50_mOhm        0\n",
      "Zyklus_100_mOhm       0\n",
      "Zyklus_300_mOhm       0\n",
      "dtype: int64\n",
      "Datei                  object\n",
      "Beschichtung_Ag_Sn     object\n",
      "Zwischenschicht_Ni     object\n",
      "Normalkraft           float64\n",
      "Frequenz                int64\n",
      "Bewegungshub            int64\n",
      "Zyklus_1_mOhm         float64\n",
      "Zyklus_2_mOhm         float64\n",
      "Zyklus_5_mOhm         float64\n",
      "Zyklus_10_mOhm        float64\n",
      "Zyklus_20_mOhm        float64\n",
      "Zyklus_50_mOhm        float64\n",
      "Zyklus_100_mOhm       float64\n",
      "Zyklus_300_mOhm       float64\n",
      "dtype: object\n"
     ]
    }
   ],
   "source": [
    "import numpy as np\n",
    "\n",
    "# Untersuche die fehlenden Werte\n",
    "print(df.isna().sum())\n",
    "\n",
    "# Droppe die Reihe mit dem fehlenden Wert in der Spalte 'Zyklus_5_mOhm'\n",
    "df = df.dropna()\n",
    "\n",
    "# Ersetze alle Werte -1 durch pd.NA \n",
    "df.replace(-1, np.nan, inplace=True)\n",
    "\n",
    "# Zeige die Datentypen aller Spalten\n",
    "print(df.dtypes)"
   ]
  },
  {
   "cell_type": "code",
   "execution_count": 9,
   "id": "d4d39d8d",
   "metadata": {},
   "outputs": [
    {
     "name": "stdout",
     "output_type": "stream",
     "text": [
      "✅ Alle echten NaNs entfernt und -1 korrekt durch NaN ersetzt.\n",
      "<class 'pandas.core.frame.DataFrame'>\n",
      "Index: 98 entries, 0 to 98\n",
      "Data columns (total 14 columns):\n",
      " #   Column              Non-Null Count  Dtype  \n",
      "---  ------              --------------  -----  \n",
      " 0   Datei               98 non-null     object \n",
      " 1   Beschichtung_Ag_Sn  98 non-null     object \n",
      " 2   Zwischenschicht_Ni  98 non-null     object \n",
      " 3   Normalkraft         98 non-null     float64\n",
      " 4   Frequenz            98 non-null     int64  \n",
      " 5   Bewegungshub        98 non-null     int64  \n",
      " 6   Zyklus_1_mOhm       96 non-null     float64\n",
      " 7   Zyklus_2_mOhm       91 non-null     float64\n",
      " 8   Zyklus_5_mOhm       89 non-null     float64\n",
      " 9   Zyklus_10_mOhm      74 non-null     float64\n",
      " 10  Zyklus_20_mOhm      63 non-null     float64\n",
      " 11  Zyklus_50_mOhm      56 non-null     float64\n",
      " 12  Zyklus_100_mOhm     45 non-null     float64\n",
      " 13  Zyklus_300_mOhm     30 non-null     float64\n",
      "dtypes: float64(9), int64(2), object(3)\n",
      "memory usage: 11.5+ KB\n",
      "None\n"
     ]
    }
   ],
   "source": [
    "from scripts.checker import check_handling_missing_values\n",
    "\n",
    "check_handling_missing_values(df)"
   ]
  },
  {
   "cell_type": "markdown",
   "id": "0392d27d",
   "metadata": {},
   "source": [
    "## Aufgabe 3: Zielvariable erstellen\n",
    "\n",
    "Erstelle eine Spalte namens `target`, die wie folgt definiert ist:\n",
    "\n",
    "* **1**, wenn `Zyklus_300_mOhm` einen Wert größer als 0 enthält\n",
    "* **0**, wenn der Wert 0 oder NaN ist"
   ]
  },
  {
   "cell_type": "code",
   "execution_count": 10,
   "id": "46aef3c6",
   "metadata": {},
   "outputs": [],
   "source": [
    "df[\"target\"] = (df[\"Zyklus_300_mOhm\"] > 0).astype(int)"
   ]
  },
  {
   "cell_type": "code",
   "execution_count": 11,
   "id": "18966a96",
   "metadata": {},
   "outputs": [
    {
     "name": "stdout",
     "output_type": "stream",
     "text": [
      "✅ Zielvariable korrekt erstellt: \n",
      "     target\n",
      "0        1\n",
      "1        0\n",
      "2        1\n",
      "3        0\n",
      "4        0\n",
      "..     ...\n",
      "94       1\n",
      "95       0\n",
      "96       0\n",
      "97       0\n",
      "98       0\n",
      "\n",
      "[98 rows x 1 columns]\n"
     ]
    }
   ],
   "source": [
    "from scripts.checker import check_target_column\n",
    "check_target_column(df)"
   ]
  },
  {
   "cell_type": "markdown",
   "id": "061af044",
   "metadata": {},
   "source": [
    "## Aufgabe 4: One-Hot-Encoding und Standardisierung\n",
    "\n",
    "Bereite den Datensatz für das Modell vor:\n",
    "\n",
    "1. Wandle **kategorische Variablen** in numerische mit One-Hot-Encoding um\n",
    "2. Standardisiere **alle numerischen Features**, z. B. mit `StandardScaler` von scikit-learn\n",
    "3. Speichere die verarbeiteten Features in einer neuen Variable `X_processed`"
   ]
  },
  {
   "cell_type": "code",
   "execution_count": 12,
   "id": "c21b737c",
   "metadata": {},
   "outputs": [],
   "source": [
    "from sklearn.preprocessing import StandardScaler\n",
    "\n",
    "# Features\n",
    "features = [\"Beschichtung_Ag_Sn\", \"Zwischenschicht_Ni\", \"Normalkraft\", \"Frequenz\", \"Bewegungshub\", \"Zyklus_1_mOhm\", \"Zyklus_2_mOhm\", \"Zyklus_5_mOhm\", \"Zyklus_10_mOhm\", \"Zyklus_20_mOhm\", \"Zyklus_50_mOhm\", \"Zyklus_100_mOhm\", \"Zyklus_300_mOhm\"]\n",
    "\n",
    "# Nur relevante Features extrahieren\n",
    "X = df[features].copy()\n",
    "\n",
    "# One-Hot-Encoding für kategorische Variablen\n",
    "X_encoded = pd.get_dummies(X, columns=[\"Beschichtung_Ag_Sn\", \"Zwischenschicht_Ni\"], drop_first=True)\n",
    "\n",
    "# Standardisierung numerischer Spalten\n",
    "numerical_cols = [\"Normalkraft\", \"Frequenz\", \"Bewegungshub\", \"Zyklus_1_mOhm\", \"Zyklus_2_mOhm\", \"Zyklus_5_mOhm\", \"Zyklus_10_mOhm\", \"Zyklus_20_mOhm\", \"Zyklus_50_mOhm\", \"Zyklus_100_mOhm\", \"Zyklus_300_mOhm\"]\n",
    "scaler = StandardScaler()\n",
    "X_encoded[numerical_cols] = scaler.fit_transform(X_encoded[numerical_cols])\n",
    "\n",
    "# Fertige Matrix\n",
    "X_prepared = X_encoded\n"
   ]
  },
  {
   "cell_type": "code",
   "execution_count": 13,
   "id": "0b592844",
   "metadata": {},
   "outputs": [
    {
     "name": "stdout",
     "output_type": "stream",
     "text": [
      "   Normalkraft  Frequenz  Bewegungshub  Zyklus_1_mOhm  Zyklus_2_mOhm  \\\n",
      "0    -0.565788 -3.605551      2.169753      -0.289815      -0.418103   \n",
      "1     0.015826 -3.605551      2.169753      -0.289815      -0.432383   \n",
      "2     0.015826 -3.605551      2.169753      -0.289815       5.645553   \n",
      "3     0.985183 -3.605551      2.169753      -0.289815            NaN   \n",
      "4     0.985183 -3.605551      2.169753      -0.289815            NaN   \n",
      "\n",
      "   Zyklus_5_mOhm  Zyklus_10_mOhm  Zyklus_20_mOhm  Zyklus_50_mOhm  \\\n",
      "0       2.299795        3.720450        2.065106        1.396146   \n",
      "1      -0.517401       -0.591232       -0.639780       -0.646652   \n",
      "2       3.956731        2.077460        0.771686        0.431586   \n",
      "3            NaN             NaN             NaN             NaN   \n",
      "4            NaN             NaN             NaN             NaN   \n",
      "\n",
      "   Zyklus_100_mOhm  Zyklus_300_mOhm  Beschichtung_Ag_Sn_Nein  \\\n",
      "0         0.282468        -0.079533                     True   \n",
      "1        -0.707176        -0.664062                     True   \n",
      "2        -0.163879        -0.340583                     True   \n",
      "3              NaN              NaN                     True   \n",
      "4              NaN              NaN                     True   \n",
      "\n",
      "   Zwischenschicht_Ni_Nein  \n",
      "0                     True  \n",
      "1                     True  \n",
      "2                     True  \n",
      "3                     True  \n",
      "4                     True  \n"
     ]
    }
   ],
   "source": [
    "print(X_prepared.head())"
   ]
  },
  {
   "cell_type": "code",
   "execution_count": 14,
   "id": "cbac5dc0",
   "metadata": {},
   "outputs": [
    {
     "name": "stdout",
     "output_type": "stream",
     "text": [
      "✅ One-Hot-Encoding & Standardisierung korrekt!\n"
     ]
    }
   ],
   "source": [
    "from scripts.checker import check_preprocessing\n",
    "check_preprocessing(X_prepared)"
   ]
  },
  {
   "cell_type": "markdown",
   "id": "4c8269e3",
   "metadata": {},
   "source": [
    "## Aufgabe 5: Daten in Trainings- und Testmenge aufteilen\n",
    "\n",
    "Teile die Daten aus `X_prepared` und `df[\"target\"]` in Trainings- und Testdaten auf.\n",
    "\n",
    "Anforderungen:\n",
    "* 80 % Training, 20 % Test\n",
    "* Speichere die Arrays als:\n",
    "  - `X_train`, `X_test`\n",
    "  - `y_train`, `y_test`\n",
    "* Setze `random_state=42` für Reproduzierbarkeit"
   ]
  },
  {
   "cell_type": "code",
   "execution_count": null,
   "id": "78cdf6eb",
   "metadata": {},
   "outputs": [],
   "source": [
    "### Hier ist Platz für eure Lösung"
   ]
  },
  {
   "cell_type": "code",
   "execution_count": null,
   "id": "14fd0669",
   "metadata": {},
   "outputs": [],
   "source": [
    "### Überprüft eure Lösung\n",
    "from scripts.checker import check_split\n",
    "# check_split(<>Hier eure X_train, X_test, y_train, y_test einfügen<>)"
   ]
  },
  {
   "cell_type": "markdown",
   "id": "52b13d7c",
   "metadata": {},
   "source": [
    "## Aufgabe 6: Logistisches Regressionsmodell trainieren\n",
    "\n",
    "Trainiere ein logistisches Regressionsmodell auf den Trainingsdaten.\n",
    "\n",
    "Anforderungen:\n",
    "* Verwende `LogisticRegression` aus `sklearn.linear_model`\n",
    "* Speichere das Modell in einer Variable `model`\n",
    "* Trainiere mit `.fit(X_train, y_train)`"
   ]
  },
  {
   "cell_type": "code",
   "execution_count": null,
   "id": "eda2910a",
   "metadata": {},
   "outputs": [],
   "source": [
    "### Hier ist Platz für eure Lösung"
   ]
  },
  {
   "cell_type": "code",
   "execution_count": null,
   "id": "de25d0d0",
   "metadata": {},
   "outputs": [],
   "source": [
    "### Überprüft eure Lösung\n",
    "from scripts.checker import check_model_training\n",
    "# check_model_training(<>Hier euer model, X_train, y_train einfügen<>)"
   ]
  },
  {
   "cell_type": "markdown",
   "id": "7f456933",
   "metadata": {},
   "source": [
    "## Aufgabe 7: Scatterplot der Vorhersagen\n",
    "\n",
    "Visualisiere die Modellvorhersagen mithilfe eines Scatterplots:\n",
    "\n",
    "Schritte:\n",
    "1. Wähle zwei numerische Features, z. B. `Kontaktkraft_N` und `Steckzyklen`\n",
    "2. Plotte die Testdaten in diesen zwei Dimensionen\n",
    "3. Farbe: Nutze `model.predict(X_test)` als Farbe (0 oder 1)\n"
   ]
  },
  {
   "cell_type": "code",
   "execution_count": null,
   "id": "1cdd0c03",
   "metadata": {},
   "outputs": [],
   "source": [
    "### Hier ist Platz für eure Lösung"
   ]
  },
  {
   "cell_type": "markdown",
   "id": "a23cc602",
   "metadata": {},
   "source": [
    "## Aufgabe 8: Modell evaluieren\n",
    "\n",
    "Bewerte die Qualität deiner Vorhersagen auf dem Testdatensatz.\n",
    "\n",
    "Berechne folgende Metriken mit scikit-learn:\n",
    "\n",
    "- Accuracy\n",
    "- Precision\n",
    "- Recall\n",
    "- F1-Score\n",
    "- Confusion Matrix\n",
    "- ROC-AUC\n",
    "\n",
    "> Hinweis: Verwende `model.predict(X_test)` für die Klassenvorhersage und `model.predict_proba(X_test)[:, 1]` für Wahrscheinlichkeiten.\n",
    "\n",
    "Speichere die Vorhersagen in `y_pred` und die Wahrscheinlichkeiten in `y_prob`."
   ]
  },
  {
   "cell_type": "code",
   "execution_count": null,
   "id": "b28f53a7",
   "metadata": {},
   "outputs": [],
   "source": [
    "### Hier ist Platz für eure Lösung"
   ]
  },
  {
   "cell_type": "code",
   "execution_count": null,
   "id": "32b19d77",
   "metadata": {},
   "outputs": [],
   "source": [
    "### Überprüft eure Lösung\n",
    "from scripts.checker import check_metrics\n",
    "# check_metrics(<>Hier eure y_test, y_pred, y_prob einfügen<>)"
   ]
  },
  {
   "cell_type": "markdown",
   "id": "e0d61cf6",
   "metadata": {},
   "source": [
    "## Aufgabe 9: Interpretation der Feature-Gewichte\n",
    "\n",
    "Nutze die Koeffizienten des Modells, um zu verstehen, welche Features das Modell beeinflussen.\n",
    "\n",
    "Schritte:\n",
    "1. Erstelle ein DataFrame, das die Features (`X_prepared.columns`) den zugehörigen Koeffizienten (`model.coef_`) gegenüberstellt.\n",
    "2. Sortiere es nach der Stärke des Einflusses (positiv oder negativ).\n",
    "3. Stelle die Top-10 wichtigsten Features in einem Balkendiagramm dar.\n"
   ]
  },
  {
   "cell_type": "code",
   "execution_count": null,
   "id": "24a0c730",
   "metadata": {},
   "outputs": [],
   "source": [
    "### Hier ist Platz für eure Lösung"
   ]
  },
  {
   "cell_type": "code",
   "execution_count": null,
   "id": "505df83a",
   "metadata": {},
   "outputs": [],
   "source": [
    "### Überprüft eure Lösung\n",
    "from scripts.checker import check_coefficients\n",
    "# check_coefficients(<>Hier euer model, X_prepared einfügen<>)"
   ]
  }
 ],
 "metadata": {
  "kernelspec": {
   "display_name": "scvenv",
   "language": "python",
   "name": "scvenv"
  },
  "language_info": {
   "codemirror_mode": {
    "name": "ipython",
    "version": 3
   },
   "file_extension": ".py",
   "mimetype": "text/x-python",
   "name": "python",
   "nbconvert_exporter": "python",
   "pygments_lexer": "ipython3",
   "version": "3.13.1"
  }
 },
 "nbformat": 4,
 "nbformat_minor": 5
}
