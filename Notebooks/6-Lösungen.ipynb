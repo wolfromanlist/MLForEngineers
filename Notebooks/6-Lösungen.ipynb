{
 "cells": [
  {
   "cell_type": "markdown",
   "id": "76a39480",
   "metadata": {},
   "source": [
    "# Projekt\n",
    "\n",
    "## 1. Zielsetzung und Datenverständnis\n",
    "\n",
    "In diesem Projekt wenden wir die Konzepte aus den vorherigen Notebooks auf einen echten Datensatz an. Ziel ist es, mithilfe der bisher erlernten Methoden ein einfaches maschinelles Lernmodell zu entwickeln, das auf Basis physikalischer und materialtechnischer Eigenschaften vorhersagen kann, ob eine Steckverbindung im Laufe der Zeit einen kritischen Widerstand überschreiten wird.\n",
    "\n",
    "### Der Kontext\n",
    "\n",
    "Steckverbindungen sind essenzielle Bauteile in vielen technischen Systemen – von der Automobilindustrie bis zur Elektronikfertigung. Mit der Zeit und unter Belastung (z. B. durch Vibration oder Temperaturwechsel) kann der elektrische Kontaktwiderstand steigen. Überschreitet er einen bestimmten Schwellenwert (meist 300 mΩ), gilt die Verbindung typischerweise als defekt.\n",
    "\n",
    "Der vorliegende Datensatz enthält Informationen zu mehreren Steckverbindungen, darunter:\n",
    "\n",
    "* **Materialeigenschaften** wie die Art der Beschichtung (Silber, Zinn) oder das Vorhandensein einer Zwischenschicht (Nickel),\n",
    "* **Prozessparameter** wie Normalkraft, Frequenz und Bewegungshub,\n",
    "* sowie die **Zyklenzahl**, bei der ein bestimmter Widerstandsschwellenwert (z. B. 1 mΩ, 20 mΩ, …, 300 mΩ) erstmals überschritten wurde – falls überhaupt.\n",
    "\n",
    "### Das Ziel\n",
    "\n",
    "Ihr werdet ein Modell entwickeln, das vorhersagt:\n",
    "\n",
    "> **Wird eine Steckverbindung im Laufe der Belastungszyklen einen Widerstand von 300 mΩ überschreiten?**\n",
    "\n",
    "Diese Frage ist eine **binäre Klassifikation**, d. h. wir möchten eine Ja-/Nein-Aussage (1/0) treffen:\n",
    "\n",
    "* **Ja/1:** Der Widerstand wird irgendwann ≥ 300 mΩ.\n",
    "* **Nein/0:** Die Schwelle wird nie überschritten.\n",
    "\n",
    "### Der Datensatz\n",
    "\n",
    "Die Datei `Schwellenwerte-Table 1.csv` enthält pro Zeile eine Steckverbindung mit:\n",
    "\n",
    "* einem **Dateinamen** (`Datei`)\n",
    "* Angaben zu **Material und Prozessparametern**\n",
    "* Zyklenzahlen, bei denen bestimmte **Ohm-Schwellen überschritten wurden** (z. B. `Zyklus_300_mOhm`)\n",
    "\n",
    "  * Ein Wert von **0** bedeutet: Schwelle wurde **nicht** überschritten.\n",
    "  * Ein **NaN** bedeutet: Keine Messung oder keine Angabe vorhanden.\n",
    "\n",
    "\n",
    "## Aufgabe 1: Überblick verschaffen\n",
    "\n",
    "Lade die Datei `Schwellenwerte-Table 1.csv` mit `pandas` und verschaffe dir einen Überblick:\n",
    "\n",
    "* Gib die Form des DataFrames mit `.shape` aus\n",
    "* Zeige die ersten 5 Zeilen mit `.head()`\n",
    "* Liste die Spaltennamen auf\n",
    "* Gib eine Übersicht der statistischen Kenngrößen aus (max, min, std, mean, ...)"
   ]
  },
  {
   "cell_type": "code",
   "execution_count": null,
   "id": "0feb6839",
   "metadata": {},
   "outputs": [
    {
     "name": "stdout",
     "output_type": "stream",
     "text": [
      "                                Datei  Beschichtung_Ag_Sn  Zwischenschicht_Ni  \\\n",
      "0    AgCu-200µm-1N-75000zyklen-V1.txt                   0                   0   \n",
      "1   AgCu-200µm-2.5N-6100zyklen-V1.txt                   0                   0   \n",
      "2  AgCu-200µm-2.5N-29000zyklen-V1.txt                   0                   0   \n",
      "3     AgCu-200µm-5N-3000zyklen-V1.txt                   0                   0   \n",
      "4    AgCu-200µm-5N-13000zyklen-V1.txt                   0                   0   \n",
      "\n",
      "   Normalkraft  Frequenz  Bewegungshub Zyklus_1_mOhm Zyklus_2_mOhm  \\\n",
      "0          1.0         1           200             0            16   \n",
      "1          2.5         1           200             0             0   \n",
      "2          2.5         1           200             0          6810   \n",
      "3          5.0         1           200             0        np.nan   \n",
      "4          5.0         1           200             0        np.nan   \n",
      "\n",
      "  Zyklus_5_mOhm Zyklus_10_mOhm Zyklus_20_mOhm Zyklus_50_mOhm Zyklus_100_mOhm  \\\n",
      "0         15360          42482          50456          50729           50967   \n",
      "1             0              0              0              0               0   \n",
      "2         24394          26294          26329          26776           27980   \n",
      "3        np.nan         np.nan         np.nan         np.nan          np.nan   \n",
      "4        np.nan         np.nan         np.nan         np.nan          np.nan   \n",
      "\n",
      "  label_Zyklus_300_mOhm  \n",
      "0                 51637  \n",
      "1                     0  \n",
      "2                 28576  \n",
      "3                np.nan  \n",
      "4                np.nan  \n",
      "(99, 14)\n",
      "Index(['Datei', 'Beschichtung_Ag_Sn', 'Zwischenschicht_Ni', 'Normalkraft',\n",
      "       'Frequenz', 'Bewegungshub', 'Zyklus_1_mOhm', 'Zyklus_2_mOhm',\n",
      "       'Zyklus_5_mOhm', 'Zyklus_10_mOhm', 'Zyklus_20_mOhm', 'Zyklus_50_mOhm',\n",
      "       'Zyklus_100_mOhm', 'label_Zyklus_300_mOhm'],\n",
      "      dtype='object')\n",
      "       Beschichtung_Ag_Sn  Zwischenschicht_Ni  Normalkraft   Frequenz  \\\n",
      "count           99.000000           99.000000    99.000000  99.000000   \n",
      "mean             0.161616            0.626263     2.454545   1.929293   \n",
      "std              0.369972            0.486257     2.579443   0.257639   \n",
      "min              0.000000            0.000000     1.000000   1.000000   \n",
      "25%              0.000000            0.000000     2.000000   2.000000   \n",
      "50%              0.000000            1.000000     2.000000   2.000000   \n",
      "75%              0.000000            1.000000     2.000000   2.000000   \n",
      "max              1.000000            1.000000    20.000000   2.000000   \n",
      "\n",
      "       Bewegungshub  \n",
      "count     99.000000  \n",
      "mean     112.121212  \n",
      "std       40.463456  \n",
      "min      100.000000  \n",
      "25%      100.000000  \n",
      "50%      100.000000  \n",
      "75%      100.000000  \n",
      "max      400.000000  \n"
     ]
    }
   ],
   "source": [
    "### Importiere pandas\n",
    "import pandas as pd\n",
    "\n",
    "# Lade die CSV-Datei in einen DataFrame\n",
    "df = pd.read_csv('../Data/Schwellenwerte-Table 1.csv')\n",
    "\n",
    "# Zeige die Form des DataFrames, die ersten 5 Zeilen, die Spaltennamen und eine Übersicht der statistischen Kenngrößen an\n",
    "print(df.shape)\n",
    "\n",
    "# Zeige die ersten 5 Zeilen des DataFrames\n",
    "print(df.head())\n",
    "\n",
    "# Liste die Spaltennamen auf\n",
    "print(df.columns)\n",
    "\n",
    "# Gib eine Übersicht der statistischen Kenngrößen aus\n",
    "print(df.describe())\n"
   ]
  },
  {
   "cell_type": "markdown",
   "id": "a121432a",
   "metadata": {},
   "source": [
    "## Aufgabe 2: Fehlende Werte handlen und Datentypen überprüfen\n",
    "\n",
    "Untersuche die fehlenden Werte:\n",
    "\n",
    "* Gib die Anzahl der fehlenden Werte pro Spalte aus.\n",
    "* Achte besonders auf die Spalten `Zyklus_300_mOhm`, `Zyklus_20_mOhm` etc.\n",
    "* Gib die Datentypen aller Spalten mit `.dtypes` aus."
   ]
  },
  {
   "cell_type": "code",
   "execution_count": null,
   "id": "a1266d97",
   "metadata": {},
   "outputs": [],
   "source": [
    "### Hier ist Platz für eure Lösung"
   ]
  },
  {
   "cell_type": "code",
   "execution_count": null,
   "id": "d4d39d8d",
   "metadata": {},
   "outputs": [],
   "source": [
    "### Überprüft eure Lösung\n",
    "from scripts.checker import check_missing_and_types\n",
    "\n",
    "#check_missing_and_types(<>Hier euren DataFrame einfügen<>)"
   ]
  },
  {
   "cell_type": "markdown",
   "id": "0392d27d",
   "metadata": {},
   "source": [
    "## Aufgabe 3: Zielvariable erstellen\n",
    "\n",
    "Erstelle eine Spalte namens `target`, die wie folgt definiert ist:\n",
    "\n",
    "* **1**, wenn `Zyklus_300_mOhm` einen Wert größer als 0 enthält\n",
    "* **0**, wenn der Wert 0 oder NaN ist"
   ]
  },
  {
   "cell_type": "code",
   "execution_count": null,
   "id": "46aef3c6",
   "metadata": {},
   "outputs": [],
   "source": [
    "### Hier ist Platz für eure Lösung"
   ]
  },
  {
   "cell_type": "code",
   "execution_count": null,
   "id": "18966a96",
   "metadata": {},
   "outputs": [],
   "source": [
    "# Überprüft eure Lösung\n",
    "from scripts.checker import check_target_column\n",
    "# check_target_column(<>Hier euren DataFrame einfügen<>)"
   ]
  },
  {
   "cell_type": "markdown",
   "id": "061af044",
   "metadata": {},
   "source": [
    "## Aufgabe 4: One-Hot-Encoding und Standardisierung\n",
    "\n",
    "Bereite den Datensatz für das Modell vor:\n",
    "\n",
    "1. Wandle **kategorische Variablen** in numerische mit One-Hot-Encoding um\n",
    "2. Standardisiere **alle numerischen Features**, z. B. mit `StandardScaler` von scikit-learn\n",
    "3. Speichere die verarbeiteten Features in einer neuen Variable `X_processed`"
   ]
  },
  {
   "cell_type": "code",
   "execution_count": null,
   "id": "c21b737c",
   "metadata": {},
   "outputs": [],
   "source": [
    "### Hier ist Platz für eure Lösung"
   ]
  },
  {
   "cell_type": "code",
   "execution_count": null,
   "id": "cbac5dc0",
   "metadata": {},
   "outputs": [],
   "source": [
    "### Überprüft eure Lösung\n",
    "from scripts.checker import check_preprocessing\n",
    "# check_preprocessing(<>Hier euer X_processed einfügen<>)"
   ]
  },
  {
   "cell_type": "markdown",
   "id": "4c8269e3",
   "metadata": {},
   "source": [
    "## Aufgabe 5: Daten in Trainings- und Testmenge aufteilen\n",
    "\n",
    "Teile die Daten aus `X_prepared` und `df[\"target\"]` in Trainings- und Testdaten auf.\n",
    "\n",
    "Anforderungen:\n",
    "* 80 % Training, 20 % Test\n",
    "* Speichere die Arrays als:\n",
    "  - `X_train`, `X_test`\n",
    "  - `y_train`, `y_test`\n",
    "* Setze `random_state=42` für Reproduzierbarkeit"
   ]
  },
  {
   "cell_type": "code",
   "execution_count": null,
   "id": "78cdf6eb",
   "metadata": {},
   "outputs": [],
   "source": [
    "### Hier ist Platz für eure Lösung"
   ]
  },
  {
   "cell_type": "code",
   "execution_count": null,
   "id": "14fd0669",
   "metadata": {},
   "outputs": [],
   "source": [
    "### Überprüft eure Lösung\n",
    "from scripts.checker import check_split\n",
    "# check_split(<>Hier eure X_train, X_test, y_train, y_test einfügen<>)"
   ]
  },
  {
   "cell_type": "markdown",
   "id": "52b13d7c",
   "metadata": {},
   "source": [
    "## Aufgabe 6: Logistisches Regressionsmodell trainieren\n",
    "\n",
    "Trainiere ein logistisches Regressionsmodell auf den Trainingsdaten.\n",
    "\n",
    "Anforderungen:\n",
    "* Verwende `LogisticRegression` aus `sklearn.linear_model`\n",
    "* Speichere das Modell in einer Variable `model`\n",
    "* Trainiere mit `.fit(X_train, y_train)`"
   ]
  },
  {
   "cell_type": "code",
   "execution_count": null,
   "id": "eda2910a",
   "metadata": {},
   "outputs": [],
   "source": [
    "### Hier ist Platz für eure Lösung"
   ]
  },
  {
   "cell_type": "code",
   "execution_count": null,
   "id": "de25d0d0",
   "metadata": {},
   "outputs": [],
   "source": [
    "### Überprüft eure Lösung\n",
    "from scripts.checker import check_model_training\n",
    "# check_model_training(<>Hier euer model, X_train, y_train einfügen<>)"
   ]
  },
  {
   "cell_type": "markdown",
   "id": "7f456933",
   "metadata": {},
   "source": [
    "## Aufgabe 7: Scatterplot der Vorhersagen\n",
    "\n",
    "Visualisiere die Modellvorhersagen mithilfe eines Scatterplots:\n",
    "\n",
    "Schritte:\n",
    "1. Wähle zwei numerische Features, z. B. `Kontaktkraft_N` und `Steckzyklen`\n",
    "2. Plotte die Testdaten in diesen zwei Dimensionen\n",
    "3. Farbe: Nutze `model.predict(X_test)` als Farbe (0 oder 1)\n"
   ]
  },
  {
   "cell_type": "code",
   "execution_count": null,
   "id": "1cdd0c03",
   "metadata": {},
   "outputs": [],
   "source": [
    "### Hier ist Platz für eure Lösung"
   ]
  },
  {
   "cell_type": "markdown",
   "id": "a23cc602",
   "metadata": {},
   "source": [
    "## Aufgabe 8: Modell evaluieren\n",
    "\n",
    "Bewerte die Qualität deiner Vorhersagen auf dem Testdatensatz.\n",
    "\n",
    "Berechne folgende Metriken mit scikit-learn:\n",
    "\n",
    "- Accuracy\n",
    "- Precision\n",
    "- Recall\n",
    "- F1-Score\n",
    "- Confusion Matrix\n",
    "- ROC-AUC\n",
    "\n",
    "> Hinweis: Verwende `model.predict(X_test)` für die Klassenvorhersage und `model.predict_proba(X_test)[:, 1]` für Wahrscheinlichkeiten.\n",
    "\n",
    "Speichere die Vorhersagen in `y_pred` und die Wahrscheinlichkeiten in `y_prob`."
   ]
  },
  {
   "cell_type": "code",
   "execution_count": null,
   "id": "b28f53a7",
   "metadata": {},
   "outputs": [],
   "source": [
    "### Hier ist Platz für eure Lösung"
   ]
  },
  {
   "cell_type": "code",
   "execution_count": null,
   "id": "32b19d77",
   "metadata": {},
   "outputs": [],
   "source": [
    "### Überprüft eure Lösung\n",
    "from scripts.checker import check_metrics\n",
    "# check_metrics(<>Hier eure y_test, y_pred, y_prob einfügen<>)"
   ]
  },
  {
   "cell_type": "markdown",
   "id": "e0d61cf6",
   "metadata": {},
   "source": [
    "## Aufgabe 9: Interpretation der Feature-Gewichte\n",
    "\n",
    "Nutze die Koeffizienten des Modells, um zu verstehen, welche Features das Modell beeinflussen.\n",
    "\n",
    "Schritte:\n",
    "1. Erstelle ein DataFrame, das die Features (`X_prepared.columns`) den zugehörigen Koeffizienten (`model.coef_`) gegenüberstellt.\n",
    "2. Sortiere es nach der Stärke des Einflusses (positiv oder negativ).\n",
    "3. Stelle die Top-10 wichtigsten Features in einem Balkendiagramm dar.\n"
   ]
  },
  {
   "cell_type": "code",
   "execution_count": null,
   "id": "24a0c730",
   "metadata": {},
   "outputs": [],
   "source": [
    "### Hier ist Platz für eure Lösung"
   ]
  },
  {
   "cell_type": "code",
   "execution_count": null,
   "id": "505df83a",
   "metadata": {},
   "outputs": [],
   "source": [
    "### Überprüft eure Lösung\n",
    "from scripts.checker import check_coefficients\n",
    "# check_coefficients(<>Hier euer model, X_prepared einfügen<>)"
   ]
  }
 ],
 "metadata": {
  "kernelspec": {
   "display_name": "scvenv",
   "language": "python",
   "name": "scvenv"
  },
  "language_info": {
   "codemirror_mode": {
    "name": "ipython",
    "version": 3
   },
   "file_extension": ".py",
   "mimetype": "text/x-python",
   "name": "python",
   "nbconvert_exporter": "python",
   "pygments_lexer": "ipython3",
   "version": "3.13.1"
  }
 },
 "nbformat": 4,
 "nbformat_minor": 5
}
