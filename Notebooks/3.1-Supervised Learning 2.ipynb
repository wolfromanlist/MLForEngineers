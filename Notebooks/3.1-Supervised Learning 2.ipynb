{
 "cells": [
  {
   "cell_type": "markdown",
   "id": "778ef712",
   "metadata": {},
   "source": [
    "# Supervised Learning II – Klassifikation mit Logistischer Regression & Random Forests\n",
    "\n",
    "## Lernziele\n",
    "\n",
    "Am Ende dieses Notebooks kannst du:\n",
    "\n",
    "* den Unterschied zwischen Regressions- und Klassifikationsproblemen erklären,\n",
    "* Klassifikationsmodelle mit Scikit-learn trainieren und bewerten,\n",
    "* die logistische Regression und Random Forests anwenden und vergleichen,\n",
    "* gängige Metriken zur Evaluation von Klassifikationsmodellen interpretieren,\n",
    "* entscheiden, welcher Klassifikator für ein gegebenes Problem geeignet ist."
   ]
  }
 ],
 "metadata": {
  "language_info": {
   "name": "python"
  }
 },
 "nbformat": 4,
 "nbformat_minor": 5
}
