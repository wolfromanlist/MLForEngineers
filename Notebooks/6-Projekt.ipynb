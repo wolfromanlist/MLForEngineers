{
 "cells": [
  {
   "cell_type": "markdown",
   "id": "22fba655",
   "metadata": {},
   "source": [
    "# Projekt\n",
    "\n",
    "## 1. Zielsetzung und Datenverständnis\n",
    "\n",
    "In diesem Projekt wendet ihr selbst alle Konzepte aus den vorherigen Notebooks auf einen echten Datensatz an. Ziel ist es, mithilfe der bisher erlernten Methoden ein maschinelles Lernmodell zu entwickeln, das auf Basis physikalischer und materialtechnischer Eigenschaften vorhersagen kann, ob ein bestimmtes Ereignis eintritt. Darüber hinaus werden wir nicht nur vorhersagen können, **ob** ein Ereignis eintritt, sondern auch **wann** dies voraussichtlich geschieht.\n",
    "Dabei werdet ihr vom Preprocessing, über Visualisierung und Feature-Engineering bis hin zur Evaluation eures fertigen Modells alles bisher Gelerntes anwenden und vertiefen.\n",
    "\n",
    "### Anmerkungen zur Bewertung/Benotung\n",
    "\n",
    "TODO\n",
    "\n",
    "### Der Kontext\n",
    "\n",
    "Steckverbindungen sind essenzielle Bauteile in vielen technischen Systemen – von der Automobilindustrie bis zur Elektronikfertigung. Mit der Zeit und unter Belastung (z. B. durch Vibration oder Temperaturwechsel) kann der elektrische Kontaktwiderstand steigen. Überschreitet er einen bestimmten Schwellenwert (meist 300 mΩ), gilt die Verbindung typischerweise als defekt.\n",
    "\n",
    "Der vorliegende Datensatz enthält Informationen zu mehreren Steckverbindungen, die einem Experiment unterzogen wurden, in dem Steckvorgänge zyklisch simuliert wurden. Darunter findet ihr:\n",
    "\n",
    "* **Materialeigenschaften** wie die Art der Beschichtung (Silber, Zinn) oder das Vorhandensein einer Zwischenschicht (Nickel),\n",
    "* **Prozessparameter** wie Normalkraft, Frequenz und Bewegungshub,\n",
    "* sowie die **Zyklenzahl**, bei der ein bestimmter Widerstandsschwellenwert (z. B. 1 mΩ, 20 mΩ, …, 300 mΩ) erstmals überschritten wurde – falls überhaupt.\n",
    "\n",
    "Im Experiment wurden die Steckverbindungen unter bekannter Normalkraft, Frequenz und Hub zyklisch der Steckbelastung (Einstecken und Ausstecken) unterzogen. Die Zyklenanzahl war vorher fest definiert und richtete sich nach der durchschnittlich zu erwartenden Zahl an Steckvorgängen, die im Leben einer Steckverbindung zu erwarten ist. Eine Überschreitung des Schwellenwerts von 300 mΩ während des Experiments heißt also, dass diese Verbindung in der Realität ebenfalls wahrscheinlich defekt geworden wäre. Wir wollen diese Daten nun folgendermaßen nutzen:\n",
    "\n",
    "### Das Ziel\n",
    "\n",
    "Ihr werdet ein **zweistufiges Modell** entwickeln:\n",
    "\n",
    "1. **Klassifikation**:\n",
    "   Vorhersage, ob eine Steckverbindung **überhaupt** den Schwellenwert von 300 mΩ überschreiten wird, basierend auf rein physikalischen Features.\n",
    "   → Features: Beschichtung, Zwischenschicht, Normalkraft, Frequenz und Hub\n",
    "   → Zielgröße: *Ja (1)* oder *Nein (0)*\n",
    "\n",
    "2. **Regression** (für die vorhergesagten \"Ja\"-Fälle):\n",
    "   Schätzung, **nach wie vielen Belastungszyklen** der Widerstand von 300 mΩ erreicht wird, basierend auf der gemessenen Zyklenanzahl während des Experiments.\n",
    "   → Features: Zyklus_bei_1mOhm, Zyklus_bei_2mOhm, Zyklus_bei_5mOhm, ..., Zyklus_bei_300mOhm\n",
    "   → Zielgröße: *Zyklenanzahl*\n",
    "\n",
    "Diese Kombination ermöglicht es, zunächst risikobehaftete Steckverbindungen zu identifizieren und anschließend genauer abzuschätzen, wann voraussichtlich ein kritischer Zustand eintritt, um gezielt Wartungsarbeiten einzuleiten.\n",
    "\n",
    "### Der Datensatz\n",
    "\n",
    "Die Datei `Schwellenwerte-Table 1.csv` enthält pro Zeile eine Steckverbindung mit:\n",
    "\n",
    "* einem **Dateinamen** (`Datei`)\n",
    "* Angaben zu **Material und Prozessparametern**\n",
    "* Zyklenzahlen, bei denen bestimmte **Ohm-Schwellen überschritten wurden** (z. B. `Zyklus_bei_300_mOhm`)\n",
    "\n",
    "  * Ein Wert von **-1** bedeutet: Schwelle wurde **nicht** überschritten.\n",
    "\n",
    "## Aufgabe 1: Überblick verschaffen\n",
    "\n",
    "Lade die Datei `Schwellenwerte-Table 1.csv` mit `pandas` ein und speichere die Daten in einem DataFrame namens `df`. Verschaffe dir einen Überblick:\n",
    "\n",
    "* Gib die Form des DataFrames mit `.shape` aus\n",
    "* Zeige die ersten 5 Zeilen mit `.head()`\n",
    "* Liste die Spaltennamen auf\n",
    "* Gib eine Übersicht der statistischen Kenngrößen aus (max, min, std, mean, ...)"
   ]
  },
  {
   "cell_type": "code",
   "execution_count": 1,
   "id": "0feb6839",
   "metadata": {},
   "outputs": [],
   "source": [
    "### Hier ist Platz für eure Lösung"
   ]
  },
  {
   "cell_type": "markdown",
   "id": "5fc1e909",
   "metadata": {},
   "source": [
    "## Aufgabe 2: Erste Visualisierungen – Muster in den Daten erkennen\n",
    "\n",
    "Ein gutes Machine-Learning-Modell beginnt mit einem tiefen Verständnis für die Daten. In dieser Aufgabe wirst du verschiedene Visualisierungen erstellen, um ein Gefühl für die Verteilung, Streuung und Struktur der wichtigsten Merkmale im Datensatz zu bekommen.\n",
    "\n",
    "### Hinweise\n",
    "\n",
    "* Nutze `matplotlib` oder `seaborn`.\n",
    "* Alle Plots sollten **sinnvoll beschriftet** sein (Achsen, Titel).\n",
    "* Du musst an dieser Stelle **noch keine neuen Spalten erstellen**, sondern nur die bestehenden visualisieren.\n",
    "* Versuche, alle Plots übersichtlich und interpretierbar zu gestalten.\n",
    "\n",
    "### 2.1: Wie viele Steckverbindungen erreichen die einzelnen Schwellenwerte?\n",
    "\n",
    "Untersuche für jede Widerstandsschwelle, **wie viele Steckverbindungen diesen Wert im Experiment erreicht haben**.\n",
    "\n",
    "*Hinweis:* Die Spalten `Zyklus_bei_1_mOhm`, `Zyklus_bei_20_mOhm`, ..., `Zyklus_bei_300_mOhm` geben an, nach wie vielen Zyklen der jeweilige Schwellenwert überschritten wurde. Ein Wert von `-1` bedeutet: **nicht erreicht**.\n",
    "\n",
    "**Plot:** Erstelle dann ein **Balkendiagramm**, das die Anzahl der Steckverbindungen zeigt, die den Schwellenwert erreicht haben.\n",
    "* Zähle dafür für jede dieser Spalten, wie viele Steckverbindungen einen gültigen Zyklenwert (≠ –1) enthalten.\n",
    "* Stelle diese Werte als Balkendiagramm dar.\n",
    "\n",
    "> Ziel: Ein erster Eindruck zur Verteilung der erreichten Schwellwerte und über das Verhältnis von „defekt“ (300 mOhm erreicht) zu „nicht defekt“.\n"
   ]
  },
  {
   "cell_type": "code",
   "execution_count": 2,
   "id": "cf6dc732",
   "metadata": {},
   "outputs": [],
   "source": [
    "### Hier ist Platz für eure Lösung"
   ]
  },
  {
   "cell_type": "markdown",
   "id": "4be705a1",
   "metadata": {},
   "source": [
    "### 2.2. Verteilung der numerischen physikalischen Merkmale untersuchen\n",
    "\n",
    "   Analysiere die Verteilung der zentralen numerischen Eingangsgrößen:\n",
    "\n",
    "   * `Normalkraft`\n",
    "   * `Frequenz`\n",
    "   * `Bewegungshub`\n",
    "\n",
    "   **Plot:** Erstelle für jede dieser Spalten ein **Histogramm**.\n",
    "\n",
    "   > Ziel: Gibt es auffällige Ausreißer? Gibt es dominante Wertebereiche? Welche Kombinationen der Features sind am wahrscheinlichsten?"
   ]
  },
  {
   "cell_type": "code",
   "execution_count": 3,
   "id": "ad12f826",
   "metadata": {},
   "outputs": [],
   "source": [
    "### Hier ist Platz für eure Lösung"
   ]
  },
  {
   "cell_type": "markdown",
   "id": "6bc39cea",
   "metadata": {},
   "source": [
    "### 2.3. Zyklenanzahlen beim Überschreiten der Schwellenwerte untersuchen\n",
    "\n",
    "   Die Spalten `Zyklus_bei_1_mOhm`, `Zyklus_bei_20_mOhm`, ..., `Zyklus_bei_300_mOhm` enthalten die Zyklenzahlen, bei denen bestimmte Schwellenwerte überschritten wurden oder `-1`, wenn das nie passiert ist.\n",
    "\n",
    "   **Schritte:**\n",
    "   * Erstelle eine Kopie deines DataFrames namens `df_visual`.\n",
    "   * Ersetze in der Kopie alle `-1`-Werte durch `np.nan`, damit matplotlib/seaborn sie als „fehlend“ behandelt.\n",
    "   * Erstelle für die obigen Spalten einen **horizontalen Boxplot**, um zu analysieren:\n",
    "\n",
    "     * Nach wie vielen Zyklen werden die Schwellen erreicht?\n",
    "\n",
    "     * Wie groß ist die Streuung?\n",
    "\n",
    "   > Ziel: Ein Gespür für die Streuung und die Zeitpunkte des Ausfalls über verschiedene Widerstandsschwellen hinweg bekommen."
   ]
  },
  {
   "cell_type": "code",
   "execution_count": 4,
   "id": "a9787c9f",
   "metadata": {},
   "outputs": [],
   "source": [
    "### Hier ist Platz für eure Lösung"
   ]
  },
  {
   "cell_type": "markdown",
   "id": "a121432a",
   "metadata": {},
   "source": [
    "## Aufgabe 3: Preprocessing\n",
    "In dieser Aufgabe soll der Datensatz sowohl für die Klassifikation als auch für die Regression vorbereitet werden. Ihr werdet entscheiden, wie mit fehlenden Werten umzugehen ist, Zielvariablen erstellen, standardisieren, one-hot-encoden und einen Train-Test-Split erstellen.\n",
    "\n",
    "\n",
    "### 3.1. Fehlende Werte\n",
    "* Identifiziert alle Spalten in eurem originalen DataFrame `df`, die fehlende Werte beinhalten. Was sollte mit diesen Datenpunkten geschehen? Entscheidet euch, ob ihr fehlende Werte ersetzt oder Zeilen mit fehlenden Werten ausschließt."
   ]
  },
  {
   "cell_type": "code",
   "execution_count": 5,
   "id": "a1266d97",
   "metadata": {},
   "outputs": [],
   "source": [
    "### Hier ist Platz für eure Lösung"
   ]
  },
  {
   "cell_type": "markdown",
   "id": "8d29fb2a",
   "metadata": {},
   "source": [
    "### 3.2. Zielvariablen erstellen\n",
    "\n",
    "* Für die **Klassifikation** benötigen wir eine Zielspalte, die angibt, _ob_ die 300 mOhm überschritten wurden oder nicht. Erstelle eine Spalte namens `target`, die wie folgt definiert ist:\n",
    "    * **1**, wenn `Zyklus_300_mOhm` einen Wert größer als 0 enthält\n",
    "    * **0**, wenn der Wert -1 ist\n",
    "* Die Klassifikationszielvariable ist erstellt. Für die **Regression** ist die Zielvariable die _Zyklenanzahl_, bei der die 300 mOhm-Schwelle überschritten wird. Um später die Verarbeitung der Spalte `Zyklus_bei_300_mOhm` zu erleichtern, ersetzt alle Einträge `-1` durch `np.nan`."
   ]
  },
  {
   "cell_type": "code",
   "execution_count": 6,
   "id": "d6a577c0",
   "metadata": {},
   "outputs": [],
   "source": [
    "### Hier ist Platz für eure Lösung"
   ]
  },
  {
   "cell_type": "markdown",
   "id": "0392d27d",
   "metadata": {},
   "source": [
    "### 3.3. Überflüssige Werte?\n",
    "* Entscheidet euch, ob die Spalte `Datei` für das Training der zwei Modelle relevant ist, oder ob sie ignoriert und gedroppt werden sollte.\n",
    "* Entscheidet euch, ob die Spalten `Zyklus_bei_1_mOhm` bis `Zyklus_bei_100_mOhm` für das Training der zwei Modelle relevant sind, oder ob sie ignoriert und gedroppt werden sollten.\n",
    "* Begründet eure Entscheidungen und setzt sie ggf. um."
   ]
  },
  {
   "cell_type": "code",
   "execution_count": 7,
   "id": "46aef3c6",
   "metadata": {},
   "outputs": [],
   "source": [
    "### Hier ist Platz für eure Lösung"
   ]
  },
  {
   "cell_type": "markdown",
   "id": "1c7e76e3",
   "metadata": {},
   "source": [
    "### 3.4. One-Hot-Encoding und Standardisierung\n",
    "Bereite den Datensatz für das Training der Modelle vor:\n",
    "\n",
    "1. Wandle **kategorische Variablen** in numerische mit One-Hot-Encoding um. Vermeide Multikollinearität.\n",
    "2. Standardisiere alle **numerischen Features**, z. B. mit `StandardScaler` von scikit-learn.\n",
    "3. Speichere die verarbeiteten Features in einer neuen Variable `X_processed`.  Die Labels sollten in diesem DataFrame nicht mehr vorkommen."
   ]
  },
  {
   "cell_type": "code",
   "execution_count": 8,
   "id": "c21b737c",
   "metadata": {},
   "outputs": [],
   "source": [
    "### Hier ist Platz für eure Lösung"
   ]
  },
  {
   "cell_type": "markdown",
   "id": "4c8269e3",
   "metadata": {},
   "source": [
    "### 3.5. Daten in Trainings- und Testmenge aufteilen\n",
    "\n",
    "Teile die Features und Labels in Trainings- und Testdaten auf. Erstelle dafür einen DataFrame `y`, der nur die Zielspalten enthält und benutze `train-test-split` aus sklearn.\n",
    "\n",
    "Anforderungen:\n",
    "* 80 % Training, 20 % Test\n",
    "* Speichere die Arrays als:\n",
    "  - `X_train`, `X_test`\n",
    "  - `y_train`, `y_test`\n",
    "* Setze `random_state=42` für Reproduzierbarkeit"
   ]
  },
  {
   "cell_type": "code",
   "execution_count": 9,
   "id": "78cdf6eb",
   "metadata": {},
   "outputs": [],
   "source": [
    "### Hier ist Platz für eure Lösung"
   ]
  },
  {
   "cell_type": "markdown",
   "id": "90554280",
   "metadata": {},
   "source": [
    "### Überprüfung der Lösung\n",
    "\n",
    "Entkommentiert die Funktion `check_preprocessing_pipeline` und gebt die geforderten Variablen ein, um eure Lösung zu überprüfen."
   ]
  },
  {
   "cell_type": "code",
   "execution_count": null,
   "id": "87c62a92",
   "metadata": {},
   "outputs": [
    {
     "data": {
      "text/plain": [
       "'\\ncheck_preprocessing_pipeline(\\n    df= #df,\\n    X_processed= #X_processed,\\n    X_train= #X_train,\\n    X_test= #X_test,\\n    y_train= #y_train,\\n    y_test= #y_test\\n)\\n'"
      ]
     },
     "execution_count": 10,
     "metadata": {},
     "output_type": "execute_result"
    }
   ],
   "source": [
    "from scripts.checker import check_preprocessing_pipeline\n",
    "\n",
    "'''\n",
    "check_preprocessing_pipeline(\n",
    "    df= #df,\n",
    "    X_processed= #X_processed,\n",
    "    X_train= #X_train,\n",
    "    X_test= #X_test,\n",
    "    y_train= #y_train,\n",
    "    y_test= #y_test\n",
    ")\n",
    "'''"
   ]
  },
  {
   "cell_type": "markdown",
   "id": "52b13d7c",
   "metadata": {},
   "source": [
    "## Aufgabe 4: Logistisches Regressionsmodell trainieren\n",
    "\n",
    "Trainiere ein logistisches Regressionsmodell auf den Trainingsdaten.\n",
    "\n",
    "Anforderungen:\n",
    "* Verwende `LogisticRegression` aus `sklearn.linear_model`.\n",
    "* Trainiere das Modell mit den Features und der Klassifikationszielvariable.\n",
    "* Speichere das Modell in einer Variable `model`."
   ]
  },
  {
   "cell_type": "code",
   "execution_count": 1,
   "id": "eda2910a",
   "metadata": {},
   "outputs": [],
   "source": [
    "# Hier ist Platz für eure Lösung"
   ]
  },
  {
   "cell_type": "markdown",
   "id": "e80dbd85",
   "metadata": {},
   "source": [
    "### Überprüfen der Lösung\n",
    "Entkommentiert die Funktion `check_model_training` und gebt die geforderten Variablen ein, um eure Lösung zu überprüfen."
   ]
  },
  {
   "cell_type": "code",
   "execution_count": null,
   "id": "de25d0d0",
   "metadata": {},
   "outputs": [],
   "source": [
    "from scripts.checker import check_model_training\n",
    "# check_model_training(<>model, X_train, y_train_logreg<>)"
   ]
  },
  {
   "cell_type": "markdown",
   "id": "7f456933",
   "metadata": {},
   "source": [
    "## Aufgabe 5: Scatterplot der Vorhersagen\n",
    "\n",
    "Visualisiere die Modellvorhersagen mithilfe eines Scatterplots:\n",
    "\n",
    "Schritte:\n",
    "1. Wähle zwei numerische Features, z. B. `Kontaktkraft_N` und `Steckzyklen`\n",
    "2. Plotte die Testdaten in diesen zwei Dimensionen\n",
    "3. Farbe: Nutze `model.predict(X_test)` als Farbe (0 oder 1)\n"
   ]
  },
  {
   "cell_type": "code",
   "execution_count": null,
   "id": "1cdd0c03",
   "metadata": {},
   "outputs": [],
   "source": [
    "### Hier ist Platz für eure Lösung"
   ]
  },
  {
   "cell_type": "markdown",
   "id": "a23cc602",
   "metadata": {},
   "source": [
    "## Aufgabe 6: Modell evaluieren\n",
    "\n",
    "Bewerte die Qualität deiner Vorhersagen auf dem Testdatensatz.\n",
    "\n",
    "Berechne folgende Metriken mit scikit-learn:\n",
    "\n",
    "- Accuracy\n",
    "- Precision\n",
    "- Recall\n",
    "- F1-Score\n",
    "- Confusion Matrix\n",
    "- ROC-AUC\n",
    "\n",
    "> Hinweis: Verwende `model.predict(X_test)` für die Klassenvorhersage und `model.predict_proba(X_test)[:, 1]` für Wahrscheinlichkeiten.\n",
    "\n",
    "Speichere die Vorhersagen in `y_pred` und die Wahrscheinlichkeiten in `y_prob`."
   ]
  },
  {
   "cell_type": "code",
   "execution_count": null,
   "id": "b28f53a7",
   "metadata": {},
   "outputs": [],
   "source": [
    "### Hier ist Platz für eure Lösung"
   ]
  },
  {
   "cell_type": "code",
   "execution_count": null,
   "id": "32b19d77",
   "metadata": {},
   "outputs": [],
   "source": [
    "### Überprüft eure Lösung\n",
    "from scripts.checker import check_metrics\n",
    "# check_metrics(<>Hier eure y_test, y_pred, y_prob einfügen<>)"
   ]
  },
  {
   "cell_type": "markdown",
   "id": "e0d61cf6",
   "metadata": {},
   "source": [
    "## Aufgabe 7: Interpretation der Feature-Gewichte\n",
    "\n",
    "Nutze die Koeffizienten des Modells, um zu verstehen, welche Features das Modell beeinflussen.\n",
    "\n",
    "Schritte:\n",
    "1. Erstelle ein DataFrame, das die Features (`X_prepared.columns`) den zugehörigen Koeffizienten (`model.coef_`) gegenüberstellt.\n",
    "2. Sortiere es nach der Stärke des Einflusses (positiv oder negativ).\n",
    "3. Stelle die Top-10 wichtigsten Features in einem Balkendiagramm dar.\n"
   ]
  },
  {
   "cell_type": "code",
   "execution_count": null,
   "id": "24a0c730",
   "metadata": {},
   "outputs": [],
   "source": [
    "### Hier ist Platz für eure Lösung"
   ]
  },
  {
   "cell_type": "code",
   "execution_count": null,
   "id": "505df83a",
   "metadata": {},
   "outputs": [],
   "source": [
    "### Überprüft eure Lösung\n",
    "from scripts.checker import check_coefficients\n",
    "# check_coefficients(<>Hier euer model, X_prepared einfügen<>)"
   ]
  },
  {
   "cell_type": "code",
   "execution_count": null,
   "id": "30170600",
   "metadata": {},
   "outputs": [],
   "source": [
    "# Spalten, die ausgeschlossen werden sollen\n",
    "exclude_cols = [\"Datei\", \"Beschichtung_Ag_Sn\", \"Zwischenschicht_Ni\", \"Normalkraft\", \"Frequenz\", \"Bewegungshub\", \"target\"]\n",
    "\n",
    "# Nur numerische Spalten, die nicht ausgeschlossen sind\n",
    "corr_cols = [col for col in df.select_dtypes(include=[\"number\"]).columns if col not in exclude_cols]\n",
    "\n",
    "sns.heatmap(df[corr_cols].corr(), annot=True, cmap=\"coolwarm\")\n",
    "plt.title(\"Korrelationsmatrix numerischer Merkmale\")\n",
    "\n",
    "sns.scatterplot(x=\"Zyklus_bei_100_mOhm\", y=\"Zyklus_bei_300_mOhm\", data=df, hue=\"target\", style=\"target\", palette=\"Set1\")\n",
    "plt.title(\"Zusammenhang zwischen 100 mΩ und 300 mΩ\")"
   ]
  }
 ],
 "metadata": {
  "kernelspec": {
   "display_name": "scvenv",
   "language": "python",
   "name": "scvenv"
  },
  "language_info": {
   "codemirror_mode": {
    "name": "ipython",
    "version": 3
   },
   "file_extension": ".py",
   "mimetype": "text/x-python",
   "name": "python",
   "nbconvert_exporter": "python",
   "pygments_lexer": "ipython3",
   "version": "3.13.1"
  }
 },
 "nbformat": 4,
 "nbformat_minor": 5
}
