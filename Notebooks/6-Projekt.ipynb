{
 "cells": [
  {
   "cell_type": "markdown",
   "id": "76a39480",
   "metadata": {},
   "source": [
    "# Projekt\n",
    "\n",
    "## 1. Zielsetzung und Datenverständnis\n",
    "\n",
    "In diesem Projekt wenden wir die Konzepte aus den vorherigen Notebooks auf einen echten Datensatz an. Ziel ist es, mithilfe der bisher erlernten Methoden ein einfaches maschinelles Lernmodell zu entwickeln, das auf Basis physikalischer und materialtechnischer Eigenschaften vorhersagen kann, ob eine Steckverbindung im Laufe der Zeit einen kritischen Widerstand überschreiten wird.\n",
    "\n",
    "### Der Kontext\n",
    "\n",
    "Steckverbindungen sind essenzielle Bauteile in vielen technischen Systemen – von der Automobilindustrie bis zur Elektronikfertigung. Mit der Zeit und unter Belastung (z. B. durch Vibration oder Temperaturwechsel) kann der elektrische Kontaktwiderstand steigen. Überschreitet er einen bestimmten Schwellenwert (meist 300 mΩ), gilt die Verbindung typischerweise als defekt.\n",
    "\n",
    "Der vorliegende Datensatz enthält Informationen zu mehreren Steckverbindungen, darunter:\n",
    "\n",
    "* **Materialeigenschaften** wie die Art der Beschichtung (Silber, Zinn) oder das Vorhandensein einer Zwischenschicht (Nickel),\n",
    "* **Prozessparameter** wie Normalkraft, Frequenz und Bewegungshub,\n",
    "* sowie die **Zyklenzahl**, bei der ein bestimmter Widerstandsschwellenwert (z. B. 1 mΩ, 20 mΩ, …, 300 mΩ) erstmals überschritten wurde – falls überhaupt.\n",
    "\n",
    "### Das Ziel\n",
    "\n",
    "Ihr werdet ein Modell entwickeln, das vorhersagt:\n",
    "\n",
    "> **Wird eine Steckverbindung im Laufe der Belastungszyklen einen Widerstand von 300 mΩ überschreiten?**\n",
    "\n",
    "Diese Frage ist eine **binäre Klassifikation**, d. h. wir möchten eine Ja-/Nein-Aussage (1/0) treffen:\n",
    "\n",
    "* **Ja/1:** Der Widerstand wird irgendwann ≥ 300 mΩ.\n",
    "* **Nein/0:** Die Schwelle wird nie überschritten.\n",
    "\n",
    "### Der Datensatz\n",
    "\n",
    "Die Datei `Schwellenwerte-Table 1.csv` enthält pro Zeile eine Steckverbindung mit:\n",
    "\n",
    "* einem **Dateinamen** (`Datei`)\n",
    "* Angaben zu **Material und Prozessparametern**\n",
    "* Zyklenzahlen, bei denen bestimmte **Ohm-Schwellen überschritten wurden** (z. B. `Zyklus_300_mOhm`)\n",
    "\n",
    "  * Ein Wert von **0** bedeutet: Schwelle wurde **nicht** überschritten.\n",
    "  * Ein **NaN** bedeutet: Keine Messung oder keine Angabe vorhanden.\n",
    "\n",
    "\n",
    "## Aufgabe 1: Überblick verschaffen\n",
    "\n",
    "## Aufgabe 2: Fehlende Werte handlen und Datentypen überprüfen\n",
    "\n",
    "## Aufgabe 3: Spalte für Label hinzufügen\n",
    "\n",
    "## Aufgabe 4: One-Hot-Encoding und Standardisierung"
   ]
  },
  {
   "cell_type": "code",
   "execution_count": null,
   "id": "623f36f1",
   "metadata": {},
   "outputs": [],
   "source": []
  }
 ],
 "metadata": {
  "language_info": {
   "name": "python"
  }
 },
 "nbformat": 4,
 "nbformat_minor": 5
}
